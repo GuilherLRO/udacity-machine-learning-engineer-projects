{
 "cells": [
  {
   "attachments": {},
   "cell_type": "markdown",
   "metadata": {},
   "source": [
    "# Image Classification using AWS SageMaker\n",
    "\n",
    "Use AWS Sagemaker to train a pretrained model that can perform image classification by using the Sagemaker profiling, debugger, hyperparameter tuning and other good ML engineering practices. This can be done on either the provided dog breed classication data set or one of your choice.\n",
    "\n",
    "## Project Set Up and Installation\n",
    "Enter AWS through the gateway in the course and open SageMaker Studio. \n",
    "Download the starter files.\n",
    "Download/Make the dataset available. \n",
    "\n",
    "## Dataset\n",
    "The provided dataset is the dogbreed classification dataset which can be found in the classroom.\n",
    "The project is designed to be dataset independent so if there is a dataset that is more interesting or relevant to your work, you are welcome to use it to complete the project.\n",
    "\n",
    "### Access\n",
    "Upload the data to an S3 bucket through the AWS Gateway so that SageMaker has access to the data. \n",
    "\n",
    "## Hyperparameter Tuning\n",
    "### What kind of model did you choose for this experiment and why? \n",
    "\n",
    "I chose ResNet50 as a pretrained model to recognize images. One of the main advantages of the model is the capability to perform in diferent datasets and image sizes.\n",
    "\n",
    "### Give an overview of the types of parameters and their ranges used for the hyperparameter search\n",
    "\n",
    "It was performed a grid search for the learning rate, varying from 0.001 to 0.1, batch size, with values of 32,64 and 128 and number of epochs, being 2 or 3.\n",
    "\n",
    "Remember that your README should include:\n",
    "### A screenshot of completed training jobs\n",
    "\n",
    "![trainingjobs](.\\img1.png)\n",
    "\n",
    "### Logs metrics during the training process\n",
    "![logs](.\\img2.png)\n",
    "\n",
    "### Tune at least two hyperparameters\n",
    "![Tuning](.\\img3.png)\n",
    "\n",
    "### Retrieve the best best hyperparameters from all your training jobs\n",
    "![hp](.\\img4.png)\n",
    "\n",
    "## Debugging and Profiling Results\n",
    "### What are the results/insights did you get by profiling/debugging your model?\n",
    "\n",
    "* The training job started on May 7, 2023, at 16:43:51 and ran for 4088 seconds. During this time, the training loop took 4013 seconds, initialization took 73 seconds, and finalization took 1 second.\n",
    "* Almost a third of the time were not spend on TRAIN or EVAL, and it sugests I verify what happens beteween those.\n",
    "* The StepOutlier rule was the most frequently triggered, processing 212 datapoints and triggered 7 times. The MaxInitializationTime rule also triggered, indicating that initialization took too long.\n",
    "\n",
    "## Model Deployment\n",
    "![predict](.\\img5.png)\n",
    "\n",
    "once the model is deployed, to make a prediction you just need to read the amage and send it to the model and it retrives the output for every breed. the most likely breed is the one whose output value is the greatest."
   ]
  },
  {
   "cell_type": "markdown",
   "metadata": {},
   "source": []
  }
 ],
 "metadata": {
  "language_info": {
   "name": "python"
  },
  "orig_nbformat": 4
 },
 "nbformat": 4,
 "nbformat_minor": 2
}
