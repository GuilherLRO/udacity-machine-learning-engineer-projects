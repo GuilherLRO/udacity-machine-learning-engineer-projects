{
 "cells": [
  {
   "cell_type": "code",
   "execution_count": 3,
   "metadata": {},
   "outputs": [
    {
     "name": "stdout",
     "output_type": "stream",
     "text": [
      "Looking in indexes: https://pypi.org/simple, https://pip.repos.neuron.amazonaws.com\n",
      "Collecting xgboost\n",
      "  Downloading xgboost-1.7.5-py3-none-manylinux2014_x86_64.whl (200.3 MB)\n",
      "\u001b[2K     \u001b[90m━━━━━━━━━━━━━━━━━━━━━━━━━━━━━━━━━━━━━━━\u001b[0m \u001b[32m200.3/200.3 MB\u001b[0m \u001b[31m2.0 MB/s\u001b[0m eta \u001b[36m0:00:00\u001b[0m00:01\u001b[0m00:01\u001b[0m\n",
      "\u001b[?25hRequirement already satisfied: numpy in /home/ec2-user/anaconda3/envs/pytorch_p39/lib/python3.9/site-packages (from xgboost) (1.23.5)\n",
      "Requirement already satisfied: scipy in /home/ec2-user/anaconda3/envs/pytorch_p39/lib/python3.9/site-packages (from xgboost) (1.8.1)\n",
      "Installing collected packages: xgboost\n",
      "Successfully installed xgboost-1.7.5\n",
      "Note: you may need to restart the kernel to use updated packages.\n"
     ]
    }
   ],
   "source": [
    "pip install xgboost"
   ]
  },
  {
   "cell_type": "code",
   "execution_count": 4,
   "metadata": {},
   "outputs": [],
   "source": [
    "import os\n",
    "import numpy as np\n",
    "import pandas as pd\n",
    "import matplotlib.pyplot as plt\n",
    "import seaborn as sns\n",
    "import datetime\n",
    "from xgboost import XGBClassifier\n",
    "\n",
    "from sklearn.ensemble import RandomForestClassifier\n",
    "from sklearn.metrics import accuracy_score, precision_score, recall_score, f1_score, roc_auc_score, roc_curve, confusion_matrix"
   ]
  },
  {
   "cell_type": "markdown",
   "metadata": {},
   "source": [
    "### Our Goal is to deploy a model in sagemaker to predict sucess of an offer ###"
   ]
  },
  {
   "cell_type": "markdown",
   "metadata": {},
   "source": [
    "# 01. Data gathering and cleaning "
   ]
  },
  {
   "cell_type": "code",
   "execution_count": 6,
   "metadata": {},
   "outputs": [
    {
     "name": "stdout",
     "output_type": "stream",
     "text": [
      "['portfolio.json', 'pic2.png', 'transcript.json', 'Starbucks_Capstone_notebook.ipynb', 'Starbucks_Capstone_notebook-zh.ipynb', 'profile.json', 'pic1.png']\n"
     ]
    }
   ],
   "source": [
    "# list all files in the StarterFiles directory\n",
    "print(os.listdir('StarterFiles'))"
   ]
  },
  {
   "cell_type": "markdown",
   "metadata": {},
   "source": [
    "## 1.1. Portfolio\n",
    "- id (string) - offer id\n",
    "- offer_type (string) - type of offer ie BOGO, discount, informational\n",
    "- difficulty (int) - minimum required spend to complete an offer\n",
    "- reward (int) - reward given for completing an offer\n",
    "- duration (int) - time for offer to be open, in days\n",
    "- channels (list of strings)"
   ]
  },
  {
   "cell_type": "code",
   "execution_count": 7,
   "metadata": {},
   "outputs": [
    {
     "data": {
      "text/html": [
       "<div>\n",
       "<style scoped>\n",
       "    .dataframe tbody tr th:only-of-type {\n",
       "        vertical-align: middle;\n",
       "    }\n",
       "\n",
       "    .dataframe tbody tr th {\n",
       "        vertical-align: top;\n",
       "    }\n",
       "\n",
       "    .dataframe thead th {\n",
       "        text-align: right;\n",
       "    }\n",
       "</style>\n",
       "<table border=\"1\" class=\"dataframe\">\n",
       "  <thead>\n",
       "    <tr style=\"text-align: right;\">\n",
       "      <th></th>\n",
       "      <th>reward</th>\n",
       "      <th>channels</th>\n",
       "      <th>difficulty</th>\n",
       "      <th>duration</th>\n",
       "      <th>offer_type</th>\n",
       "      <th>id</th>\n",
       "    </tr>\n",
       "  </thead>\n",
       "  <tbody>\n",
       "    <tr>\n",
       "      <th>0</th>\n",
       "      <td>10</td>\n",
       "      <td>[email, mobile, social]</td>\n",
       "      <td>10</td>\n",
       "      <td>7</td>\n",
       "      <td>bogo</td>\n",
       "      <td>ae264e3637204a6fb9bb56bc8210ddfd</td>\n",
       "    </tr>\n",
       "    <tr>\n",
       "      <th>1</th>\n",
       "      <td>10</td>\n",
       "      <td>[web, email, mobile, social]</td>\n",
       "      <td>10</td>\n",
       "      <td>5</td>\n",
       "      <td>bogo</td>\n",
       "      <td>4d5c57ea9a6940dd891ad53e9dbe8da0</td>\n",
       "    </tr>\n",
       "    <tr>\n",
       "      <th>2</th>\n",
       "      <td>0</td>\n",
       "      <td>[web, email, mobile]</td>\n",
       "      <td>0</td>\n",
       "      <td>4</td>\n",
       "      <td>informational</td>\n",
       "      <td>3f207df678b143eea3cee63160fa8bed</td>\n",
       "    </tr>\n",
       "  </tbody>\n",
       "</table>\n",
       "</div>"
      ],
      "text/plain": [
       "   reward                      channels  difficulty  duration     offer_type  \\\n",
       "0      10       [email, mobile, social]          10         7           bogo   \n",
       "1      10  [web, email, mobile, social]          10         5           bogo   \n",
       "2       0          [web, email, mobile]           0         4  informational   \n",
       "\n",
       "                                 id  \n",
       "0  ae264e3637204a6fb9bb56bc8210ddfd  \n",
       "1  4d5c57ea9a6940dd891ad53e9dbe8da0  \n",
       "2  3f207df678b143eea3cee63160fa8bed  "
      ]
     },
     "execution_count": 7,
     "metadata": {},
     "output_type": "execute_result"
    }
   ],
   "source": [
    "# reading 'portfolio.json' file into a pandas dataframe\n",
    "portfolio_ = pd.read_json('StarterFiles/portfolio.json'  , orient='records', lines=True)\n",
    "portfolio_.head(3)"
   ]
  },
  {
   "cell_type": "code",
   "execution_count": 8,
   "metadata": {},
   "outputs": [
    {
     "name": "stdout",
     "output_type": "stream",
     "text": [
      "<class 'pandas.core.frame.DataFrame'>\n",
      "RangeIndex: 10 entries, 0 to 9\n",
      "Data columns (total 6 columns):\n",
      " #   Column      Non-Null Count  Dtype \n",
      "---  ------      --------------  ----- \n",
      " 0   reward      10 non-null     int64 \n",
      " 1   channels    10 non-null     object\n",
      " 2   difficulty  10 non-null     int64 \n",
      " 3   duration    10 non-null     int64 \n",
      " 4   offer_type  10 non-null     object\n",
      " 5   id          10 non-null     object\n",
      "dtypes: int64(3), object(3)\n",
      "memory usage: 608.0+ bytes\n"
     ]
    }
   ],
   "source": [
    "portfolio_.info()"
   ]
  },
  {
   "cell_type": "code",
   "execution_count": 9,
   "metadata": {},
   "outputs": [
    {
     "data": {
      "text/html": [
       "<div>\n",
       "<style scoped>\n",
       "    .dataframe tbody tr th:only-of-type {\n",
       "        vertical-align: middle;\n",
       "    }\n",
       "\n",
       "    .dataframe tbody tr th {\n",
       "        vertical-align: top;\n",
       "    }\n",
       "\n",
       "    .dataframe thead th {\n",
       "        text-align: right;\n",
       "    }\n",
       "</style>\n",
       "<table border=\"1\" class=\"dataframe\">\n",
       "  <thead>\n",
       "    <tr style=\"text-align: right;\">\n",
       "      <th></th>\n",
       "      <th>offer_reward</th>\n",
       "      <th>difficulty</th>\n",
       "      <th>offer_duration</th>\n",
       "      <th>offer_id</th>\n",
       "      <th>mobile</th>\n",
       "      <th>social</th>\n",
       "      <th>web</th>\n",
       "      <th>bogo</th>\n",
       "      <th>discount</th>\n",
       "      <th>informational</th>\n",
       "    </tr>\n",
       "  </thead>\n",
       "  <tbody>\n",
       "    <tr>\n",
       "      <th>0</th>\n",
       "      <td>10</td>\n",
       "      <td>10</td>\n",
       "      <td>7</td>\n",
       "      <td>ae264e3637204a6fb9bb56bc8210ddfd</td>\n",
       "      <td>1</td>\n",
       "      <td>1</td>\n",
       "      <td>0</td>\n",
       "      <td>1</td>\n",
       "      <td>0</td>\n",
       "      <td>0</td>\n",
       "    </tr>\n",
       "    <tr>\n",
       "      <th>1</th>\n",
       "      <td>10</td>\n",
       "      <td>10</td>\n",
       "      <td>5</td>\n",
       "      <td>4d5c57ea9a6940dd891ad53e9dbe8da0</td>\n",
       "      <td>1</td>\n",
       "      <td>1</td>\n",
       "      <td>1</td>\n",
       "      <td>1</td>\n",
       "      <td>0</td>\n",
       "      <td>0</td>\n",
       "    </tr>\n",
       "    <tr>\n",
       "      <th>2</th>\n",
       "      <td>0</td>\n",
       "      <td>0</td>\n",
       "      <td>4</td>\n",
       "      <td>3f207df678b143eea3cee63160fa8bed</td>\n",
       "      <td>1</td>\n",
       "      <td>0</td>\n",
       "      <td>1</td>\n",
       "      <td>0</td>\n",
       "      <td>0</td>\n",
       "      <td>1</td>\n",
       "    </tr>\n",
       "    <tr>\n",
       "      <th>3</th>\n",
       "      <td>5</td>\n",
       "      <td>5</td>\n",
       "      <td>7</td>\n",
       "      <td>9b98b8c7a33c4b65b9aebfe6a799e6d9</td>\n",
       "      <td>1</td>\n",
       "      <td>0</td>\n",
       "      <td>1</td>\n",
       "      <td>1</td>\n",
       "      <td>0</td>\n",
       "      <td>0</td>\n",
       "    </tr>\n",
       "    <tr>\n",
       "      <th>4</th>\n",
       "      <td>5</td>\n",
       "      <td>20</td>\n",
       "      <td>10</td>\n",
       "      <td>0b1e1539f2cc45b7b9fa7c272da2e1d7</td>\n",
       "      <td>0</td>\n",
       "      <td>0</td>\n",
       "      <td>1</td>\n",
       "      <td>0</td>\n",
       "      <td>1</td>\n",
       "      <td>0</td>\n",
       "    </tr>\n",
       "    <tr>\n",
       "      <th>5</th>\n",
       "      <td>3</td>\n",
       "      <td>7</td>\n",
       "      <td>7</td>\n",
       "      <td>2298d6c36e964ae4a3e7e9706d1fb8c2</td>\n",
       "      <td>1</td>\n",
       "      <td>1</td>\n",
       "      <td>1</td>\n",
       "      <td>0</td>\n",
       "      <td>1</td>\n",
       "      <td>0</td>\n",
       "    </tr>\n",
       "    <tr>\n",
       "      <th>6</th>\n",
       "      <td>2</td>\n",
       "      <td>10</td>\n",
       "      <td>10</td>\n",
       "      <td>fafdcd668e3743c1bb461111dcafc2a4</td>\n",
       "      <td>1</td>\n",
       "      <td>1</td>\n",
       "      <td>1</td>\n",
       "      <td>0</td>\n",
       "      <td>1</td>\n",
       "      <td>0</td>\n",
       "    </tr>\n",
       "    <tr>\n",
       "      <th>7</th>\n",
       "      <td>0</td>\n",
       "      <td>0</td>\n",
       "      <td>3</td>\n",
       "      <td>5a8bc65990b245e5a138643cd4eb9837</td>\n",
       "      <td>1</td>\n",
       "      <td>1</td>\n",
       "      <td>0</td>\n",
       "      <td>0</td>\n",
       "      <td>0</td>\n",
       "      <td>1</td>\n",
       "    </tr>\n",
       "    <tr>\n",
       "      <th>8</th>\n",
       "      <td>5</td>\n",
       "      <td>5</td>\n",
       "      <td>5</td>\n",
       "      <td>f19421c1d4aa40978ebb69ca19b0e20d</td>\n",
       "      <td>1</td>\n",
       "      <td>1</td>\n",
       "      <td>1</td>\n",
       "      <td>1</td>\n",
       "      <td>0</td>\n",
       "      <td>0</td>\n",
       "    </tr>\n",
       "    <tr>\n",
       "      <th>9</th>\n",
       "      <td>2</td>\n",
       "      <td>10</td>\n",
       "      <td>7</td>\n",
       "      <td>2906b810c7d4411798c6938adc9daaa5</td>\n",
       "      <td>1</td>\n",
       "      <td>0</td>\n",
       "      <td>1</td>\n",
       "      <td>0</td>\n",
       "      <td>1</td>\n",
       "      <td>0</td>\n",
       "    </tr>\n",
       "  </tbody>\n",
       "</table>\n",
       "</div>"
      ],
      "text/plain": [
       "   offer_reward  difficulty  offer_duration                          offer_id  \\\n",
       "0            10          10               7  ae264e3637204a6fb9bb56bc8210ddfd   \n",
       "1            10          10               5  4d5c57ea9a6940dd891ad53e9dbe8da0   \n",
       "2             0           0               4  3f207df678b143eea3cee63160fa8bed   \n",
       "3             5           5               7  9b98b8c7a33c4b65b9aebfe6a799e6d9   \n",
       "4             5          20              10  0b1e1539f2cc45b7b9fa7c272da2e1d7   \n",
       "5             3           7               7  2298d6c36e964ae4a3e7e9706d1fb8c2   \n",
       "6             2          10              10  fafdcd668e3743c1bb461111dcafc2a4   \n",
       "7             0           0               3  5a8bc65990b245e5a138643cd4eb9837   \n",
       "8             5           5               5  f19421c1d4aa40978ebb69ca19b0e20d   \n",
       "9             2          10               7  2906b810c7d4411798c6938adc9daaa5   \n",
       "\n",
       "   mobile  social  web  bogo  discount  informational  \n",
       "0       1       1    0     1         0              0  \n",
       "1       1       1    1     1         0              0  \n",
       "2       1       0    1     0         0              1  \n",
       "3       1       0    1     1         0              0  \n",
       "4       0       0    1     0         1              0  \n",
       "5       1       1    1     0         1              0  \n",
       "6       1       1    1     0         1              0  \n",
       "7       1       1    0     0         0              1  \n",
       "8       1       1    1     1         0              0  \n",
       "9       1       0    1     0         1              0  "
      ]
     },
     "execution_count": 9,
     "metadata": {},
     "output_type": "execute_result"
    }
   ],
   "source": [
    "# Data preprocessing\n",
    "\n",
    "# one-hot encoding channels column\n",
    "portfolio = portfolio_.copy()\n",
    "portfolio['channels'] = portfolio['channels'].apply(lambda x: ','.join(map(str, x)))\n",
    "portfolio = portfolio.join(portfolio['channels'].str.get_dummies(','))\n",
    "portfolio.drop('channels', axis=1, inplace=True)\n",
    "\n",
    "# one-hot encoding offer_type column\n",
    "portfolio = portfolio.join(pd.get_dummies(portfolio['offer_type'])) \n",
    "portfolio.drop('offer_type', axis=1, inplace=True)\n",
    "\n",
    "#drop email column since it it contains no useful information\n",
    "portfolio.drop('email', axis=1, inplace=True)\n",
    "\n",
    "#rename id column to offer_id, reward to offer_reward and duration to offer_duration\n",
    "portfolio.rename(columns={'id':'offer_id', 'reward':'offer_reward', 'duration':'offer_duration'}, inplace=True)\n",
    "portfolio"
   ]
  },
  {
   "cell_type": "markdown",
   "metadata": {},
   "source": [
    "## 1.2. Profile\n",
    "- age (int) - age of the customer\n",
    "- became_member_on (int) - date when customer created an app account\n",
    "- gender (str) - gender of the customer (note some entries contain 'O' for other rather than M or F)\n",
    "- id (str) - customer id\n",
    "- income (float) - customer's income"
   ]
  },
  {
   "cell_type": "code",
   "execution_count": 10,
   "metadata": {},
   "outputs": [
    {
     "data": {
      "text/html": [
       "<div>\n",
       "<style scoped>\n",
       "    .dataframe tbody tr th:only-of-type {\n",
       "        vertical-align: middle;\n",
       "    }\n",
       "\n",
       "    .dataframe tbody tr th {\n",
       "        vertical-align: top;\n",
       "    }\n",
       "\n",
       "    .dataframe thead th {\n",
       "        text-align: right;\n",
       "    }\n",
       "</style>\n",
       "<table border=\"1\" class=\"dataframe\">\n",
       "  <thead>\n",
       "    <tr style=\"text-align: right;\">\n",
       "      <th></th>\n",
       "      <th>gender</th>\n",
       "      <th>age</th>\n",
       "      <th>id</th>\n",
       "      <th>became_member_on</th>\n",
       "      <th>income</th>\n",
       "    </tr>\n",
       "  </thead>\n",
       "  <tbody>\n",
       "    <tr>\n",
       "      <th>0</th>\n",
       "      <td>None</td>\n",
       "      <td>118</td>\n",
       "      <td>68be06ca386d4c31939f3a4f0e3dd783</td>\n",
       "      <td>20170212</td>\n",
       "      <td>NaN</td>\n",
       "    </tr>\n",
       "    <tr>\n",
       "      <th>1</th>\n",
       "      <td>F</td>\n",
       "      <td>55</td>\n",
       "      <td>0610b486422d4921ae7d2bf64640c50b</td>\n",
       "      <td>20170715</td>\n",
       "      <td>112000.0</td>\n",
       "    </tr>\n",
       "    <tr>\n",
       "      <th>2</th>\n",
       "      <td>None</td>\n",
       "      <td>118</td>\n",
       "      <td>38fe809add3b4fcf9315a9694bb96ff5</td>\n",
       "      <td>20180712</td>\n",
       "      <td>NaN</td>\n",
       "    </tr>\n",
       "  </tbody>\n",
       "</table>\n",
       "</div>"
      ],
      "text/plain": [
       "  gender  age                                id  became_member_on    income\n",
       "0   None  118  68be06ca386d4c31939f3a4f0e3dd783          20170212       NaN\n",
       "1      F   55  0610b486422d4921ae7d2bf64640c50b          20170715  112000.0\n",
       "2   None  118  38fe809add3b4fcf9315a9694bb96ff5          20180712       NaN"
      ]
     },
     "execution_count": 10,
     "metadata": {},
     "output_type": "execute_result"
    }
   ],
   "source": [
    "# reading 'profile.json' file into a pandas dataframe\n",
    "profile_ = pd.read_json('StarterFiles/profile.json'      , orient='records', lines=True)\n",
    "profile_.head(3)"
   ]
  },
  {
   "cell_type": "code",
   "execution_count": 11,
   "metadata": {},
   "outputs": [
    {
     "name": "stdout",
     "output_type": "stream",
     "text": [
      "<class 'pandas.core.frame.DataFrame'>\n",
      "RangeIndex: 17000 entries, 0 to 16999\n",
      "Data columns (total 5 columns):\n",
      " #   Column            Non-Null Count  Dtype  \n",
      "---  ------            --------------  -----  \n",
      " 0   gender            14825 non-null  object \n",
      " 1   age               17000 non-null  int64  \n",
      " 2   id                17000 non-null  object \n",
      " 3   became_member_on  17000 non-null  int64  \n",
      " 4   income            14825 non-null  float64\n",
      "dtypes: float64(1), int64(2), object(2)\n",
      "memory usage: 664.2+ KB\n"
     ]
    }
   ],
   "source": [
    "profile_.info()"
   ]
  },
  {
   "cell_type": "code",
   "execution_count": 12,
   "metadata": {},
   "outputs": [
    {
     "data": {
      "image/png": "[encoded data removed]",
      "text/plain": [
       "<Figure size 1800x600 with 3 Axes>"
      ]
     },
     "metadata": {},
     "output_type": "display_data"
    }
   ],
   "source": [
    "# Creating a figure with three subplots\n",
    "fig, axes = plt.subplots(1, 3, figsize=(18, 6))\n",
    "\n",
    "# Plotting the distribution of gender column\n",
    "profile_.fillna('NA').groupby('gender').count()['id'].plot(kind='bar', color='#0fa7d1', rot=0, ax=axes[0])\n",
    "axes[0].set_title(\"Gender Distribution\")\n",
    "axes[0].set_xlabel(\"Gender\")\n",
    "\n",
    "# Plotting the age distribution of customers\n",
    "profile_.age.hist(bins=40, color='#0fa7d1', grid=False, edgecolor='white', ax=axes[1])\n",
    "axes[1].set_title(\"Age Distribution\")\n",
    "axes[1].set_xlabel(\"Age\")\n",
    "\n",
    "# Plotting the income distribution of customers\n",
    "profile_.income.hist(bins=40, color='#0fa7d1', grid=False, edgecolor='white', ax=axes[2])\n",
    "axes[2].set_title(\"Income Distribution\")\n",
    "axes[2].set_xlabel(\"Income\")\n",
    "\n",
    "# Adjusting spacing between subplots\n",
    "plt.tight_layout()\n",
    "\n",
    "# Displaying the figure\n",
    "plt.show()\n"
   ]
  },
  {
   "cell_type": "code",
   "execution_count": 13,
   "metadata": {},
   "outputs": [
    {
     "data": {
      "text/html": [
       "<div>\n",
       "<style scoped>\n",
       "    .dataframe tbody tr th:only-of-type {\n",
       "        vertical-align: middle;\n",
       "    }\n",
       "\n",
       "    .dataframe tbody tr th {\n",
       "        vertical-align: top;\n",
       "    }\n",
       "\n",
       "    .dataframe thead th {\n",
       "        text-align: right;\n",
       "    }\n",
       "</style>\n",
       "<table border=\"1\" class=\"dataframe\">\n",
       "  <thead>\n",
       "    <tr style=\"text-align: right;\">\n",
       "      <th>gender</th>\n",
       "      <th>NA</th>\n",
       "    </tr>\n",
       "    <tr>\n",
       "      <th>age</th>\n",
       "      <th></th>\n",
       "    </tr>\n",
       "  </thead>\n",
       "  <tbody>\n",
       "    <tr>\n",
       "      <th>118</th>\n",
       "      <td>2175</td>\n",
       "    </tr>\n",
       "  </tbody>\n",
       "</table>\n",
       "</div>"
      ],
      "text/plain": [
       "gender    NA\n",
       "age         \n",
       "118     2175"
      ]
     },
     "execution_count": 13,
     "metadata": {},
     "output_type": "execute_result"
    }
   ],
   "source": [
    "# Since there is incomplete data over the gender and some a sinilar amout of age outliers, let's veryfy if they are the same customers\n",
    "df_temp_outliers = profile_[profile_.isnull().any(axis=1)].fillna('NA')\n",
    "pd.crosstab(df_temp_outliers['age'], df_temp_outliers['gender'])"
   ]
  },
  {
   "cell_type": "code",
   "execution_count": 14,
   "metadata": {},
   "outputs": [
    {
     "data": {
      "text/html": [
       "<div>\n",
       "<style scoped>\n",
       "    .dataframe tbody tr th:only-of-type {\n",
       "        vertical-align: middle;\n",
       "    }\n",
       "\n",
       "    .dataframe tbody tr th {\n",
       "        vertical-align: top;\n",
       "    }\n",
       "\n",
       "    .dataframe thead th {\n",
       "        text-align: right;\n",
       "    }\n",
       "</style>\n",
       "<table border=\"1\" class=\"dataframe\">\n",
       "  <thead>\n",
       "    <tr style=\"text-align: right;\">\n",
       "      <th></th>\n",
       "      <th>gender</th>\n",
       "      <th>age</th>\n",
       "      <th>customer_id</th>\n",
       "      <th>became_member_date</th>\n",
       "      <th>customer_income</th>\n",
       "      <th>imcomplete_data</th>\n",
       "      <th>memberdays</th>\n",
       "      <th>gender_M</th>\n",
       "      <th>gender_F</th>\n",
       "      <th>gender_0</th>\n",
       "    </tr>\n",
       "  </thead>\n",
       "  <tbody>\n",
       "    <tr>\n",
       "      <th>0</th>\n",
       "      <td>None</td>\n",
       "      <td>118</td>\n",
       "      <td>68be06ca386d4c31939f3a4f0e3dd783</td>\n",
       "      <td>2017-02-12</td>\n",
       "      <td>NaN</td>\n",
       "      <td>True</td>\n",
       "      <td>2293</td>\n",
       "      <td>0</td>\n",
       "      <td>0</td>\n",
       "      <td>0</td>\n",
       "    </tr>\n",
       "    <tr>\n",
       "      <th>1</th>\n",
       "      <td>F</td>\n",
       "      <td>55</td>\n",
       "      <td>0610b486422d4921ae7d2bf64640c50b</td>\n",
       "      <td>2017-07-15</td>\n",
       "      <td>112000.0</td>\n",
       "      <td>False</td>\n",
       "      <td>2140</td>\n",
       "      <td>0</td>\n",
       "      <td>1</td>\n",
       "      <td>0</td>\n",
       "    </tr>\n",
       "    <tr>\n",
       "      <th>2</th>\n",
       "      <td>None</td>\n",
       "      <td>118</td>\n",
       "      <td>38fe809add3b4fcf9315a9694bb96ff5</td>\n",
       "      <td>2018-07-12</td>\n",
       "      <td>NaN</td>\n",
       "      <td>True</td>\n",
       "      <td>1778</td>\n",
       "      <td>0</td>\n",
       "      <td>0</td>\n",
       "      <td>0</td>\n",
       "    </tr>\n",
       "  </tbody>\n",
       "</table>\n",
       "</div>"
      ],
      "text/plain": [
       "  gender  age                       customer_id became_member_date  \\\n",
       "0   None  118  68be06ca386d4c31939f3a4f0e3dd783         2017-02-12   \n",
       "1      F   55  0610b486422d4921ae7d2bf64640c50b         2017-07-15   \n",
       "2   None  118  38fe809add3b4fcf9315a9694bb96ff5         2018-07-12   \n",
       "\n",
       "   customer_income  imcomplete_data  memberdays  gender_M  gender_F  gender_0  \n",
       "0              NaN             True        2293         0         0         0  \n",
       "1         112000.0            False        2140         0         1         0  \n",
       "2              NaN             True        1778         0         0         0  "
      ]
     },
     "execution_count": 14,
     "metadata": {},
     "output_type": "execute_result"
    }
   ],
   "source": [
    "# Data preprocessing\n",
    "\n",
    "profile = profile_.copy()\n",
    "# Since the age outliers and missing age values are the same customers, we lets identify them\n",
    "\n",
    "# identify the age outliers\n",
    "profile['imcomplete_data'] = profile['gender'].isnull()\n",
    "\n",
    "#rename id column to customer_id, became_member_on to became_member_date and income to customer_income\n",
    "profile.rename(columns={'id':'customer_id', 'became_member_on':'became_member_date', 'income':'customer_income'}, inplace=True)\n",
    "\n",
    "# adjust became_member_date from string in format YYYYMMDD to datetime\n",
    "profile['became_member_date'] = pd.to_datetime(profile['became_member_date'], format='%Y%m%d')\n",
    "\n",
    "# create a new column with the number of days since the customer became a member\n",
    "profile['memberdays'] = (datetime.datetime.today() - profile['became_member_date']).dt.days\n",
    "\n",
    "# one hot encoding gender column\n",
    "profile['gender_M'] = profile['gender'].apply(lambda x: 1 if x == 'M' else 0)\n",
    "profile['gender_F'] = profile['gender'].apply(lambda x: 1 if x == 'F' else 0)\n",
    "profile['gender_0'] = profile['gender'].apply(lambda x: 1 if x == '0' else 0)\n",
    "\n",
    "\n",
    "profile.head(3)"
   ]
  },
  {
   "cell_type": "markdown",
   "metadata": {},
   "source": [
    "## 1.3. Transcript \n",
    "- event (str) - record description (ie transaction, offer received, offer viewed, etc.)\n",
    "- person (str) - customer id\n",
    "- time (int) - time in hours since start of test. The data begins at time t=0\n",
    "- value - (dict of strings) - either an offer id or transaction amount depending on the record"
   ]
  },
  {
   "cell_type": "code",
   "execution_count": 15,
   "metadata": {},
   "outputs": [],
   "source": [
    "import os\n",
    "import numpy as np\n",
    "import pandas as pd\n",
    "import matplotlib.pyplot as plt\n",
    "import datetime"
   ]
  },
  {
   "cell_type": "code",
   "execution_count": 16,
   "metadata": {},
   "outputs": [
    {
     "data": {
      "text/html": [
       "<div>\n",
       "<style scoped>\n",
       "    .dataframe tbody tr th:only-of-type {\n",
       "        vertical-align: middle;\n",
       "    }\n",
       "\n",
       "    .dataframe tbody tr th {\n",
       "        vertical-align: top;\n",
       "    }\n",
       "\n",
       "    .dataframe thead th {\n",
       "        text-align: right;\n",
       "    }\n",
       "</style>\n",
       "<table border=\"1\" class=\"dataframe\">\n",
       "  <thead>\n",
       "    <tr style=\"text-align: right;\">\n",
       "      <th></th>\n",
       "      <th>person</th>\n",
       "      <th>event</th>\n",
       "      <th>value</th>\n",
       "      <th>time</th>\n",
       "    </tr>\n",
       "  </thead>\n",
       "  <tbody>\n",
       "    <tr>\n",
       "      <th>0</th>\n",
       "      <td>78afa995795e4d85b5d9ceeca43f5fef</td>\n",
       "      <td>offer received</td>\n",
       "      <td>{'offer id': '9b98b8c7a33c4b65b9aebfe6a799e6d9'}</td>\n",
       "      <td>0</td>\n",
       "    </tr>\n",
       "    <tr>\n",
       "      <th>1</th>\n",
       "      <td>a03223e636434f42ac4c3df47e8bac43</td>\n",
       "      <td>offer received</td>\n",
       "      <td>{'offer id': '0b1e1539f2cc45b7b9fa7c272da2e1d7'}</td>\n",
       "      <td>0</td>\n",
       "    </tr>\n",
       "    <tr>\n",
       "      <th>2</th>\n",
       "      <td>e2127556f4f64592b11af22de27a7932</td>\n",
       "      <td>offer received</td>\n",
       "      <td>{'offer id': '2906b810c7d4411798c6938adc9daaa5'}</td>\n",
       "      <td>0</td>\n",
       "    </tr>\n",
       "    <tr>\n",
       "      <th>3</th>\n",
       "      <td>8ec6ce2a7e7949b1bf142def7d0e0586</td>\n",
       "      <td>offer received</td>\n",
       "      <td>{'offer id': 'fafdcd668e3743c1bb461111dcafc2a4'}</td>\n",
       "      <td>0</td>\n",
       "    </tr>\n",
       "    <tr>\n",
       "      <th>4</th>\n",
       "      <td>68617ca6246f4fbc85e91a2a49552598</td>\n",
       "      <td>offer received</td>\n",
       "      <td>{'offer id': '4d5c57ea9a6940dd891ad53e9dbe8da0'}</td>\n",
       "      <td>0</td>\n",
       "    </tr>\n",
       "  </tbody>\n",
       "</table>\n",
       "</div>"
      ],
      "text/plain": [
       "                             person           event  \\\n",
       "0  78afa995795e4d85b5d9ceeca43f5fef  offer received   \n",
       "1  a03223e636434f42ac4c3df47e8bac43  offer received   \n",
       "2  e2127556f4f64592b11af22de27a7932  offer received   \n",
       "3  8ec6ce2a7e7949b1bf142def7d0e0586  offer received   \n",
       "4  68617ca6246f4fbc85e91a2a49552598  offer received   \n",
       "\n",
       "                                              value  time  \n",
       "0  {'offer id': '9b98b8c7a33c4b65b9aebfe6a799e6d9'}     0  \n",
       "1  {'offer id': '0b1e1539f2cc45b7b9fa7c272da2e1d7'}     0  \n",
       "2  {'offer id': '2906b810c7d4411798c6938adc9daaa5'}     0  \n",
       "3  {'offer id': 'fafdcd668e3743c1bb461111dcafc2a4'}     0  \n",
       "4  {'offer id': '4d5c57ea9a6940dd891ad53e9dbe8da0'}     0  "
      ]
     },
     "execution_count": 16,
     "metadata": {},
     "output_type": "execute_result"
    }
   ],
   "source": [
    "# reading 'transcript.json' file into a pandas dataframe\n",
    "transcript_ = pd.read_json('StarterFiles/transcript.json', orient='records', lines=True)\n",
    "transcript_.head(5)"
   ]
  },
  {
   "cell_type": "code",
   "execution_count": 17,
   "metadata": {},
   "outputs": [
    {
     "name": "stdout",
     "output_type": "stream",
     "text": [
      "<class 'pandas.core.frame.DataFrame'>\n",
      "RangeIndex: 306534 entries, 0 to 306533\n",
      "Data columns (total 4 columns):\n",
      " #   Column  Non-Null Count   Dtype \n",
      "---  ------  --------------   ----- \n",
      " 0   person  306534 non-null  object\n",
      " 1   event   306534 non-null  object\n",
      " 2   value   306534 non-null  object\n",
      " 3   time    306534 non-null  int64 \n",
      "dtypes: int64(1), object(3)\n",
      "memory usage: 9.4+ MB\n"
     ]
    }
   ],
   "source": [
    "transcript_.info()"
   ]
  },
  {
   "cell_type": "code",
   "execution_count": 18,
   "metadata": {},
   "outputs": [
    {
     "data": {
      "text/html": [
       "<div>\n",
       "<style scoped>\n",
       "    .dataframe tbody tr th:only-of-type {\n",
       "        vertical-align: middle;\n",
       "    }\n",
       "\n",
       "    .dataframe tbody tr th {\n",
       "        vertical-align: top;\n",
       "    }\n",
       "\n",
       "    .dataframe thead th {\n",
       "        text-align: right;\n",
       "    }\n",
       "</style>\n",
       "<table border=\"1\" class=\"dataframe\">\n",
       "  <thead>\n",
       "    <tr style=\"text-align: right;\">\n",
       "      <th></th>\n",
       "      <th>person</th>\n",
       "      <th>event</th>\n",
       "      <th>value</th>\n",
       "      <th>time</th>\n",
       "    </tr>\n",
       "  </thead>\n",
       "  <tbody>\n",
       "    <tr>\n",
       "      <th>12658</th>\n",
       "      <td>9fa9ae8f57894cc9a3b8a9bbe0fc1b2f</td>\n",
       "      <td>offer completed</td>\n",
       "      <td>{'offer_id': '2906b810c7d4411798c6938adc9daaa5...</td>\n",
       "      <td>0</td>\n",
       "    </tr>\n",
       "    <tr>\n",
       "      <th>12672</th>\n",
       "      <td>fe97aa22dd3e48c8b143116a8403dd52</td>\n",
       "      <td>offer completed</td>\n",
       "      <td>{'offer_id': 'fafdcd668e3743c1bb461111dcafc2a4...</td>\n",
       "      <td>0</td>\n",
       "    </tr>\n",
       "    <tr>\n",
       "      <th>12679</th>\n",
       "      <td>629fc02d56414d91bca360decdfa9288</td>\n",
       "      <td>offer completed</td>\n",
       "      <td>{'offer_id': '9b98b8c7a33c4b65b9aebfe6a799e6d9...</td>\n",
       "      <td>0</td>\n",
       "    </tr>\n",
       "  </tbody>\n",
       "</table>\n",
       "</div>"
      ],
      "text/plain": [
       "                                 person            event  \\\n",
       "12658  9fa9ae8f57894cc9a3b8a9bbe0fc1b2f  offer completed   \n",
       "12672  fe97aa22dd3e48c8b143116a8403dd52  offer completed   \n",
       "12679  629fc02d56414d91bca360decdfa9288  offer completed   \n",
       "\n",
       "                                                   value  time  \n",
       "12658  {'offer_id': '2906b810c7d4411798c6938adc9daaa5...     0  \n",
       "12672  {'offer_id': 'fafdcd668e3743c1bb461111dcafc2a4...     0  \n",
       "12679  {'offer_id': '9b98b8c7a33c4b65b9aebfe6a799e6d9...     0  "
      ]
     },
     "execution_count": 18,
     "metadata": {},
     "output_type": "execute_result"
    }
   ],
   "source": [
    "transcript_.query('event == \"offer completed\"').head(3)"
   ]
  },
  {
   "cell_type": "code",
   "execution_count": 19,
   "metadata": {},
   "outputs": [
    {
     "data": {
      "text/plain": [
       "Text(0.5, 1.0, 'Quantity of events by type')"
      ]
     },
     "execution_count": 19,
     "metadata": {},
     "output_type": "execute_result"
    },
    {
     "data": {
      "image/png": "[encoded data removed]",
      "text/plain": [
       "<Figure size 600x300 with 1 Axes>"
      ]
     },
     "metadata": {},
     "output_type": "display_data"
    }
   ],
   "source": [
    "# quantity of events by type\n",
    "transcript_.groupby('event').count()['person'].plot(kind = 'bar', figsize = (6, 3), color = '#0fa7d1', rot = 0)\n",
    "plt.title('Quantity of events by type')"
   ]
  },
  {
   "cell_type": "code",
   "execution_count": 20,
   "metadata": {},
   "outputs": [
    {
     "data": {
      "text/html": [
       "<div>\n",
       "<style scoped>\n",
       "    .dataframe tbody tr th:only-of-type {\n",
       "        vertical-align: middle;\n",
       "    }\n",
       "\n",
       "    .dataframe tbody tr th {\n",
       "        vertical-align: top;\n",
       "    }\n",
       "\n",
       "    .dataframe thead th {\n",
       "        text-align: right;\n",
       "    }\n",
       "</style>\n",
       "<table border=\"1\" class=\"dataframe\">\n",
       "  <thead>\n",
       "    <tr style=\"text-align: right;\">\n",
       "      <th></th>\n",
       "      <th>customer_id</th>\n",
       "      <th>event</th>\n",
       "      <th>value</th>\n",
       "      <th>time</th>\n",
       "      <th>offer_id</th>\n",
       "      <th>amount</th>\n",
       "      <th>received</th>\n",
       "      <th>viewed</th>\n",
       "      <th>transaction</th>\n",
       "      <th>completed</th>\n",
       "    </tr>\n",
       "  </thead>\n",
       "  <tbody>\n",
       "    <tr>\n",
       "      <th>12658</th>\n",
       "      <td>9fa9ae8f57894cc9a3b8a9bbe0fc1b2f</td>\n",
       "      <td>offer completed</td>\n",
       "      <td>{'offer_id': '2906b810c7d4411798c6938adc9daaa5...</td>\n",
       "      <td>0</td>\n",
       "      <td>2906b810c7d4411798c6938adc9daaa5</td>\n",
       "      <td>NaN</td>\n",
       "      <td>0</td>\n",
       "      <td>0</td>\n",
       "      <td>0</td>\n",
       "      <td>1</td>\n",
       "    </tr>\n",
       "    <tr>\n",
       "      <th>12672</th>\n",
       "      <td>fe97aa22dd3e48c8b143116a8403dd52</td>\n",
       "      <td>offer completed</td>\n",
       "      <td>{'offer_id': 'fafdcd668e3743c1bb461111dcafc2a4...</td>\n",
       "      <td>0</td>\n",
       "      <td>fafdcd668e3743c1bb461111dcafc2a4</td>\n",
       "      <td>NaN</td>\n",
       "      <td>0</td>\n",
       "      <td>0</td>\n",
       "      <td>0</td>\n",
       "      <td>1</td>\n",
       "    </tr>\n",
       "    <tr>\n",
       "      <th>12679</th>\n",
       "      <td>629fc02d56414d91bca360decdfa9288</td>\n",
       "      <td>offer completed</td>\n",
       "      <td>{'offer_id': '9b98b8c7a33c4b65b9aebfe6a799e6d9...</td>\n",
       "      <td>0</td>\n",
       "      <td>9b98b8c7a33c4b65b9aebfe6a799e6d9</td>\n",
       "      <td>NaN</td>\n",
       "      <td>0</td>\n",
       "      <td>0</td>\n",
       "      <td>0</td>\n",
       "      <td>1</td>\n",
       "    </tr>\n",
       "  </tbody>\n",
       "</table>\n",
       "</div>"
      ],
      "text/plain": [
       "                            customer_id            event  \\\n",
       "12658  9fa9ae8f57894cc9a3b8a9bbe0fc1b2f  offer completed   \n",
       "12672  fe97aa22dd3e48c8b143116a8403dd52  offer completed   \n",
       "12679  629fc02d56414d91bca360decdfa9288  offer completed   \n",
       "\n",
       "                                                   value  time  \\\n",
       "12658  {'offer_id': '2906b810c7d4411798c6938adc9daaa5...     0   \n",
       "12672  {'offer_id': 'fafdcd668e3743c1bb461111dcafc2a4...     0   \n",
       "12679  {'offer_id': '9b98b8c7a33c4b65b9aebfe6a799e6d9...     0   \n",
       "\n",
       "                               offer_id  amount  received  viewed  \\\n",
       "12658  2906b810c7d4411798c6938adc9daaa5     NaN         0       0   \n",
       "12672  fafdcd668e3743c1bb461111dcafc2a4     NaN         0       0   \n",
       "12679  9b98b8c7a33c4b65b9aebfe6a799e6d9     NaN         0       0   \n",
       "\n",
       "       transaction  completed  \n",
       "12658            0          1  \n",
       "12672            0          1  \n",
       "12679            0          1  "
      ]
     },
     "execution_count": 20,
     "metadata": {},
     "output_type": "execute_result"
    }
   ],
   "source": [
    "# Data preprocessing\n",
    "transcript = transcript_.copy()\n",
    "#rename person column to customer_id\n",
    "transcript.rename(columns={'person':'customer_id'}, inplace=True)\n",
    "\n",
    "transcript['offer_id'] = transcript['value'].apply(lambda x: x.get('offer id')  if x.get('offer id') != None else x.get('offer_id'))\n",
    "transcript['amount'] = transcript['value'].apply(lambda x: x.get('amount'))\n",
    "# transcript.drop('value', axis=1, inplace=True)\n",
    "\n",
    "# one-hot encoding event column with a for loop\n",
    "for event in transcript['event'].drop_duplicates().reset_index(drop=True):\n",
    "    try:\n",
    "        transcript[event.split(' ')[1]] = transcript['event'].apply(lambda x: 1 if x == event else 0)\n",
    "    except:\n",
    "        transcript[event.split(' ')[0]] = transcript['event'].apply(lambda x: 1 if x == event else 0)\n",
    "\n",
    "transcript.query('event == \"offer completed\"').head(3)"
   ]
  },
  {
   "cell_type": "code",
   "execution_count": 21,
   "metadata": {},
   "outputs": [],
   "source": [
    "# https://towardsdatascience.com/starbucks-capstone-challenge-35e3b8c6b328\n",
    "# https://medium.com/swlh/starbucks-capstone-challenge-350575a03f9a\n"
   ]
  },
  {
   "cell_type": "code",
   "execution_count": 22,
   "metadata": {},
   "outputs": [],
   "source": [
    "#plotting the distribution of the amount column"
   ]
  },
  {
   "cell_type": "markdown",
   "metadata": {},
   "source": [
    "# 02. Buiding offer dataset"
   ]
  },
  {
   "cell_type": "code",
   "execution_count": 24,
   "metadata": {},
   "outputs": [
    {
     "data": {
      "text/plain": [
       "<AxesSubplot:>"
      ]
     },
     "execution_count": 24,
     "metadata": {},
     "output_type": "execute_result"
    },
    {
     "data": {
      "image/png": "[encoded data removed]",
      "text/plain": [
       "<Figure size 600x300 with 1 Axes>"
      ]
     },
     "metadata": {},
     "output_type": "display_data"
    }
   ],
   "source": [
    "transcript[['completed', 'received', 'viewed']].sum().plot(kind='bar', figsize=(6, 3), color='#0fa7d1', rot=0)"
   ]
  },
  {
   "cell_type": "code",
   "execution_count": 25,
   "metadata": {},
   "outputs": [],
   "source": [
    "offers = transcript.copy().groupby(['customer_id', 'offer_id']).sum()[[ 'viewed',  'received', 'completed', 'transaction']].reset_index().reset_index().sample(frac=1).reset_index(drop=True)\n",
    "offers['percent_completed'] = offers['completed'] / offers['received']"
   ]
  },
  {
   "cell_type": "code",
   "execution_count": 26,
   "metadata": {},
   "outputs": [
    {
     "data": {
      "text/plain": [
       "index                1.0\n",
       "customer_id          1.0\n",
       "offer_id             1.0\n",
       "viewed               1.0\n",
       "received             1.0\n",
       "completed            1.0\n",
       "transaction          1.0\n",
       "percent_completed    1.0\n",
       "dtype: float64"
      ]
     },
     "execution_count": 26,
     "metadata": {},
     "output_type": "execute_result"
    }
   ],
   "source": [
    "offers.query('completed <= received').count() / offers.count()"
   ]
  },
  {
   "cell_type": "code",
   "execution_count": 27,
   "metadata": {},
   "outputs": [
    {
     "data": {
      "text/plain": [
       "(55222, 14)"
      ]
     },
     "execution_count": 27,
     "metadata": {},
     "output_type": "execute_result"
    }
   ],
   "source": [
    "#joined df\n",
    "df_ = offers.merge(portfolio, on='offer_id', how='inner').merge(profile, on='customer_id', how='inner')\n",
    "\n",
    "df_['offer_completed'] = df_['percent_completed'].apply(lambda x: 1 if x > 0.5 else 0)\n",
    "df_['offer_recieved']  = df_['received'].apply(lambda x: 1 if x > 0 else 0)\n",
    "df_['transaction_made'] = df_['transaction'].apply(lambda x: 1 if x > 0 else 0)\n",
    "\n",
    "df_ =df_.query('offer_recieved == 1')\n",
    "\n",
    "df_ = df_[df_['imcomplete_data'] == False]\n",
    "df_.drop(['imcomplete_data', 'became_member_date','gender'], axis=1, inplace=True)\n",
    "df_.drop(['gender_0'], axis=1, inplace=True)\n",
    "df_.drop(['customer_id', 'offer_id'], axis=1, inplace=True)\n",
    "df_.drop(['index','viewed','received','completed','transaction','percent_completed','transaction_made','offer_recieved','gender_F'], axis=1, inplace=True)\n",
    "\n",
    "df_.shape"
   ]
  },
  {
   "cell_type": "code",
   "execution_count": 28,
   "metadata": {},
   "outputs": [
    {
     "data": {
      "text/html": [
       "<div>\n",
       "<style scoped>\n",
       "    .dataframe tbody tr th:only-of-type {\n",
       "        vertical-align: middle;\n",
       "    }\n",
       "\n",
       "    .dataframe tbody tr th {\n",
       "        vertical-align: top;\n",
       "    }\n",
       "\n",
       "    .dataframe thead th {\n",
       "        text-align: right;\n",
       "    }\n",
       "</style>\n",
       "<table border=\"1\" class=\"dataframe\">\n",
       "  <thead>\n",
       "    <tr style=\"text-align: right;\">\n",
       "      <th></th>\n",
       "      <th>offer_reward</th>\n",
       "      <th>difficulty</th>\n",
       "      <th>offer_duration</th>\n",
       "      <th>mobile</th>\n",
       "      <th>social</th>\n",
       "      <th>web</th>\n",
       "      <th>bogo</th>\n",
       "      <th>discount</th>\n",
       "      <th>informational</th>\n",
       "      <th>age</th>\n",
       "      <th>customer_income</th>\n",
       "      <th>memberdays</th>\n",
       "      <th>gender_M</th>\n",
       "      <th>offer_completed</th>\n",
       "    </tr>\n",
       "  </thead>\n",
       "  <tbody>\n",
       "    <tr>\n",
       "      <th>0</th>\n",
       "      <td>0</td>\n",
       "      <td>0</td>\n",
       "      <td>3</td>\n",
       "      <td>1</td>\n",
       "      <td>1</td>\n",
       "      <td>0</td>\n",
       "      <td>0</td>\n",
       "      <td>0</td>\n",
       "      <td>1</td>\n",
       "      <td>84</td>\n",
       "      <td>52000.0</td>\n",
       "      <td>2428</td>\n",
       "      <td>0</td>\n",
       "      <td>0</td>\n",
       "    </tr>\n",
       "    <tr>\n",
       "      <th>1</th>\n",
       "      <td>10</td>\n",
       "      <td>10</td>\n",
       "      <td>5</td>\n",
       "      <td>1</td>\n",
       "      <td>1</td>\n",
       "      <td>1</td>\n",
       "      <td>1</td>\n",
       "      <td>0</td>\n",
       "      <td>0</td>\n",
       "      <td>84</td>\n",
       "      <td>52000.0</td>\n",
       "      <td>2428</td>\n",
       "      <td>0</td>\n",
       "      <td>1</td>\n",
       "    </tr>\n",
       "    <tr>\n",
       "      <th>2</th>\n",
       "      <td>2</td>\n",
       "      <td>10</td>\n",
       "      <td>10</td>\n",
       "      <td>1</td>\n",
       "      <td>1</td>\n",
       "      <td>1</td>\n",
       "      <td>0</td>\n",
       "      <td>1</td>\n",
       "      <td>0</td>\n",
       "      <td>84</td>\n",
       "      <td>52000.0</td>\n",
       "      <td>2428</td>\n",
       "      <td>0</td>\n",
       "      <td>1</td>\n",
       "    </tr>\n",
       "    <tr>\n",
       "      <th>3</th>\n",
       "      <td>5</td>\n",
       "      <td>5</td>\n",
       "      <td>5</td>\n",
       "      <td>1</td>\n",
       "      <td>1</td>\n",
       "      <td>1</td>\n",
       "      <td>1</td>\n",
       "      <td>0</td>\n",
       "      <td>0</td>\n",
       "      <td>84</td>\n",
       "      <td>52000.0</td>\n",
       "      <td>2428</td>\n",
       "      <td>0</td>\n",
       "      <td>1</td>\n",
       "    </tr>\n",
       "    <tr>\n",
       "      <th>4</th>\n",
       "      <td>2</td>\n",
       "      <td>10</td>\n",
       "      <td>7</td>\n",
       "      <td>1</td>\n",
       "      <td>0</td>\n",
       "      <td>1</td>\n",
       "      <td>0</td>\n",
       "      <td>1</td>\n",
       "      <td>0</td>\n",
       "      <td>84</td>\n",
       "      <td>52000.0</td>\n",
       "      <td>2428</td>\n",
       "      <td>0</td>\n",
       "      <td>1</td>\n",
       "    </tr>\n",
       "    <tr>\n",
       "      <th>...</th>\n",
       "      <td>...</td>\n",
       "      <td>...</td>\n",
       "      <td>...</td>\n",
       "      <td>...</td>\n",
       "      <td>...</td>\n",
       "      <td>...</td>\n",
       "      <td>...</td>\n",
       "      <td>...</td>\n",
       "      <td>...</td>\n",
       "      <td>...</td>\n",
       "      <td>...</td>\n",
       "      <td>...</td>\n",
       "      <td>...</td>\n",
       "      <td>...</td>\n",
       "    </tr>\n",
       "    <tr>\n",
       "      <th>63283</th>\n",
       "      <td>5</td>\n",
       "      <td>20</td>\n",
       "      <td>10</td>\n",
       "      <td>0</td>\n",
       "      <td>0</td>\n",
       "      <td>1</td>\n",
       "      <td>0</td>\n",
       "      <td>1</td>\n",
       "      <td>0</td>\n",
       "      <td>20</td>\n",
       "      <td>49000.0</td>\n",
       "      <td>2042</td>\n",
       "      <td>0</td>\n",
       "      <td>1</td>\n",
       "    </tr>\n",
       "    <tr>\n",
       "      <th>63284</th>\n",
       "      <td>5</td>\n",
       "      <td>20</td>\n",
       "      <td>10</td>\n",
       "      <td>0</td>\n",
       "      <td>0</td>\n",
       "      <td>1</td>\n",
       "      <td>0</td>\n",
       "      <td>1</td>\n",
       "      <td>0</td>\n",
       "      <td>47</td>\n",
       "      <td>48000.0</td>\n",
       "      <td>2073</td>\n",
       "      <td>0</td>\n",
       "      <td>0</td>\n",
       "    </tr>\n",
       "    <tr>\n",
       "      <th>63285</th>\n",
       "      <td>5</td>\n",
       "      <td>20</td>\n",
       "      <td>10</td>\n",
       "      <td>0</td>\n",
       "      <td>0</td>\n",
       "      <td>1</td>\n",
       "      <td>0</td>\n",
       "      <td>1</td>\n",
       "      <td>0</td>\n",
       "      <td>22</td>\n",
       "      <td>65000.0</td>\n",
       "      <td>2585</td>\n",
       "      <td>0</td>\n",
       "      <td>1</td>\n",
       "    </tr>\n",
       "    <tr>\n",
       "      <th>63286</th>\n",
       "      <td>5</td>\n",
       "      <td>20</td>\n",
       "      <td>10</td>\n",
       "      <td>0</td>\n",
       "      <td>0</td>\n",
       "      <td>1</td>\n",
       "      <td>0</td>\n",
       "      <td>1</td>\n",
       "      <td>0</td>\n",
       "      <td>64</td>\n",
       "      <td>93000.0</td>\n",
       "      <td>2826</td>\n",
       "      <td>0</td>\n",
       "      <td>0</td>\n",
       "    </tr>\n",
       "    <tr>\n",
       "      <th>63287</th>\n",
       "      <td>5</td>\n",
       "      <td>20</td>\n",
       "      <td>10</td>\n",
       "      <td>0</td>\n",
       "      <td>0</td>\n",
       "      <td>1</td>\n",
       "      <td>0</td>\n",
       "      <td>1</td>\n",
       "      <td>0</td>\n",
       "      <td>27</td>\n",
       "      <td>48000.0</td>\n",
       "      <td>2932</td>\n",
       "      <td>1</td>\n",
       "      <td>0</td>\n",
       "    </tr>\n",
       "  </tbody>\n",
       "</table>\n",
       "<p>55222 rows × 14 columns</p>\n",
       "</div>"
      ],
      "text/plain": [
       "       offer_reward  difficulty  offer_duration  mobile  social  web  bogo  \\\n",
       "0                 0           0               3       1       1    0     0   \n",
       "1                10          10               5       1       1    1     1   \n",
       "2                 2          10              10       1       1    1     0   \n",
       "3                 5           5               5       1       1    1     1   \n",
       "4                 2          10               7       1       0    1     0   \n",
       "...             ...         ...             ...     ...     ...  ...   ...   \n",
       "63283             5          20              10       0       0    1     0   \n",
       "63284             5          20              10       0       0    1     0   \n",
       "63285             5          20              10       0       0    1     0   \n",
       "63286             5          20              10       0       0    1     0   \n",
       "63287             5          20              10       0       0    1     0   \n",
       "\n",
       "       discount  informational  age  customer_income  memberdays  gender_M  \\\n",
       "0             0              1   84          52000.0        2428         0   \n",
       "1             0              0   84          52000.0        2428         0   \n",
       "2             1              0   84          52000.0        2428         0   \n",
       "3             0              0   84          52000.0        2428         0   \n",
       "4             1              0   84          52000.0        2428         0   \n",
       "...         ...            ...  ...              ...         ...       ...   \n",
       "63283         1              0   20          49000.0        2042         0   \n",
       "63284         1              0   47          48000.0        2073         0   \n",
       "63285         1              0   22          65000.0        2585         0   \n",
       "63286         1              0   64          93000.0        2826         0   \n",
       "63287         1              0   27          48000.0        2932         1   \n",
       "\n",
       "       offer_completed  \n",
       "0                    0  \n",
       "1                    1  \n",
       "2                    1  \n",
       "3                    1  \n",
       "4                    1  \n",
       "...                ...  \n",
       "63283                1  \n",
       "63284                0  \n",
       "63285                1  \n",
       "63286                0  \n",
       "63287                0  \n",
       "\n",
       "[55222 rows x 14 columns]"
      ]
     },
     "execution_count": 28,
     "metadata": {},
     "output_type": "execute_result"
    }
   ],
   "source": [
    "df_"
   ]
  },
  {
   "cell_type": "code",
   "execution_count": 29,
   "metadata": {},
   "outputs": [
    {
     "data": {
      "text/plain": [
       "array([[<AxesSubplot:title={'center':'offer_completed'}>]], dtype=object)"
      ]
     },
     "execution_count": 29,
     "metadata": {},
     "output_type": "execute_result"
    },
    {
     "data": {
      "image/png": "[encoded data removed]",
      "text/plain": [
       "<Figure size 640x480 with 1 Axes>"
      ]
     },
     "metadata": {},
     "output_type": "display_data"
    }
   ],
   "source": [
    "df_[['offer_completed']].hist()"
   ]
  },
  {
   "cell_type": "markdown",
   "metadata": {},
   "source": [
    "# 3. Testing a ML aproach"
   ]
  },
  {
   "cell_type": "code",
   "execution_count": 30,
   "metadata": {},
   "outputs": [],
   "source": [
    "# dividing the dataset train, validation and test\n",
    "from sklearn.model_selection import train_test_split\n",
    "\n",
    "X = df_.drop('offer_completed', axis=1)\n",
    "y = df_['offer_completed']\n",
    "\n",
    "X_train, X_test, y_train, y_test = train_test_split(X, y, test_size=0.2, random_state=42, stratify=df_['offer_completed'])\n",
    "X_train, X_val, y_train, y_val = train_test_split(X_train, y_train, test_size=0.2, random_state=42, stratify=y_train)"
   ]
  },
  {
   "cell_type": "code",
   "execution_count": 31,
   "metadata": {},
   "outputs": [],
   "source": [
    "#  Building the model\n",
    "# creating a function to train and evaluate the model\n",
    "def train_evaluate_model(model, X_train, y_train, X_val, y_val):\n",
    "    # training the model\n",
    "    model.fit(X_train, y_train)\n",
    "    \n",
    "    # predicting the model\n",
    "    y_pred = model.predict(X_val)\n",
    "\n",
    "    # evaluating the model\n",
    "    accuracy = accuracy_score(y_val, y_pred)\n",
    "    precision = precision_score(y_val, y_pred)\n",
    "    recall = recall_score(y_val, y_pred)\n",
    "    f1 = f1_score(y_val, y_pred)\n",
    "    roc_auc = roc_auc_score(y_val, y_pred)\n",
    "\n",
    "    # printing the metrics\n",
    "    print('Accuracy: {:.2f}%'.format(accuracy*100))\n",
    "    print('Precision: {:.2f}%'.format(precision*100))\n",
    "    print('Recall: {:.2f}%'.format(recall*100))\n",
    "    print('F1 Score: {:.2f}%'.format(f1*100))\n",
    "    print('ROC AUC: {:.2f}%'.format(roc_auc*100))\n",
    "\n",
    "    # plotting the confusion matrix and ROC AUC curve side by side\n",
    "    fig, (ax1, ax2) = plt.subplots(1, 2, figsize=(6, 3))\n",
    "\n",
    "    # Confusion Matrix\n",
    "    cm = confusion_matrix(y_val, y_pred)\n",
    "    sns.heatmap(cm, annot=True, ax=ax1, cmap='Blues', fmt='g')\n",
    "    ax1.set_xlabel('Predicted labels')\n",
    "    ax1.set_ylabel('True labels')\n",
    "    ax1.set_title('Confusion Matrix')\n",
    "    ax1.xaxis.set_ticklabels(['No', 'Yes'])\n",
    "    ax1.yaxis.set_ticklabels(['No', 'Yes'])\n",
    "\n",
    "    # ROC Curve\n",
    "    y_pred_proba = model.predict_proba(X_val)[:, 1]\n",
    "    fpr, tpr, thresholds = roc_curve(y_val, y_pred_proba)\n",
    "    ax2.plot([0, 1], [0, 1], 'k--')\n",
    "    ax2.plot(fpr, tpr)\n",
    "    ax2.set_xlabel('False Positive Rate')\n",
    "    ax2.set_ylabel('True Positive Rate')\n",
    "    ax2.set_title('ROC Curve')\n",
    "\n",
    "    # Adjust the spacing between plots\n",
    "    plt.tight_layout()\n",
    "\n",
    "    # Show the plots\n",
    "    plt.show()"
   ]
  },
  {
   "cell_type": "code",
   "execution_count": 32,
   "metadata": {},
   "outputs": [
    {
     "name": "stdout",
     "output_type": "stream",
     "text": [
      "Accuracy: 78.28%\n",
      "Precision: 75.53%\n",
      "Recall: 79.89%\n",
      "F1 Score: 77.65%\n",
      "ROC AUC: 78.37%\n"
     ]
    },
    {
     "data": {
      "image/png": "[encoded data removed]",
      "text/plain": [
       "<Figure size 600x300 with 3 Axes>"
      ]
     },
     "metadata": {},
     "output_type": "display_data"
    }
   ],
   "source": [
    "# 03.1. XGBoost Classifier\n",
    "# training and evaluating the model\n",
    "xgb = XGBClassifier(random_state=42)\n",
    "train_evaluate_model(xgb, X_train, y_train, X_val, y_val)\n"
   ]
  },
  {
   "cell_type": "code",
   "execution_count": 34,
   "metadata": {},
   "outputs": [
    {
     "name": "stdout",
     "output_type": "stream",
     "text": [
      "              precision    recall  f1-score   support\n",
      "\n",
      "           0       0.80      0.77      0.79      5830\n",
      "           1       0.75      0.79      0.77      5215\n",
      "\n",
      "    accuracy                           0.78     11045\n",
      "   macro avg       0.78      0.78      0.78     11045\n",
      "weighted avg       0.78      0.78      0.78     11045\n",
      "\n"
     ]
    }
   ],
   "source": [
    "# import classification_report\n",
    "from sklearn.metrics import classification_report\n",
    "predictions = xgb.predict(X_test)\n",
    "print(classification_report(y_test, predictions))"
   ]
  },
  {
   "cell_type": "markdown",
   "metadata": {},
   "source": [
    "# 4. Deploying sagemaker model"
   ]
  },
  {
   "cell_type": "code",
   "execution_count": 53,
   "metadata": {},
   "outputs": [],
   "source": [
    "import boto3\n",
    "import sagemaker\n",
    "from sagemaker import get_execution_role\n",
    "from sagemaker.amazon.amazon_estimator import get_image_uri"
   ]
  },
  {
   "cell_type": "code",
   "execution_count": 36,
   "metadata": {},
   "outputs": [],
   "source": [
    "X = df_.drop('offer_completed', axis=1)\n",
    "y = df_['offer_completed']\n",
    "X_train, X_test, y_train, y_test = train_test_split(X, y, test_size=0.2, random_state=42, stratify=df_['offer_completed'])"
   ]
  },
  {
   "cell_type": "code",
   "execution_count": 75,
   "metadata": {},
   "outputs": [],
   "source": [
    "train_data = pd.concat([y_train,X_train], axis=1)\n",
    "train_data.to_csv('train_data.csv', index=False,header=False)\n",
    "\n",
    "test_data = pd.concat([y_test,X_test], axis=1)\n",
    "test_data.to_csv('test_data.csv', index=False,header=False)"
   ]
  },
  {
   "cell_type": "code",
   "execution_count": 76,
   "metadata": {},
   "outputs": [
    {
     "name": "stderr",
     "output_type": "stream",
     "text": [
      "INFO:botocore.credentials:Found credentials from IAM Role: BaseNotebookInstanceEc2InstanceRole\n"
     ]
    }
   ],
   "source": [
    "sagemaker_session = sagemaker.Session()\n",
    "bucket = 'udacity-capstone-bucket-starbucks'"
   ]
  },
  {
   "cell_type": "code",
   "execution_count": 77,
   "metadata": {},
   "outputs": [],
   "source": [
    "input_train = sagemaker_session.upload_data(path='train_data.csv', bucket=bucket, key_prefix=prefix + '/train')\n",
    "input_test  = sagemaker_session.upload_data(path='train_data.csv', bucket=bucket, key_prefix=prefix + '/train')"
   ]
  },
  {
   "cell_type": "code",
   "execution_count": 78,
   "metadata": {},
   "outputs": [],
   "source": [
    "prefix = 'xgboost-example'\n",
    "input_train = sagemaker_session.upload_data(path='train_data.csv', bucket=bucket, key_prefix=prefix + '/train')\n",
    "input_test = sagemaker_session.upload_data(path='test_data.csv', bucket=bucket, key_prefix=prefix + '/test')"
   ]
  },
  {
   "cell_type": "code",
   "execution_count": 79,
   "metadata": {},
   "outputs": [
    {
     "name": "stderr",
     "output_type": "stream",
     "text": [
      "WARNING:sagemaker.deprecations:The method get_image_uri has been renamed in sagemaker>=2.\n",
      "See: https://sagemaker.readthedocs.io/en/stable/v2.html for details.\n",
      "INFO:sagemaker.image_uris:Ignoring unnecessary instance type: None.\n"
     ]
    }
   ],
   "source": [
    "container = get_image_uri(boto3.Session().region_name, 'xgboost')"
   ]
  },
  {
   "cell_type": "code",
   "execution_count": 80,
   "metadata": {},
   "outputs": [
    {
     "name": "stderr",
     "output_type": "stream",
     "text": [
      "INFO:botocore.credentials:Found credentials from IAM Role: BaseNotebookInstanceEc2InstanceRole\n"
     ]
    }
   ],
   "source": [
    "role = get_execution_role()\n",
    "\n",
    "xgb = sagemaker.estimator.Estimator(container,\n",
    "                                    role,\n",
    "                                    instance_count=1,\n",
    "                                    instance_type='ml.m4.xlarge',\n",
    "                                    output_path=f's3://{bucket}/{prefix}/output',\n",
    "                                    sagemaker_session=sagemaker_session)\n"
   ]
  },
  {
   "cell_type": "code",
   "execution_count": 81,
   "metadata": {},
   "outputs": [],
   "source": [
    "xgb.set_hyperparameters(max_depth=5,\n",
    "                        eta=0.2,\n",
    "                        gamma=4,\n",
    "                        min_child_weight=6,\n",
    "                        subsample=0.8,\n",
    "                        objective='binary:logistic',\n",
    "                        num_round=100)"
   ]
  },
  {
   "cell_type": "code",
   "execution_count": 82,
   "metadata": {},
   "outputs": [],
   "source": [
    "train_data = sagemaker.inputs.TrainingInput(s3_data=input_train, content_type='csv')\n",
    "test_data = sagemaker.inputs.TrainingInput(s3_data=input_test, content_type='csv')\n",
    "\n",
    "data_channels = {'train': train_data, 'validation': test_data}"
   ]
  },
  {
   "cell_type": "code",
   "execution_count": 83,
   "metadata": {},
   "outputs": [
    {
     "name": "stderr",
     "output_type": "stream",
     "text": [
      "INFO:sagemaker:Creating training-job with name: xgboost-2023-05-25-00-57-14-116\n"
     ]
    },
    {
     "name": "stdout",
     "output_type": "stream",
     "text": [
      "2023-05-25 00:57:14 Starting - Starting the training job...\n",
      "2023-05-25 00:57:30 Starting - Preparing the instances for training.........\n",
      "2023-05-25 00:58:56 Downloading - Downloading input data...\n",
      "2023-05-25 00:59:26 Training - Downloading the training image...\n",
      "2023-05-25 01:00:12 Training - Training image download completed. Training in progress..\u001b[34mArguments: train\u001b[0m\n",
      "\u001b[34m[2023-05-25:01:00:21:INFO] Running standalone xgboost training.\u001b[0m\n",
      "\u001b[34m[2023-05-25:01:00:21:INFO] File size need to be processed in the node: 2.05mb. Available memory size in the node: 8588.16mb\u001b[0m\n",
      "\u001b[34m[2023-05-25:01:00:21:INFO] Determined delimiter of CSV input is ','\u001b[0m\n",
      "\u001b[34m[01:00:21] S3DistributionType set as FullyReplicated\u001b[0m\n",
      "\u001b[34m[01:00:21] 44177x13 matrix with 574301 entries loaded from /opt/ml/input/data/train?format=csv&label_column=0&delimiter=,\u001b[0m\n",
      "\u001b[34m[2023-05-25:01:00:21:INFO] Determined delimiter of CSV input is ','\u001b[0m\n",
      "\u001b[34m[01:00:21] S3DistributionType set as FullyReplicated\u001b[0m\n",
      "\u001b[34m[01:00:21] 11045x13 matrix with 143585 entries loaded from /opt/ml/input/data/validation?format=csv&label_column=0&delimiter=,\u001b[0m\n",
      "\u001b[34m[01:00:21] src/tree/updater_prune.cc:74: tree pruning end, 1 roots, 32 extra nodes, 0 pruned nodes, max_depth=5\u001b[0m\n",
      "\u001b[34m[0]#011train-error:0.232927#011validation-error:0.23703\u001b[0m\n",
      "\u001b[34m[01:00:21] src/tree/updater_prune.cc:74: tree pruning end, 1 roots, 32 extra nodes, 0 pruned nodes, max_depth=5\u001b[0m\n",
      "\u001b[34m[1]#011train-error:0.229554#011validation-error:0.234224\u001b[0m\n",
      "\u001b[34m[01:00:21] src/tree/updater_prune.cc:74: tree pruning end, 1 roots, 32 extra nodes, 0 pruned nodes, max_depth=5\u001b[0m\n",
      "\u001b[34m[2]#011train-error:0.22926#011validation-error:0.234586\u001b[0m\n",
      "\u001b[34m[01:00:21] src/tree/updater_prune.cc:74: tree pruning end, 1 roots, 32 extra nodes, 0 pruned nodes, max_depth=5\u001b[0m\n",
      "\u001b[34m[3]#011train-error:0.226611#011validation-error:0.232503\u001b[0m\n",
      "\u001b[34m[01:00:21] src/tree/updater_prune.cc:74: tree pruning end, 1 roots, 32 extra nodes, 0 pruned nodes, max_depth=5\u001b[0m\n",
      "\u001b[34m[4]#011train-error:0.226181#011validation-error:0.232503\u001b[0m\n",
      "\u001b[34m[01:00:21] src/tree/updater_prune.cc:74: tree pruning end, 1 roots, 32 extra nodes, 0 pruned nodes, max_depth=5\u001b[0m\n",
      "\u001b[34m[5]#011train-error:0.224415#011validation-error:0.230964\u001b[0m\n",
      "\u001b[34m[01:00:21] src/tree/updater_prune.cc:74: tree pruning end, 1 roots, 32 extra nodes, 0 pruned nodes, max_depth=5\u001b[0m\n",
      "\u001b[34m[6]#011train-error:0.224302#011validation-error:0.231507\u001b[0m\n",
      "\u001b[34m[01:00:22] src/tree/updater_prune.cc:74: tree pruning end, 1 roots, 32 extra nodes, 0 pruned nodes, max_depth=5\u001b[0m\n",
      "\u001b[34m[7]#011train-error:0.223691#011validation-error:0.23196\u001b[0m\n",
      "\u001b[34m[01:00:22] src/tree/updater_prune.cc:74: tree pruning end, 1 roots, 32 extra nodes, 0 pruned nodes, max_depth=5\u001b[0m\n",
      "\u001b[34m[8]#011train-error:0.22231#011validation-error:0.228158\u001b[0m\n",
      "\u001b[34m[01:00:22] src/tree/updater_prune.cc:74: tree pruning end, 1 roots, 30 extra nodes, 2 pruned nodes, max_depth=5\u001b[0m\n",
      "\u001b[34m[9]#011train-error:0.222016#011validation-error:0.228701\u001b[0m\n",
      "\u001b[34m[01:00:22] src/tree/updater_prune.cc:74: tree pruning end, 1 roots, 30 extra nodes, 0 pruned nodes, max_depth=5\u001b[0m\n",
      "\u001b[34m[10]#011train-error:0.221699#011validation-error:0.225894\u001b[0m\n",
      "\u001b[34m[01:00:22] src/tree/updater_prune.cc:74: tree pruning end, 1 roots, 32 extra nodes, 0 pruned nodes, max_depth=5\u001b[0m\n",
      "\u001b[34m[11]#011train-error:0.222197#011validation-error:0.224717\u001b[0m\n",
      "\u001b[34m[01:00:22] src/tree/updater_prune.cc:74: tree pruning end, 1 roots, 32 extra nodes, 0 pruned nodes, max_depth=5\u001b[0m\n",
      "\u001b[34m[12]#011train-error:0.221156#011validation-error:0.22517\u001b[0m\n",
      "\u001b[34m[01:00:22] src/tree/updater_prune.cc:74: tree pruning end, 1 roots, 32 extra nodes, 0 pruned nodes, max_depth=5\u001b[0m\n",
      "\u001b[34m[13]#011train-error:0.220522#011validation-error:0.226075\u001b[0m\n",
      "\u001b[34m[01:00:22] src/tree/updater_prune.cc:74: tree pruning end, 1 roots, 32 extra nodes, 0 pruned nodes, max_depth=5\u001b[0m\n",
      "\u001b[34m[14]#011train-error:0.220545#011validation-error:0.223087\u001b[0m\n",
      "\u001b[34m[01:00:22] src/tree/updater_prune.cc:74: tree pruning end, 1 roots, 32 extra nodes, 0 pruned nodes, max_depth=5\u001b[0m\n",
      "\u001b[34m[15]#011train-error:0.220364#011validation-error:0.22354\u001b[0m\n",
      "\u001b[34m[01:00:22] src/tree/updater_prune.cc:74: tree pruning end, 1 roots, 30 extra nodes, 2 pruned nodes, max_depth=5\u001b[0m\n",
      "\u001b[34m[16]#011train-error:0.219979#011validation-error:0.224264\u001b[0m\n",
      "\u001b[34m[01:00:22] src/tree/updater_prune.cc:74: tree pruning end, 1 roots, 30 extra nodes, 2 pruned nodes, max_depth=5\u001b[0m\n",
      "\u001b[34m[17]#011train-error:0.219843#011validation-error:0.224989\u001b[0m\n",
      "\u001b[34m[01:00:22] src/tree/updater_prune.cc:74: tree pruning end, 1 roots, 30 extra nodes, 2 pruned nodes, max_depth=5\u001b[0m\n",
      "\u001b[34m[18]#011train-error:0.219345#011validation-error:0.223359\u001b[0m\n",
      "\u001b[34m[01:00:22] src/tree/updater_prune.cc:74: tree pruning end, 1 roots, 24 extra nodes, 4 pruned nodes, max_depth=5\u001b[0m\n",
      "\u001b[34m[19]#011train-error:0.219368#011validation-error:0.223631\u001b[0m\n",
      "\u001b[34m[01:00:22] src/tree/updater_prune.cc:74: tree pruning end, 1 roots, 22 extra nodes, 8 pruned nodes, max_depth=5\u001b[0m\n",
      "\u001b[34m[20]#011train-error:0.219503#011validation-error:0.223812\u001b[0m\n",
      "\u001b[34m[01:00:22] src/tree/updater_prune.cc:74: tree pruning end, 1 roots, 30 extra nodes, 2 pruned nodes, max_depth=5\u001b[0m\n",
      "\u001b[34m[21]#011train-error:0.219096#011validation-error:0.224264\u001b[0m\n",
      "\u001b[34m[01:00:22] src/tree/updater_prune.cc:74: tree pruning end, 1 roots, 24 extra nodes, 8 pruned nodes, max_depth=5\u001b[0m\n",
      "\u001b[34m[22]#011train-error:0.219028#011validation-error:0.223721\u001b[0m\n",
      "\u001b[34m[01:00:22] src/tree/updater_prune.cc:74: tree pruning end, 1 roots, 18 extra nodes, 8 pruned nodes, max_depth=5\u001b[0m\n",
      "\u001b[34m[23]#011train-error:0.218462#011validation-error:0.223359\u001b[0m\n",
      "\u001b[34m[01:00:22] src/tree/updater_prune.cc:74: tree pruning end, 1 roots, 32 extra nodes, 0 pruned nodes, max_depth=5\u001b[0m\n",
      "\u001b[34m[24]#011train-error:0.218824#011validation-error:0.222816\u001b[0m\n",
      "\u001b[34m[01:00:22] src/tree/updater_prune.cc:74: tree pruning end, 1 roots, 14 extra nodes, 4 pruned nodes, max_depth=5\u001b[0m\n",
      "\u001b[34m[25]#011train-error:0.21853#011validation-error:0.223178\u001b[0m\n",
      "\u001b[34m[01:00:22] src/tree/updater_prune.cc:74: tree pruning end, 1 roots, 26 extra nodes, 2 pruned nodes, max_depth=5\u001b[0m\n",
      "\u001b[34m[26]#011train-error:0.218168#011validation-error:0.223178\u001b[0m\n",
      "\u001b[34m[01:00:22] src/tree/updater_prune.cc:74: tree pruning end, 1 roots, 22 extra nodes, 10 pruned nodes, max_depth=5\u001b[0m\n",
      "\u001b[34m[27]#011train-error:0.218168#011validation-error:0.223812\u001b[0m\n",
      "\u001b[34m[01:00:22] src/tree/updater_prune.cc:74: tree pruning end, 1 roots, 30 extra nodes, 2 pruned nodes, max_depth=5\u001b[0m\n",
      "\u001b[34m[28]#011train-error:0.217828#011validation-error:0.223812\u001b[0m\n",
      "\u001b[34m[01:00:22] src/tree/updater_prune.cc:74: tree pruning end, 1 roots, 18 extra nodes, 0 pruned nodes, max_depth=5\u001b[0m\n",
      "\u001b[34m[29]#011train-error:0.217783#011validation-error:0.223812\u001b[0m\n",
      "\u001b[34m[01:00:22] src/tree/updater_prune.cc:74: tree pruning end, 1 roots, 28 extra nodes, 4 pruned nodes, max_depth=5\u001b[0m\n",
      "\u001b[34m[30]#011train-error:0.217262#011validation-error:0.224174\u001b[0m\n",
      "\u001b[34m[01:00:22] src/tree/updater_prune.cc:74: tree pruning end, 1 roots, 34 extra nodes, 10 pruned nodes, max_depth=5\u001b[0m\n",
      "\u001b[34m[31]#011train-error:0.216923#011validation-error:0.224355\u001b[0m\n",
      "\u001b[34m[01:00:22] src/tree/updater_prune.cc:74: tree pruning end, 1 roots, 10 extra nodes, 8 pruned nodes, max_depth=5\u001b[0m\n",
      "\u001b[34m[32]#011train-error:0.216719#011validation-error:0.224264\u001b[0m\n",
      "\u001b[34m[01:00:22] src/tree/updater_prune.cc:74: tree pruning end, 1 roots, 42 extra nodes, 12 pruned nodes, max_depth=5\u001b[0m\n",
      "\u001b[34m[33]#011train-error:0.216198#011validation-error:0.224264\u001b[0m\n",
      "\u001b[34m[01:00:22] src/tree/updater_prune.cc:74: tree pruning end, 1 roots, 22 extra nodes, 6 pruned nodes, max_depth=5\u001b[0m\n",
      "\u001b[34m[34]#011train-error:0.216244#011validation-error:0.224264\u001b[0m\n",
      "\u001b[34m[01:00:22] src/tree/updater_prune.cc:74: tree pruning end, 1 roots, 44 extra nodes, 10 pruned nodes, max_depth=5\u001b[0m\n",
      "\u001b[34m[35]#011train-error:0.215904#011validation-error:0.224264\u001b[0m\n",
      "\u001b[34m[01:00:22] src/tree/updater_prune.cc:74: tree pruning end, 1 roots, 14 extra nodes, 10 pruned nodes, max_depth=5\u001b[0m\n",
      "\u001b[34m[36]#011train-error:0.215859#011validation-error:0.224264\u001b[0m\n",
      "\u001b[34m[01:00:22] src/tree/updater_prune.cc:74: tree pruning end, 1 roots, 38 extra nodes, 10 pruned nodes, max_depth=5\u001b[0m\n",
      "\u001b[34m[37]#011train-error:0.215519#011validation-error:0.224989\u001b[0m\n",
      "\u001b[34m[01:00:22] src/tree/updater_prune.cc:74: tree pruning end, 1 roots, 36 extra nodes, 16 pruned nodes, max_depth=5\u001b[0m\n",
      "\u001b[34m[38]#011train-error:0.215293#011validation-error:0.224355\u001b[0m\n",
      "\u001b[34m[01:00:22] src/tree/updater_prune.cc:74: tree pruning end, 1 roots, 40 extra nodes, 16 pruned nodes, max_depth=5\u001b[0m\n",
      "\u001b[34m[39]#011train-error:0.215202#011validation-error:0.224536\u001b[0m\n",
      "\u001b[34m[01:00:22] src/tree/updater_prune.cc:74: tree pruning end, 1 roots, 30 extra nodes, 14 pruned nodes, max_depth=5\u001b[0m\n",
      "\u001b[34m[40]#011train-error:0.215384#011validation-error:0.224264\u001b[0m\n",
      "\u001b[34m[01:00:22] src/tree/updater_prune.cc:74: tree pruning end, 1 roots, 26 extra nodes, 18 pruned nodes, max_depth=5\u001b[0m\n",
      "\u001b[34m[41]#011train-error:0.21484#011validation-error:0.224355\u001b[0m\n",
      "\u001b[34m[01:00:22] src/tree/updater_prune.cc:74: tree pruning end, 1 roots, 16 extra nodes, 22 pruned nodes, max_depth=5\u001b[0m\n",
      "\u001b[34m[42]#011train-error:0.21441#011validation-error:0.223902\u001b[0m\n",
      "\u001b[34m[01:00:22] src/tree/updater_prune.cc:74: tree pruning end, 1 roots, 20 extra nodes, 6 pruned nodes, max_depth=5\u001b[0m\n",
      "\u001b[34m[43]#011train-error:0.21441#011validation-error:0.223812\u001b[0m\n",
      "\u001b[34m[01:00:22] src/tree/updater_prune.cc:74: tree pruning end, 1 roots, 36 extra nodes, 18 pruned nodes, max_depth=5\u001b[0m\n",
      "\u001b[34m[44]#011train-error:0.214478#011validation-error:0.224174\u001b[0m\n",
      "\u001b[34m[01:00:22] src/tree/updater_prune.cc:74: tree pruning end, 1 roots, 48 extra nodes, 4 pruned nodes, max_depth=5\u001b[0m\n",
      "\u001b[34m[45]#011train-error:0.214184#011validation-error:0.223902\u001b[0m\n",
      "\u001b[34m[01:00:22] src/tree/updater_prune.cc:74: tree pruning end, 1 roots, 26 extra nodes, 20 pruned nodes, max_depth=5\u001b[0m\n",
      "\u001b[34m[46]#011train-error:0.21432#011validation-error:0.223902\u001b[0m\n",
      "\u001b[34m[01:00:22] src/tree/updater_prune.cc:74: tree pruning end, 1 roots, 22 extra nodes, 18 pruned nodes, max_depth=5\u001b[0m\n",
      "\u001b[34m[47]#011train-error:0.214003#011validation-error:0.22345\u001b[0m\n",
      "\u001b[34m[01:00:22] src/tree/updater_prune.cc:74: tree pruning end, 1 roots, 44 extra nodes, 6 pruned nodes, max_depth=5\u001b[0m\n",
      "\u001b[34m[48]#011train-error:0.213527#011validation-error:0.223359\u001b[0m\n",
      "\u001b[34m[01:00:22] src/tree/updater_prune.cc:74: tree pruning end, 1 roots, 10 extra nodes, 10 pruned nodes, max_depth=5\u001b[0m\n",
      "\u001b[34m[49]#011train-error:0.213414#011validation-error:0.22345\u001b[0m\n",
      "\u001b[34m[01:00:22] src/tree/updater_prune.cc:74: tree pruning end, 1 roots, 36 extra nodes, 16 pruned nodes, max_depth=5\u001b[0m\n",
      "\u001b[34m[50]#011train-error:0.213188#011validation-error:0.224355\u001b[0m\n",
      "\u001b[34m[01:00:22] src/tree/updater_prune.cc:74: tree pruning end, 1 roots, 30 extra nodes, 14 pruned nodes, max_depth=5\u001b[0m\n",
      "\u001b[34m[51]#011train-error:0.213052#011validation-error:0.224264\u001b[0m\n",
      "\u001b[34m[01:00:23] src/tree/updater_prune.cc:74: tree pruning end, 1 roots, 42 extra nodes, 14 pruned nodes, max_depth=5\u001b[0m\n",
      "\u001b[34m[52]#011train-error:0.212894#011validation-error:0.223993\u001b[0m\n",
      "\u001b[34m[01:00:23] src/tree/updater_prune.cc:74: tree pruning end, 1 roots, 28 extra nodes, 14 pruned nodes, max_depth=5\u001b[0m\n",
      "\u001b[34m[53]#011train-error:0.212079#011validation-error:0.224083\u001b[0m\n",
      "\u001b[34m[01:00:23] src/tree/updater_prune.cc:74: tree pruning end, 1 roots, 24 extra nodes, 20 pruned nodes, max_depth=5\u001b[0m\n",
      "\u001b[34m[54]#011train-error:0.212011#011validation-error:0.223812\u001b[0m\n",
      "\u001b[34m[01:00:23] src/tree/updater_prune.cc:74: tree pruning end, 1 roots, 10 extra nodes, 12 pruned nodes, max_depth=5\u001b[0m\n",
      "\u001b[34m[55]#011train-error:0.211943#011validation-error:0.223721\u001b[0m\n",
      "\u001b[34m[01:00:23] src/tree/updater_prune.cc:74: tree pruning end, 1 roots, 32 extra nodes, 12 pruned nodes, max_depth=5\u001b[0m\n",
      "\u001b[34m[56]#011train-error:0.211717#011validation-error:0.222997\u001b[0m\n",
      "\u001b[34m[01:00:23] src/tree/updater_prune.cc:74: tree pruning end, 1 roots, 20 extra nodes, 22 pruned nodes, max_depth=5\u001b[0m\n",
      "\u001b[34m[57]#011train-error:0.211468#011validation-error:0.222906\u001b[0m\n",
      "\u001b[34m[01:00:23] src/tree/updater_prune.cc:74: tree pruning end, 1 roots, 44 extra nodes, 14 pruned nodes, max_depth=5\u001b[0m\n",
      "\u001b[34m[58]#011train-error:0.211151#011validation-error:0.222725\u001b[0m\n",
      "\u001b[34m[01:00:23] src/tree/updater_prune.cc:74: tree pruning end, 1 roots, 26 extra nodes, 12 pruned nodes, max_depth=5\u001b[0m\n",
      "\u001b[34m[59]#011train-error:0.210879#011validation-error:0.223178\u001b[0m\n",
      "\u001b[34m[01:00:23] src/tree/updater_prune.cc:74: tree pruning end, 1 roots, 32 extra nodes, 18 pruned nodes, max_depth=5\u001b[0m\n",
      "\u001b[34m[60]#011train-error:0.210539#011validation-error:0.223721\u001b[0m\n",
      "\u001b[34m[01:00:23] src/tree/updater_prune.cc:74: tree pruning end, 1 roots, 18 extra nodes, 12 pruned nodes, max_depth=5\u001b[0m\n",
      "\u001b[34m[61]#011train-error:0.210743#011validation-error:0.223993\u001b[0m\n",
      "\u001b[34m[01:00:23] src/tree/updater_prune.cc:74: tree pruning end, 1 roots, 40 extra nodes, 18 pruned nodes, max_depth=5\u001b[0m\n",
      "\u001b[34m[62]#011train-error:0.210245#011validation-error:0.223087\u001b[0m\n",
      "\u001b[34m[01:00:23] src/tree/updater_prune.cc:74: tree pruning end, 1 roots, 10 extra nodes, 8 pruned nodes, max_depth=5\u001b[0m\n",
      "\u001b[34m[63]#011train-error:0.21029#011validation-error:0.222906\u001b[0m\n",
      "\u001b[34m[01:00:23] src/tree/updater_prune.cc:74: tree pruning end, 1 roots, 20 extra nodes, 16 pruned nodes, max_depth=5\u001b[0m\n",
      "\u001b[34m[64]#011train-error:0.20986#011validation-error:0.223178\u001b[0m\n",
      "\u001b[34m[01:00:23] src/tree/updater_prune.cc:74: tree pruning end, 1 roots, 10 extra nodes, 14 pruned nodes, max_depth=5\u001b[0m\n",
      "\u001b[34m[65]#011train-error:0.209747#011validation-error:0.223178\u001b[0m\n",
      "\u001b[34m[01:00:23] src/tree/updater_prune.cc:74: tree pruning end, 1 roots, 14 extra nodes, 20 pruned nodes, max_depth=5\u001b[0m\n",
      "\u001b[34m[66]#011train-error:0.209566#011validation-error:0.222182\u001b[0m\n",
      "\u001b[34m[01:00:23] src/tree/updater_prune.cc:74: tree pruning end, 1 roots, 24 extra nodes, 8 pruned nodes, max_depth=5\u001b[0m\n",
      "\u001b[34m[67]#011train-error:0.209294#011validation-error:0.222906\u001b[0m\n",
      "\u001b[34m[01:00:23] src/tree/updater_prune.cc:74: tree pruning end, 1 roots, 12 extra nodes, 16 pruned nodes, max_depth=5\u001b[0m\n",
      "\u001b[34m[68]#011train-error:0.209249#011validation-error:0.223178\u001b[0m\n",
      "\u001b[34m[01:00:23] src/tree/updater_prune.cc:74: tree pruning end, 1 roots, 28 extra nodes, 4 pruned nodes, max_depth=5\u001b[0m\n",
      "\u001b[34m[69]#011train-error:0.208932#011validation-error:0.222725\u001b[0m\n",
      "\u001b[34m[01:00:23] src/tree/updater_prune.cc:74: tree pruning end, 1 roots, 22 extra nodes, 14 pruned nodes, max_depth=5\u001b[0m\n",
      "\u001b[34m[70]#011train-error:0.20857#011validation-error:0.222997\u001b[0m\n",
      "\u001b[34m[01:00:23] src/tree/updater_prune.cc:74: tree pruning end, 1 roots, 6 extra nodes, 14 pruned nodes, max_depth=3\u001b[0m\n",
      "\u001b[34m[71]#011train-error:0.208615#011validation-error:0.223268\u001b[0m\n",
      "\u001b[34m[01:00:23] src/tree/updater_prune.cc:74: tree pruning end, 1 roots, 18 extra nodes, 30 pruned nodes, max_depth=5\u001b[0m\n",
      "\u001b[34m[72]#011train-error:0.208683#011validation-error:0.223721\u001b[0m\n",
      "\u001b[34m[01:00:23] src/tree/updater_prune.cc:74: tree pruning end, 1 roots, 48 extra nodes, 14 pruned nodes, max_depth=5\u001b[0m\n",
      "\u001b[34m[73]#011train-error:0.208298#011validation-error:0.222997\u001b[0m\n",
      "\u001b[34m[01:00:23] src/tree/updater_prune.cc:74: tree pruning end, 1 roots, 18 extra nodes, 14 pruned nodes, max_depth=5\u001b[0m\n",
      "\u001b[34m[74]#011train-error:0.20848#011validation-error:0.223902\u001b[0m\n",
      "\u001b[34m[01:00:23] src/tree/updater_prune.cc:74: tree pruning end, 1 roots, 20 extra nodes, 24 pruned nodes, max_depth=5\u001b[0m\n",
      "\u001b[34m[75]#011train-error:0.208231#011validation-error:0.223721\u001b[0m\n",
      "\u001b[34m[01:00:23] src/tree/updater_prune.cc:74: tree pruning end, 1 roots, 10 extra nodes, 14 pruned nodes, max_depth=4\u001b[0m\n",
      "\u001b[34m[76]#011train-error:0.208095#011validation-error:0.22345\u001b[0m\n",
      "\u001b[34m[01:00:23] src/tree/updater_prune.cc:74: tree pruning end, 1 roots, 28 extra nodes, 8 pruned nodes, max_depth=5\u001b[0m\n",
      "\u001b[34m[77]#011train-error:0.208117#011validation-error:0.22345\u001b[0m\n",
      "\u001b[34m[01:00:23] src/tree/updater_prune.cc:74: tree pruning end, 1 roots, 18 extra nodes, 12 pruned nodes, max_depth=5\u001b[0m\n",
      "\u001b[34m[78]#011train-error:0.207959#011validation-error:0.22354\u001b[0m\n",
      "\u001b[34m[01:00:23] src/tree/updater_prune.cc:74: tree pruning end, 1 roots, 18 extra nodes, 22 pruned nodes, max_depth=5\u001b[0m\n",
      "\u001b[34m[79]#011train-error:0.208117#011validation-error:0.223087\u001b[0m\n",
      "\u001b[34m[01:00:23] src/tree/updater_prune.cc:74: tree pruning end, 1 roots, 16 extra nodes, 14 pruned nodes, max_depth=5\u001b[0m\n",
      "\u001b[34m[80]#011train-error:0.208117#011validation-error:0.222906\u001b[0m\n",
      "\u001b[34m[01:00:23] src/tree/updater_prune.cc:74: tree pruning end, 1 roots, 26 extra nodes, 14 pruned nodes, max_depth=5\u001b[0m\n",
      "\u001b[34m[81]#011train-error:0.207733#011validation-error:0.222816\u001b[0m\n",
      "\u001b[34m[01:00:23] src/tree/updater_prune.cc:74: tree pruning end, 1 roots, 26 extra nodes, 22 pruned nodes, max_depth=5\u001b[0m\n",
      "\u001b[34m[82]#011train-error:0.207642#011validation-error:0.222816\u001b[0m\n",
      "\u001b[34m[01:00:23] src/tree/updater_prune.cc:74: tree pruning end, 1 roots, 36 extra nodes, 16 pruned nodes, max_depth=5\u001b[0m\n",
      "\u001b[34m[83]#011train-error:0.207551#011validation-error:0.222725\u001b[0m\n",
      "\u001b[34m[01:00:23] src/tree/updater_prune.cc:74: tree pruning end, 1 roots, 10 extra nodes, 4 pruned nodes, max_depth=5\u001b[0m\n",
      "\u001b[34m[84]#011train-error:0.207506#011validation-error:0.222725\u001b[0m\n",
      "\u001b[34m[01:00:23] src/tree/updater_prune.cc:74: tree pruning end, 1 roots, 36 extra nodes, 14 pruned nodes, max_depth=5\u001b[0m\n",
      "\u001b[34m[85]#011train-error:0.207076#011validation-error:0.223268\u001b[0m\n",
      "\u001b[34m[01:00:23] src/tree/updater_prune.cc:74: tree pruning end, 1 roots, 20 extra nodes, 14 pruned nodes, max_depth=5\u001b[0m\n",
      "\u001b[34m[86]#011train-error:0.207325#011validation-error:0.22345\u001b[0m\n",
      "\u001b[34m[01:00:23] src/tree/updater_prune.cc:74: tree pruning end, 1 roots, 22 extra nodes, 20 pruned nodes, max_depth=5\u001b[0m\n",
      "\u001b[34m[87]#011train-error:0.207302#011validation-error:0.222906\u001b[0m\n",
      "\u001b[34m[01:00:23] src/tree/updater_prune.cc:74: tree pruning end, 1 roots, 28 extra nodes, 18 pruned nodes, max_depth=5\u001b[0m\n",
      "\u001b[34m[88]#011train-error:0.206918#011validation-error:0.22345\u001b[0m\n",
      "\u001b[34m[01:00:23] src/tree/updater_prune.cc:74: tree pruning end, 1 roots, 28 extra nodes, 10 pruned nodes, max_depth=5\u001b[0m\n",
      "\u001b[34m[89]#011train-error:0.206623#011validation-error:0.22345\u001b[0m\n",
      "\u001b[34m[01:00:24] src/tree/updater_prune.cc:74: tree pruning end, 1 roots, 14 extra nodes, 30 pruned nodes, max_depth=5\u001b[0m\n",
      "\u001b[34m[90]#011train-error:0.206374#011validation-error:0.22345\u001b[0m\n",
      "\u001b[34m[01:00:24] src/tree/updater_prune.cc:74: tree pruning end, 1 roots, 16 extra nodes, 4 pruned nodes, max_depth=5\u001b[0m\n",
      "\u001b[34m[91]#011train-error:0.206329#011validation-error:0.223631\u001b[0m\n",
      "\u001b[34m[01:00:24] src/tree/updater_prune.cc:74: tree pruning end, 1 roots, 36 extra nodes, 14 pruned nodes, max_depth=5\u001b[0m\n",
      "\u001b[34m[92]#011train-error:0.206329#011validation-error:0.222997\u001b[0m\n",
      "\u001b[34m[01:00:24] src/tree/updater_prune.cc:74: tree pruning end, 1 roots, 22 extra nodes, 24 pruned nodes, max_depth=5\u001b[0m\n",
      "\u001b[34m[93]#011train-error:0.206103#011validation-error:0.223087\u001b[0m\n",
      "\u001b[34m[01:00:24] src/tree/updater_prune.cc:74: tree pruning end, 1 roots, 30 extra nodes, 12 pruned nodes, max_depth=5\u001b[0m\n",
      "\u001b[34m[94]#011train-error:0.205899#011validation-error:0.223087\u001b[0m\n",
      "\u001b[34m[01:00:24] src/tree/updater_prune.cc:74: tree pruning end, 1 roots, 18 extra nodes, 16 pruned nodes, max_depth=5\u001b[0m\n",
      "\u001b[34m[95]#011train-error:0.205786#011validation-error:0.223359\u001b[0m\n",
      "\u001b[34m[01:00:24] src/tree/updater_prune.cc:74: tree pruning end, 1 roots, 34 extra nodes, 20 pruned nodes, max_depth=5\u001b[0m\n",
      "\u001b[34m[96]#011train-error:0.205492#011validation-error:0.22345\u001b[0m\n",
      "\u001b[34m[01:00:24] src/tree/updater_prune.cc:74: tree pruning end, 1 roots, 22 extra nodes, 14 pruned nodes, max_depth=5\u001b[0m\n",
      "\u001b[34m[97]#011train-error:0.205492#011validation-error:0.222816\u001b[0m\n",
      "\u001b[34m[01:00:24] src/tree/updater_prune.cc:74: tree pruning end, 1 roots, 36 extra nodes, 14 pruned nodes, max_depth=5\u001b[0m\n",
      "\u001b[34m[98]#011train-error:0.205424#011validation-error:0.223993\u001b[0m\n",
      "\u001b[34m[01:00:24] src/tree/updater_prune.cc:74: tree pruning end, 1 roots, 16 extra nodes, 28 pruned nodes, max_depth=4\u001b[0m\n",
      "\u001b[34m[99]#011train-error:0.205424#011validation-error:0.224536\u001b[0m\n",
      "\n",
      "2023-05-25 01:00:39 Uploading - Uploading generated training model\n",
      "2023-05-25 01:00:39 Completed - Training job completed\n",
      "Training seconds: 102\n",
      "Billable seconds: 102\n"
     ]
    }
   ],
   "source": [
    "xgb.fit(inputs=data_channels)"
   ]
  },
  {
   "cell_type": "code",
   "execution_count": 84,
   "metadata": {},
   "outputs": [],
   "source": [
    "model_name = 'xgboost-model'\n",
    "model = xgb.create_model(name=model_name)"
   ]
  },
  {
   "cell_type": "code",
   "execution_count": 85,
   "metadata": {},
   "outputs": [
    {
     "name": "stderr",
     "output_type": "stream",
     "text": [
      "INFO:sagemaker:Creating model with name: xgboost-model\n",
      "INFO:sagemaker:Creating endpoint-config with name xgboost-endpoint\n",
      "INFO:sagemaker:Creating endpoint with name xgboost-endpoint\n"
     ]
    },
    {
     "name": "stdout",
     "output_type": "stream",
     "text": [
      "----------!"
     ]
    }
   ],
   "source": [
    "endpoint_name = 'xgboost-endpoint'\n",
    "predictor = model.deploy(initial_instance_count=1, instance_type='ml.m4.xlarge', endpoint_name=endpoint_name)"
   ]
  },
  {
   "cell_type": "markdown",
   "metadata": {},
   "source": [
    "# 5. Testing Endpoint"
   ]
  },
  {
   "cell_type": "code",
   "execution_count": 123,
   "metadata": {},
   "outputs": [
    {
     "name": "stdout",
     "output_type": "stream",
     "text": [
      "The offer will likely be completed. (probability: 82.38%)\n"
     ]
    }
   ],
   "source": [
    "import json\n",
    "# Hardcoded data for prediction\n",
    "hardcoded_data = {\n",
    "\"offer_reward\":30.0,\n",
    "\"difficulty\":30.0,\n",
    "\"offer_duration\":30.0,\n",
    "\"mobile\":1.0,\n",
    "\"social\":1.0,\n",
    "\"web\":1.0,\n",
    "\"bogo\":1.0,\n",
    "\"discount\":10.0,\n",
    "\"informational\":1.0,\n",
    "\"age\":58.0,\n",
    "\"customer_income\":550000.0,\n",
    "\"memberdays\":32981.0,\n",
    "\"gender_M\":1.0\n",
    "}\n",
    "\n",
    "# Convert the hardcoded data to a list of values\n",
    "input_data = [list(hardcoded_data.values())]\n",
    "\n",
    "# Create a low-level SageMaker client\n",
    "sagemaker_client = boto3.client('sagemaker-runtime')\n",
    "\n",
    "# Specify the endpoint name\n",
    "endpoint_name = 'xgboost-endpoint'\n",
    "\n",
    "# Convert the input data to CSV format\n",
    "input_data_csv = ','.join([str(val) for val in input_data[0]])\n",
    "\n",
    "# Make a request to the endpoint\n",
    "response = sagemaker_client.invoke_endpoint(\n",
    "    EndpointName=endpoint_name,\n",
    "    ContentType='text/csv',\n",
    "    Body=input_data_csv\n",
    ")\n",
    "\n",
    "\n",
    "# Parse the response\n",
    "prediction = response['Body'].read().decode()\n",
    "prediction = json.loads(prediction)\n",
    "\n",
    "if prediction > 0.5:\n",
    "    print('The offer will likely be completed. (probability: {:.2f}%)'.format(prediction*100))\n",
    "else:\n",
    "    print('The offer will not likely be completed. (probability: {:.2f}%)'.format(prediction*100))"
   ]
  }
 ],
 "metadata": {
  "kernelspec": {
   "display_name": "conda_pytorch_p39",
   "language": "python",
   "name": "conda_pytorch_p39"
  },
  "language_info": {
   "codemirror_mode": {
    "name": "ipython",
    "version": 3
   },
   "file_extension": ".py",
   "mimetype": "text/x-python",
   "name": "python",
   "nbconvert_exporter": "python",
   "pygments_lexer": "ipython3",
   "version": "3.9.15"
  }
 },
 "nbformat": 4,
 "nbformat_minor": 2
}
