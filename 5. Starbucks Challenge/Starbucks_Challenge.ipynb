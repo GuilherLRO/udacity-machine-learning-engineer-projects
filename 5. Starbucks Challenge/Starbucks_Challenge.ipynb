{
 "cells": [
  {
   "cell_type": "code",
   "execution_count": 3,
   "metadata": {},
   "outputs": [
    {
     "name": "stdout",
     "output_type": "stream",
     "text": [
      "Looking in indexes: https://pypi.org/simple, https://pip.repos.neuron.amazonaws.com\n",
      "Collecting xgboost\n",
      "  Downloading xgboost-1.7.5-py3-none-manylinux2014_x86_64.whl (200.3 MB)\n",
      "\u001b[2K     \u001b[90m━━━━━━━━━━━━━━━━━━━━━━━━━━━━━━━━━━━━━━━\u001b[0m \u001b[32m200.3/200.3 MB\u001b[0m \u001b[31m2.0 MB/s\u001b[0m eta \u001b[36m0:00:00\u001b[0m00:01\u001b[0m00:01\u001b[0m\n",
      "\u001b[?25hRequirement already satisfied: numpy in /home/ec2-user/anaconda3/envs/pytorch_p39/lib/python3.9/site-packages (from xgboost) (1.23.5)\n",
      "Requirement already satisfied: scipy in /home/ec2-user/anaconda3/envs/pytorch_p39/lib/python3.9/site-packages (from xgboost) (1.8.1)\n",
      "Installing collected packages: xgboost\n",
      "Successfully installed xgboost-1.7.5\n",
      "Note: you may need to restart the kernel to use updated packages.\n"
     ]
    }
   ],
   "source": [
    "pip install xgboost"
   ]
  },
  {
   "cell_type": "code",
   "execution_count": 1,
   "metadata": {},
   "outputs": [],
   "source": [
    "import os\n",
    "import numpy as np\n",
    "import pandas as pd\n",
    "import matplotlib.pyplot as plt\n",
    "import seaborn as sns\n",
    "import datetime\n",
    "from xgboost import XGBClassifier\n",
    "\n",
    "from sklearn.ensemble import RandomForestClassifier\n",
    "from sklearn.metrics import accuracy_score, precision_score, recall_score, f1_score, roc_auc_score, roc_curve, confusion_matrix"
   ]
  },
  {
   "cell_type": "markdown",
   "metadata": {},
   "source": [
    "### Our Goal is to deploy a model in sagemaker to predict sucess of an offer ###"
   ]
  },
  {
   "cell_type": "markdown",
   "metadata": {},
   "source": [
    "# 01. Data gathering and cleaning "
   ]
  },
  {
   "cell_type": "code",
   "execution_count": 2,
   "metadata": {},
   "outputs": [
    {
     "name": "stdout",
     "output_type": "stream",
     "text": [
      "['pic1.png', 'pic2.png', 'portfolio.json', 'profile.json', 'Starbucks_Capstone_notebook-zh.ipynb', 'Starbucks_Capstone_notebook.ipynb', 'transcript.json']\n"
     ]
    }
   ],
   "source": [
    "# list all files in the StarterFiles directory\n",
    "print(os.listdir('StarterFiles'))"
   ]
  },
  {
   "cell_type": "markdown",
   "metadata": {},
   "source": [
    "## 1.1. Portfolio\n",
    "- id (string) - offer id\n",
    "- offer_type (string) - type of offer ie BOGO, discount, informational\n",
    "- difficulty (int) - minimum required spend to complete an offer\n",
    "- reward (int) - reward given for completing an offer\n",
    "- duration (int) - time for offer to be open, in days\n",
    "- channels (list of strings)"
   ]
  },
  {
   "cell_type": "code",
   "execution_count": 3,
   "metadata": {},
   "outputs": [
    {
     "data": {
      "text/html": [
       "<div>\n",
       "<style scoped>\n",
       "    .dataframe tbody tr th:only-of-type {\n",
       "        vertical-align: middle;\n",
       "    }\n",
       "\n",
       "    .dataframe tbody tr th {\n",
       "        vertical-align: top;\n",
       "    }\n",
       "\n",
       "    .dataframe thead th {\n",
       "        text-align: right;\n",
       "    }\n",
       "</style>\n",
       "<table border=\"1\" class=\"dataframe\">\n",
       "  <thead>\n",
       "    <tr style=\"text-align: right;\">\n",
       "      <th></th>\n",
       "      <th>reward</th>\n",
       "      <th>channels</th>\n",
       "      <th>difficulty</th>\n",
       "      <th>duration</th>\n",
       "      <th>offer_type</th>\n",
       "      <th>id</th>\n",
       "    </tr>\n",
       "  </thead>\n",
       "  <tbody>\n",
       "    <tr>\n",
       "      <th>0</th>\n",
       "      <td>10</td>\n",
       "      <td>[email, mobile, social]</td>\n",
       "      <td>10</td>\n",
       "      <td>7</td>\n",
       "      <td>bogo</td>\n",
       "      <td>ae264e3637204a6fb9bb56bc8210ddfd</td>\n",
       "    </tr>\n",
       "    <tr>\n",
       "      <th>1</th>\n",
       "      <td>10</td>\n",
       "      <td>[web, email, mobile, social]</td>\n",
       "      <td>10</td>\n",
       "      <td>5</td>\n",
       "      <td>bogo</td>\n",
       "      <td>4d5c57ea9a6940dd891ad53e9dbe8da0</td>\n",
       "    </tr>\n",
       "    <tr>\n",
       "      <th>2</th>\n",
       "      <td>0</td>\n",
       "      <td>[web, email, mobile]</td>\n",
       "      <td>0</td>\n",
       "      <td>4</td>\n",
       "      <td>informational</td>\n",
       "      <td>3f207df678b143eea3cee63160fa8bed</td>\n",
       "    </tr>\n",
       "  </tbody>\n",
       "</table>\n",
       "</div>"
      ],
      "text/plain": [
       "   reward                      channels  difficulty  duration     offer_type  \\\n",
       "0      10       [email, mobile, social]          10         7           bogo   \n",
       "1      10  [web, email, mobile, social]          10         5           bogo   \n",
       "2       0          [web, email, mobile]           0         4  informational   \n",
       "\n",
       "                                 id  \n",
       "0  ae264e3637204a6fb9bb56bc8210ddfd  \n",
       "1  4d5c57ea9a6940dd891ad53e9dbe8da0  \n",
       "2  3f207df678b143eea3cee63160fa8bed  "
      ]
     },
     "execution_count": 3,
     "metadata": {},
     "output_type": "execute_result"
    }
   ],
   "source": [
    "# reading 'portfolio.json' file into a pandas dataframe\n",
    "portfolio_ = pd.read_json('StarterFiles/portfolio.json'  , orient='records', lines=True)\n",
    "portfolio_.head(3)"
   ]
  },
  {
   "cell_type": "code",
   "execution_count": 4,
   "metadata": {},
   "outputs": [
    {
     "name": "stdout",
     "output_type": "stream",
     "text": [
      "<class 'pandas.core.frame.DataFrame'>\n",
      "RangeIndex: 10 entries, 0 to 9\n",
      "Data columns (total 6 columns):\n",
      " #   Column      Non-Null Count  Dtype \n",
      "---  ------      --------------  ----- \n",
      " 0   reward      10 non-null     int64 \n",
      " 1   channels    10 non-null     object\n",
      " 2   difficulty  10 non-null     int64 \n",
      " 3   duration    10 non-null     int64 \n",
      " 4   offer_type  10 non-null     object\n",
      " 5   id          10 non-null     object\n",
      "dtypes: int64(3), object(3)\n",
      "memory usage: 608.0+ bytes\n"
     ]
    }
   ],
   "source": [
    "portfolio_.info()"
   ]
  },
  {
   "cell_type": "code",
   "execution_count": 5,
   "metadata": {},
   "outputs": [
    {
     "data": {
      "text/html": [
       "<div>\n",
       "<style scoped>\n",
       "    .dataframe tbody tr th:only-of-type {\n",
       "        vertical-align: middle;\n",
       "    }\n",
       "\n",
       "    .dataframe tbody tr th {\n",
       "        vertical-align: top;\n",
       "    }\n",
       "\n",
       "    .dataframe thead th {\n",
       "        text-align: right;\n",
       "    }\n",
       "</style>\n",
       "<table border=\"1\" class=\"dataframe\">\n",
       "  <thead>\n",
       "    <tr style=\"text-align: right;\">\n",
       "      <th></th>\n",
       "      <th>offer_reward</th>\n",
       "      <th>difficulty</th>\n",
       "      <th>offer_duration</th>\n",
       "      <th>offer_id</th>\n",
       "      <th>mobile</th>\n",
       "      <th>social</th>\n",
       "      <th>web</th>\n",
       "      <th>bogo</th>\n",
       "      <th>discount</th>\n",
       "      <th>informational</th>\n",
       "    </tr>\n",
       "  </thead>\n",
       "  <tbody>\n",
       "    <tr>\n",
       "      <th>0</th>\n",
       "      <td>10</td>\n",
       "      <td>10</td>\n",
       "      <td>7</td>\n",
       "      <td>ae264e3637204a6fb9bb56bc8210ddfd</td>\n",
       "      <td>1</td>\n",
       "      <td>1</td>\n",
       "      <td>0</td>\n",
       "      <td>1</td>\n",
       "      <td>0</td>\n",
       "      <td>0</td>\n",
       "    </tr>\n",
       "    <tr>\n",
       "      <th>1</th>\n",
       "      <td>10</td>\n",
       "      <td>10</td>\n",
       "      <td>5</td>\n",
       "      <td>4d5c57ea9a6940dd891ad53e9dbe8da0</td>\n",
       "      <td>1</td>\n",
       "      <td>1</td>\n",
       "      <td>1</td>\n",
       "      <td>1</td>\n",
       "      <td>0</td>\n",
       "      <td>0</td>\n",
       "    </tr>\n",
       "    <tr>\n",
       "      <th>2</th>\n",
       "      <td>0</td>\n",
       "      <td>0</td>\n",
       "      <td>4</td>\n",
       "      <td>3f207df678b143eea3cee63160fa8bed</td>\n",
       "      <td>1</td>\n",
       "      <td>0</td>\n",
       "      <td>1</td>\n",
       "      <td>0</td>\n",
       "      <td>0</td>\n",
       "      <td>1</td>\n",
       "    </tr>\n",
       "    <tr>\n",
       "      <th>3</th>\n",
       "      <td>5</td>\n",
       "      <td>5</td>\n",
       "      <td>7</td>\n",
       "      <td>9b98b8c7a33c4b65b9aebfe6a799e6d9</td>\n",
       "      <td>1</td>\n",
       "      <td>0</td>\n",
       "      <td>1</td>\n",
       "      <td>1</td>\n",
       "      <td>0</td>\n",
       "      <td>0</td>\n",
       "    </tr>\n",
       "    <tr>\n",
       "      <th>4</th>\n",
       "      <td>5</td>\n",
       "      <td>20</td>\n",
       "      <td>10</td>\n",
       "      <td>0b1e1539f2cc45b7b9fa7c272da2e1d7</td>\n",
       "      <td>0</td>\n",
       "      <td>0</td>\n",
       "      <td>1</td>\n",
       "      <td>0</td>\n",
       "      <td>1</td>\n",
       "      <td>0</td>\n",
       "    </tr>\n",
       "    <tr>\n",
       "      <th>5</th>\n",
       "      <td>3</td>\n",
       "      <td>7</td>\n",
       "      <td>7</td>\n",
       "      <td>2298d6c36e964ae4a3e7e9706d1fb8c2</td>\n",
       "      <td>1</td>\n",
       "      <td>1</td>\n",
       "      <td>1</td>\n",
       "      <td>0</td>\n",
       "      <td>1</td>\n",
       "      <td>0</td>\n",
       "    </tr>\n",
       "    <tr>\n",
       "      <th>6</th>\n",
       "      <td>2</td>\n",
       "      <td>10</td>\n",
       "      <td>10</td>\n",
       "      <td>fafdcd668e3743c1bb461111dcafc2a4</td>\n",
       "      <td>1</td>\n",
       "      <td>1</td>\n",
       "      <td>1</td>\n",
       "      <td>0</td>\n",
       "      <td>1</td>\n",
       "      <td>0</td>\n",
       "    </tr>\n",
       "    <tr>\n",
       "      <th>7</th>\n",
       "      <td>0</td>\n",
       "      <td>0</td>\n",
       "      <td>3</td>\n",
       "      <td>5a8bc65990b245e5a138643cd4eb9837</td>\n",
       "      <td>1</td>\n",
       "      <td>1</td>\n",
       "      <td>0</td>\n",
       "      <td>0</td>\n",
       "      <td>0</td>\n",
       "      <td>1</td>\n",
       "    </tr>\n",
       "    <tr>\n",
       "      <th>8</th>\n",
       "      <td>5</td>\n",
       "      <td>5</td>\n",
       "      <td>5</td>\n",
       "      <td>f19421c1d4aa40978ebb69ca19b0e20d</td>\n",
       "      <td>1</td>\n",
       "      <td>1</td>\n",
       "      <td>1</td>\n",
       "      <td>1</td>\n",
       "      <td>0</td>\n",
       "      <td>0</td>\n",
       "    </tr>\n",
       "    <tr>\n",
       "      <th>9</th>\n",
       "      <td>2</td>\n",
       "      <td>10</td>\n",
       "      <td>7</td>\n",
       "      <td>2906b810c7d4411798c6938adc9daaa5</td>\n",
       "      <td>1</td>\n",
       "      <td>0</td>\n",
       "      <td>1</td>\n",
       "      <td>0</td>\n",
       "      <td>1</td>\n",
       "      <td>0</td>\n",
       "    </tr>\n",
       "  </tbody>\n",
       "</table>\n",
       "</div>"
      ],
      "text/plain": [
       "   offer_reward  difficulty  offer_duration                          offer_id  \\\n",
       "0            10          10               7  ae264e3637204a6fb9bb56bc8210ddfd   \n",
       "1            10          10               5  4d5c57ea9a6940dd891ad53e9dbe8da0   \n",
       "2             0           0               4  3f207df678b143eea3cee63160fa8bed   \n",
       "3             5           5               7  9b98b8c7a33c4b65b9aebfe6a799e6d9   \n",
       "4             5          20              10  0b1e1539f2cc45b7b9fa7c272da2e1d7   \n",
       "5             3           7               7  2298d6c36e964ae4a3e7e9706d1fb8c2   \n",
       "6             2          10              10  fafdcd668e3743c1bb461111dcafc2a4   \n",
       "7             0           0               3  5a8bc65990b245e5a138643cd4eb9837   \n",
       "8             5           5               5  f19421c1d4aa40978ebb69ca19b0e20d   \n",
       "9             2          10               7  2906b810c7d4411798c6938adc9daaa5   \n",
       "\n",
       "   mobile  social  web  bogo  discount  informational  \n",
       "0       1       1    0     1         0              0  \n",
       "1       1       1    1     1         0              0  \n",
       "2       1       0    1     0         0              1  \n",
       "3       1       0    1     1         0              0  \n",
       "4       0       0    1     0         1              0  \n",
       "5       1       1    1     0         1              0  \n",
       "6       1       1    1     0         1              0  \n",
       "7       1       1    0     0         0              1  \n",
       "8       1       1    1     1         0              0  \n",
       "9       1       0    1     0         1              0  "
      ]
     },
     "execution_count": 5,
     "metadata": {},
     "output_type": "execute_result"
    }
   ],
   "source": [
    "# Data preprocessing\n",
    "\n",
    "# one-hot encoding channels column\n",
    "portfolio = portfolio_.copy()\n",
    "portfolio['channels'] = portfolio['channels'].apply(lambda x: ','.join(map(str, x)))\n",
    "portfolio = portfolio.join(portfolio['channels'].str.get_dummies(','))\n",
    "portfolio.drop('channels', axis=1, inplace=True)\n",
    "\n",
    "# one-hot encoding offer_type column\n",
    "portfolio = portfolio.join(pd.get_dummies(portfolio['offer_type'])) \n",
    "portfolio.drop('offer_type', axis=1, inplace=True)\n",
    "\n",
    "#drop email column since it it contains no useful information\n",
    "portfolio.drop('email', axis=1, inplace=True)\n",
    "\n",
    "#rename id column to offer_id, reward to offer_reward and duration to offer_duration\n",
    "portfolio.rename(columns={'id':'offer_id', 'reward':'offer_reward', 'duration':'offer_duration'}, inplace=True)\n",
    "portfolio"
   ]
  },
  {
   "cell_type": "markdown",
   "metadata": {},
   "source": [
    "## 1.2. Profile\n",
    "- age (int) - age of the customer\n",
    "- became_member_on (int) - date when customer created an app account\n",
    "- gender (str) - gender of the customer (note some entries contain 'O' for other rather than M or F)\n",
    "- id (str) - customer id\n",
    "- income (float) - customer's income"
   ]
  },
  {
   "cell_type": "code",
   "execution_count": 6,
   "metadata": {},
   "outputs": [
    {
     "data": {
      "text/html": [
       "<div>\n",
       "<style scoped>\n",
       "    .dataframe tbody tr th:only-of-type {\n",
       "        vertical-align: middle;\n",
       "    }\n",
       "\n",
       "    .dataframe tbody tr th {\n",
       "        vertical-align: top;\n",
       "    }\n",
       "\n",
       "    .dataframe thead th {\n",
       "        text-align: right;\n",
       "    }\n",
       "</style>\n",
       "<table border=\"1\" class=\"dataframe\">\n",
       "  <thead>\n",
       "    <tr style=\"text-align: right;\">\n",
       "      <th></th>\n",
       "      <th>gender</th>\n",
       "      <th>age</th>\n",
       "      <th>id</th>\n",
       "      <th>became_member_on</th>\n",
       "      <th>income</th>\n",
       "    </tr>\n",
       "  </thead>\n",
       "  <tbody>\n",
       "    <tr>\n",
       "      <th>0</th>\n",
       "      <td>None</td>\n",
       "      <td>118</td>\n",
       "      <td>68be06ca386d4c31939f3a4f0e3dd783</td>\n",
       "      <td>20170212</td>\n",
       "      <td>NaN</td>\n",
       "    </tr>\n",
       "    <tr>\n",
       "      <th>1</th>\n",
       "      <td>F</td>\n",
       "      <td>55</td>\n",
       "      <td>0610b486422d4921ae7d2bf64640c50b</td>\n",
       "      <td>20170715</td>\n",
       "      <td>112000.0</td>\n",
       "    </tr>\n",
       "    <tr>\n",
       "      <th>2</th>\n",
       "      <td>None</td>\n",
       "      <td>118</td>\n",
       "      <td>38fe809add3b4fcf9315a9694bb96ff5</td>\n",
       "      <td>20180712</td>\n",
       "      <td>NaN</td>\n",
       "    </tr>\n",
       "  </tbody>\n",
       "</table>\n",
       "</div>"
      ],
      "text/plain": [
       "  gender  age                                id  became_member_on    income\n",
       "0   None  118  68be06ca386d4c31939f3a4f0e3dd783          20170212       NaN\n",
       "1      F   55  0610b486422d4921ae7d2bf64640c50b          20170715  112000.0\n",
       "2   None  118  38fe809add3b4fcf9315a9694bb96ff5          20180712       NaN"
      ]
     },
     "execution_count": 6,
     "metadata": {},
     "output_type": "execute_result"
    }
   ],
   "source": [
    "# reading 'profile.json' file into a pandas dataframe\n",
    "profile_ = pd.read_json('StarterFiles/profile.json'      , orient='records', lines=True)\n",
    "profile_.head(3)"
   ]
  },
  {
   "cell_type": "code",
   "execution_count": 7,
   "metadata": {},
   "outputs": [
    {
     "name": "stdout",
     "output_type": "stream",
     "text": [
      "<class 'pandas.core.frame.DataFrame'>\n",
      "RangeIndex: 17000 entries, 0 to 16999\n",
      "Data columns (total 5 columns):\n",
      " #   Column            Non-Null Count  Dtype  \n",
      "---  ------            --------------  -----  \n",
      " 0   gender            14825 non-null  object \n",
      " 1   age               17000 non-null  int64  \n",
      " 2   id                17000 non-null  object \n",
      " 3   became_member_on  17000 non-null  int64  \n",
      " 4   income            14825 non-null  float64\n",
      "dtypes: float64(1), int64(2), object(2)\n",
      "memory usage: 664.2+ KB\n"
     ]
    }
   ],
   "source": [
    "profile_.info()"
   ]
  },
  {
   "cell_type": "code",
   "execution_count": 8,
   "metadata": {},
   "outputs": [
    {
     "data": {
      "image/png": "[encoded data removed]",
      "text/plain": [
       "<Figure size 1800x600 with 3 Axes>"
      ]
     },
     "metadata": {},
     "output_type": "display_data"
    }
   ],
   "source": [
    "# Creating a figure with three subplots\n",
    "fig, axes = plt.subplots(1, 3, figsize=(18, 6))\n",
    "\n",
    "# Plotting the distribution of gender column\n",
    "profile_.fillna('NA').groupby('gender').count()['id'].plot(kind='bar', color='#0fa7d1', rot=0, ax=axes[0])\n",
    "axes[0].set_title(\"Gender Distribution\")\n",
    "axes[0].set_xlabel(\"Gender\")\n",
    "\n",
    "# Plotting the age distribution of customers\n",
    "profile_.age.hist(bins=40, color='#0fa7d1', grid=False, edgecolor='white', ax=axes[1])\n",
    "axes[1].set_title(\"Age Distribution\")\n",
    "axes[1].set_xlabel(\"Age\")\n",
    "\n",
    "# Plotting the income distribution of customers\n",
    "profile_.income.hist(bins=40, color='#0fa7d1', grid=False, edgecolor='white', ax=axes[2])\n",
    "axes[2].set_title(\"Income Distribution\")\n",
    "axes[2].set_xlabel(\"Income\")\n",
    "\n",
    "# Adjusting spacing between subplots\n",
    "plt.tight_layout()\n",
    "\n",
    "# Displaying the figure\n",
    "plt.show()\n"
   ]
  },
  {
   "cell_type": "code",
   "execution_count": 9,
   "metadata": {},
   "outputs": [
    {
     "data": {
      "text/html": [
       "<div>\n",
       "<style scoped>\n",
       "    .dataframe tbody tr th:only-of-type {\n",
       "        vertical-align: middle;\n",
       "    }\n",
       "\n",
       "    .dataframe tbody tr th {\n",
       "        vertical-align: top;\n",
       "    }\n",
       "\n",
       "    .dataframe thead th {\n",
       "        text-align: right;\n",
       "    }\n",
       "</style>\n",
       "<table border=\"1\" class=\"dataframe\">\n",
       "  <thead>\n",
       "    <tr style=\"text-align: right;\">\n",
       "      <th>gender</th>\n",
       "      <th>NA</th>\n",
       "    </tr>\n",
       "    <tr>\n",
       "      <th>age</th>\n",
       "      <th></th>\n",
       "    </tr>\n",
       "  </thead>\n",
       "  <tbody>\n",
       "    <tr>\n",
       "      <th>118</th>\n",
       "      <td>2175</td>\n",
       "    </tr>\n",
       "  </tbody>\n",
       "</table>\n",
       "</div>"
      ],
      "text/plain": [
       "gender    NA\n",
       "age         \n",
       "118     2175"
      ]
     },
     "execution_count": 9,
     "metadata": {},
     "output_type": "execute_result"
    }
   ],
   "source": [
    "# Since there is incomplete data over the gender and some a sinilar amout of age outliers, let's veryfy if they are the same customers\n",
    "df_temp_outliers = profile_[profile_.isnull().any(axis=1)].fillna('NA')\n",
    "pd.crosstab(df_temp_outliers['age'], df_temp_outliers['gender'])"
   ]
  },
  {
   "cell_type": "code",
   "execution_count": 10,
   "metadata": {},
   "outputs": [
    {
     "data": {
      "text/html": [
       "<div>\n",
       "<style scoped>\n",
       "    .dataframe tbody tr th:only-of-type {\n",
       "        vertical-align: middle;\n",
       "    }\n",
       "\n",
       "    .dataframe tbody tr th {\n",
       "        vertical-align: top;\n",
       "    }\n",
       "\n",
       "    .dataframe thead th {\n",
       "        text-align: right;\n",
       "    }\n",
       "</style>\n",
       "<table border=\"1\" class=\"dataframe\">\n",
       "  <thead>\n",
       "    <tr style=\"text-align: right;\">\n",
       "      <th></th>\n",
       "      <th>gender</th>\n",
       "      <th>age</th>\n",
       "      <th>customer_id</th>\n",
       "      <th>became_member_date</th>\n",
       "      <th>customer_income</th>\n",
       "      <th>imcomplete_data</th>\n",
       "      <th>memberdays</th>\n",
       "      <th>gender_M</th>\n",
       "      <th>gender_F</th>\n",
       "      <th>gender_0</th>\n",
       "    </tr>\n",
       "  </thead>\n",
       "  <tbody>\n",
       "    <tr>\n",
       "      <th>0</th>\n",
       "      <td>None</td>\n",
       "      <td>118</td>\n",
       "      <td>68be06ca386d4c31939f3a4f0e3dd783</td>\n",
       "      <td>2017-02-12</td>\n",
       "      <td>NaN</td>\n",
       "      <td>True</td>\n",
       "      <td>2295</td>\n",
       "      <td>0</td>\n",
       "      <td>0</td>\n",
       "      <td>0</td>\n",
       "    </tr>\n",
       "    <tr>\n",
       "      <th>1</th>\n",
       "      <td>F</td>\n",
       "      <td>55</td>\n",
       "      <td>0610b486422d4921ae7d2bf64640c50b</td>\n",
       "      <td>2017-07-15</td>\n",
       "      <td>112000.0</td>\n",
       "      <td>False</td>\n",
       "      <td>2142</td>\n",
       "      <td>0</td>\n",
       "      <td>1</td>\n",
       "      <td>0</td>\n",
       "    </tr>\n",
       "    <tr>\n",
       "      <th>2</th>\n",
       "      <td>None</td>\n",
       "      <td>118</td>\n",
       "      <td>38fe809add3b4fcf9315a9694bb96ff5</td>\n",
       "      <td>2018-07-12</td>\n",
       "      <td>NaN</td>\n",
       "      <td>True</td>\n",
       "      <td>1780</td>\n",
       "      <td>0</td>\n",
       "      <td>0</td>\n",
       "      <td>0</td>\n",
       "    </tr>\n",
       "  </tbody>\n",
       "</table>\n",
       "</div>"
      ],
      "text/plain": [
       "  gender  age                       customer_id became_member_date  \\\n",
       "0   None  118  68be06ca386d4c31939f3a4f0e3dd783         2017-02-12   \n",
       "1      F   55  0610b486422d4921ae7d2bf64640c50b         2017-07-15   \n",
       "2   None  118  38fe809add3b4fcf9315a9694bb96ff5         2018-07-12   \n",
       "\n",
       "   customer_income  imcomplete_data  memberdays  gender_M  gender_F  gender_0  \n",
       "0              NaN             True        2295         0         0         0  \n",
       "1         112000.0            False        2142         0         1         0  \n",
       "2              NaN             True        1780         0         0         0  "
      ]
     },
     "execution_count": 10,
     "metadata": {},
     "output_type": "execute_result"
    }
   ],
   "source": [
    "# Data preprocessing\n",
    "\n",
    "profile = profile_.copy()\n",
    "# Since the age outliers and missing age values are the same customers, we lets identify them\n",
    "\n",
    "# identify the age outliers\n",
    "profile['imcomplete_data'] = profile['gender'].isnull()\n",
    "\n",
    "#rename id column to customer_id, became_member_on to became_member_date and income to customer_income\n",
    "profile.rename(columns={'id':'customer_id', 'became_member_on':'became_member_date', 'income':'customer_income'}, inplace=True)\n",
    "\n",
    "# adjust became_member_date from string in format YYYYMMDD to datetime\n",
    "profile['became_member_date'] = pd.to_datetime(profile['became_member_date'], format='%Y%m%d')\n",
    "\n",
    "# create a new column with the number of days since the customer became a member\n",
    "profile['memberdays'] = (datetime.datetime.today() - profile['became_member_date']).dt.days\n",
    "\n",
    "# one hot encoding gender column\n",
    "profile['gender_M'] = profile['gender'].apply(lambda x: 1 if x == 'M' else 0)\n",
    "profile['gender_F'] = profile['gender'].apply(lambda x: 1 if x == 'F' else 0)\n",
    "profile['gender_0'] = profile['gender'].apply(lambda x: 1 if x == '0' else 0)\n",
    "\n",
    "\n",
    "profile.head(3)"
   ]
  },
  {
   "cell_type": "markdown",
   "metadata": {},
   "source": [
    "## 1.3. Transcript \n",
    "- event (str) - record description (ie transaction, offer received, offer viewed, etc.)\n",
    "- person (str) - customer id\n",
    "- time (int) - time in hours since start of test. The data begins at time t=0\n",
    "- value - (dict of strings) - either an offer id or transaction amount depending on the record"
   ]
  },
  {
   "cell_type": "code",
   "execution_count": 11,
   "metadata": {},
   "outputs": [],
   "source": [
    "import os\n",
    "import numpy as np\n",
    "import pandas as pd\n",
    "import matplotlib.pyplot as plt\n",
    "import datetime"
   ]
  },
  {
   "cell_type": "code",
   "execution_count": 12,
   "metadata": {},
   "outputs": [
    {
     "data": {
      "text/html": [
       "<div>\n",
       "<style scoped>\n",
       "    .dataframe tbody tr th:only-of-type {\n",
       "        vertical-align: middle;\n",
       "    }\n",
       "\n",
       "    .dataframe tbody tr th {\n",
       "        vertical-align: top;\n",
       "    }\n",
       "\n",
       "    .dataframe thead th {\n",
       "        text-align: right;\n",
       "    }\n",
       "</style>\n",
       "<table border=\"1\" class=\"dataframe\">\n",
       "  <thead>\n",
       "    <tr style=\"text-align: right;\">\n",
       "      <th></th>\n",
       "      <th>person</th>\n",
       "      <th>event</th>\n",
       "      <th>value</th>\n",
       "      <th>time</th>\n",
       "    </tr>\n",
       "  </thead>\n",
       "  <tbody>\n",
       "    <tr>\n",
       "      <th>0</th>\n",
       "      <td>78afa995795e4d85b5d9ceeca43f5fef</td>\n",
       "      <td>offer received</td>\n",
       "      <td>{'offer id': '9b98b8c7a33c4b65b9aebfe6a799e6d9'}</td>\n",
       "      <td>0</td>\n",
       "    </tr>\n",
       "    <tr>\n",
       "      <th>1</th>\n",
       "      <td>a03223e636434f42ac4c3df47e8bac43</td>\n",
       "      <td>offer received</td>\n",
       "      <td>{'offer id': '0b1e1539f2cc45b7b9fa7c272da2e1d7'}</td>\n",
       "      <td>0</td>\n",
       "    </tr>\n",
       "    <tr>\n",
       "      <th>2</th>\n",
       "      <td>e2127556f4f64592b11af22de27a7932</td>\n",
       "      <td>offer received</td>\n",
       "      <td>{'offer id': '2906b810c7d4411798c6938adc9daaa5'}</td>\n",
       "      <td>0</td>\n",
       "    </tr>\n",
       "    <tr>\n",
       "      <th>3</th>\n",
       "      <td>8ec6ce2a7e7949b1bf142def7d0e0586</td>\n",
       "      <td>offer received</td>\n",
       "      <td>{'offer id': 'fafdcd668e3743c1bb461111dcafc2a4'}</td>\n",
       "      <td>0</td>\n",
       "    </tr>\n",
       "    <tr>\n",
       "      <th>4</th>\n",
       "      <td>68617ca6246f4fbc85e91a2a49552598</td>\n",
       "      <td>offer received</td>\n",
       "      <td>{'offer id': '4d5c57ea9a6940dd891ad53e9dbe8da0'}</td>\n",
       "      <td>0</td>\n",
       "    </tr>\n",
       "  </tbody>\n",
       "</table>\n",
       "</div>"
      ],
      "text/plain": [
       "                             person           event  \\\n",
       "0  78afa995795e4d85b5d9ceeca43f5fef  offer received   \n",
       "1  a03223e636434f42ac4c3df47e8bac43  offer received   \n",
       "2  e2127556f4f64592b11af22de27a7932  offer received   \n",
       "3  8ec6ce2a7e7949b1bf142def7d0e0586  offer received   \n",
       "4  68617ca6246f4fbc85e91a2a49552598  offer received   \n",
       "\n",
       "                                              value  time  \n",
       "0  {'offer id': '9b98b8c7a33c4b65b9aebfe6a799e6d9'}     0  \n",
       "1  {'offer id': '0b1e1539f2cc45b7b9fa7c272da2e1d7'}     0  \n",
       "2  {'offer id': '2906b810c7d4411798c6938adc9daaa5'}     0  \n",
       "3  {'offer id': 'fafdcd668e3743c1bb461111dcafc2a4'}     0  \n",
       "4  {'offer id': '4d5c57ea9a6940dd891ad53e9dbe8da0'}     0  "
      ]
     },
     "execution_count": 12,
     "metadata": {},
     "output_type": "execute_result"
    }
   ],
   "source": [
    "# reading 'transcript.json' file into a pandas dataframe\n",
    "transcript_ = pd.read_json('StarterFiles/transcript.json', orient='records', lines=True)\n",
    "transcript_.head(5)"
   ]
  },
  {
   "cell_type": "code",
   "execution_count": 13,
   "metadata": {},
   "outputs": [
    {
     "name": "stdout",
     "output_type": "stream",
     "text": [
      "<class 'pandas.core.frame.DataFrame'>\n",
      "RangeIndex: 306534 entries, 0 to 306533\n",
      "Data columns (total 4 columns):\n",
      " #   Column  Non-Null Count   Dtype \n",
      "---  ------  --------------   ----- \n",
      " 0   person  306534 non-null  object\n",
      " 1   event   306534 non-null  object\n",
      " 2   value   306534 non-null  object\n",
      " 3   time    306534 non-null  int64 \n",
      "dtypes: int64(1), object(3)\n",
      "memory usage: 9.4+ MB\n"
     ]
    }
   ],
   "source": [
    "transcript_.info()"
   ]
  },
  {
   "cell_type": "code",
   "execution_count": 14,
   "metadata": {},
   "outputs": [
    {
     "data": {
      "text/html": [
       "<div>\n",
       "<style scoped>\n",
       "    .dataframe tbody tr th:only-of-type {\n",
       "        vertical-align: middle;\n",
       "    }\n",
       "\n",
       "    .dataframe tbody tr th {\n",
       "        vertical-align: top;\n",
       "    }\n",
       "\n",
       "    .dataframe thead th {\n",
       "        text-align: right;\n",
       "    }\n",
       "</style>\n",
       "<table border=\"1\" class=\"dataframe\">\n",
       "  <thead>\n",
       "    <tr style=\"text-align: right;\">\n",
       "      <th></th>\n",
       "      <th>person</th>\n",
       "      <th>event</th>\n",
       "      <th>value</th>\n",
       "      <th>time</th>\n",
       "    </tr>\n",
       "  </thead>\n",
       "  <tbody>\n",
       "    <tr>\n",
       "      <th>12658</th>\n",
       "      <td>9fa9ae8f57894cc9a3b8a9bbe0fc1b2f</td>\n",
       "      <td>offer completed</td>\n",
       "      <td>{'offer_id': '2906b810c7d4411798c6938adc9daaa5...</td>\n",
       "      <td>0</td>\n",
       "    </tr>\n",
       "    <tr>\n",
       "      <th>12672</th>\n",
       "      <td>fe97aa22dd3e48c8b143116a8403dd52</td>\n",
       "      <td>offer completed</td>\n",
       "      <td>{'offer_id': 'fafdcd668e3743c1bb461111dcafc2a4...</td>\n",
       "      <td>0</td>\n",
       "    </tr>\n",
       "    <tr>\n",
       "      <th>12679</th>\n",
       "      <td>629fc02d56414d91bca360decdfa9288</td>\n",
       "      <td>offer completed</td>\n",
       "      <td>{'offer_id': '9b98b8c7a33c4b65b9aebfe6a799e6d9...</td>\n",
       "      <td>0</td>\n",
       "    </tr>\n",
       "  </tbody>\n",
       "</table>\n",
       "</div>"
      ],
      "text/plain": [
       "                                 person            event  \\\n",
       "12658  9fa9ae8f57894cc9a3b8a9bbe0fc1b2f  offer completed   \n",
       "12672  fe97aa22dd3e48c8b143116a8403dd52  offer completed   \n",
       "12679  629fc02d56414d91bca360decdfa9288  offer completed   \n",
       "\n",
       "                                                   value  time  \n",
       "12658  {'offer_id': '2906b810c7d4411798c6938adc9daaa5...     0  \n",
       "12672  {'offer_id': 'fafdcd668e3743c1bb461111dcafc2a4...     0  \n",
       "12679  {'offer_id': '9b98b8c7a33c4b65b9aebfe6a799e6d9...     0  "
      ]
     },
     "execution_count": 14,
     "metadata": {},
     "output_type": "execute_result"
    }
   ],
   "source": [
    "transcript_.query('event == \"offer completed\"').head(3)"
   ]
  },
  {
   "cell_type": "code",
   "execution_count": 15,
   "metadata": {},
   "outputs": [
    {
     "data": {
      "text/plain": [
       "Text(0.5, 1.0, 'Quantity of events by type')"
      ]
     },
     "execution_count": 15,
     "metadata": {},
     "output_type": "execute_result"
    },
    {
     "data": {
      "image/png": "[encoded data removed]",
      "text/plain": [
       "<Figure size 600x300 with 1 Axes>"
      ]
     },
     "metadata": {},
     "output_type": "display_data"
    }
   ],
   "source": [
    "# quantity of events by type\n",
    "transcript_.groupby('event').count()['person'].plot(kind = 'bar', figsize = (6, 3), color = '#0fa7d1', rot = 0)\n",
    "plt.title('Quantity of events by type')"
   ]
  },
  {
   "cell_type": "code",
   "execution_count": 16,
   "metadata": {},
   "outputs": [
    {
     "data": {
      "text/html": [
       "<div>\n",
       "<style scoped>\n",
       "    .dataframe tbody tr th:only-of-type {\n",
       "        vertical-align: middle;\n",
       "    }\n",
       "\n",
       "    .dataframe tbody tr th {\n",
       "        vertical-align: top;\n",
       "    }\n",
       "\n",
       "    .dataframe thead th {\n",
       "        text-align: right;\n",
       "    }\n",
       "</style>\n",
       "<table border=\"1\" class=\"dataframe\">\n",
       "  <thead>\n",
       "    <tr style=\"text-align: right;\">\n",
       "      <th></th>\n",
       "      <th>customer_id</th>\n",
       "      <th>event</th>\n",
       "      <th>value</th>\n",
       "      <th>time</th>\n",
       "      <th>offer_id</th>\n",
       "      <th>amount</th>\n",
       "      <th>received</th>\n",
       "      <th>viewed</th>\n",
       "      <th>transaction</th>\n",
       "      <th>completed</th>\n",
       "    </tr>\n",
       "  </thead>\n",
       "  <tbody>\n",
       "    <tr>\n",
       "      <th>12658</th>\n",
       "      <td>9fa9ae8f57894cc9a3b8a9bbe0fc1b2f</td>\n",
       "      <td>offer completed</td>\n",
       "      <td>{'offer_id': '2906b810c7d4411798c6938adc9daaa5...</td>\n",
       "      <td>0</td>\n",
       "      <td>2906b810c7d4411798c6938adc9daaa5</td>\n",
       "      <td>NaN</td>\n",
       "      <td>0</td>\n",
       "      <td>0</td>\n",
       "      <td>0</td>\n",
       "      <td>1</td>\n",
       "    </tr>\n",
       "    <tr>\n",
       "      <th>12672</th>\n",
       "      <td>fe97aa22dd3e48c8b143116a8403dd52</td>\n",
       "      <td>offer completed</td>\n",
       "      <td>{'offer_id': 'fafdcd668e3743c1bb461111dcafc2a4...</td>\n",
       "      <td>0</td>\n",
       "      <td>fafdcd668e3743c1bb461111dcafc2a4</td>\n",
       "      <td>NaN</td>\n",
       "      <td>0</td>\n",
       "      <td>0</td>\n",
       "      <td>0</td>\n",
       "      <td>1</td>\n",
       "    </tr>\n",
       "    <tr>\n",
       "      <th>12679</th>\n",
       "      <td>629fc02d56414d91bca360decdfa9288</td>\n",
       "      <td>offer completed</td>\n",
       "      <td>{'offer_id': '9b98b8c7a33c4b65b9aebfe6a799e6d9...</td>\n",
       "      <td>0</td>\n",
       "      <td>9b98b8c7a33c4b65b9aebfe6a799e6d9</td>\n",
       "      <td>NaN</td>\n",
       "      <td>0</td>\n",
       "      <td>0</td>\n",
       "      <td>0</td>\n",
       "      <td>1</td>\n",
       "    </tr>\n",
       "  </tbody>\n",
       "</table>\n",
       "</div>"
      ],
      "text/plain": [
       "                            customer_id            event  \\\n",
       "12658  9fa9ae8f57894cc9a3b8a9bbe0fc1b2f  offer completed   \n",
       "12672  fe97aa22dd3e48c8b143116a8403dd52  offer completed   \n",
       "12679  629fc02d56414d91bca360decdfa9288  offer completed   \n",
       "\n",
       "                                                   value  time  \\\n",
       "12658  {'offer_id': '2906b810c7d4411798c6938adc9daaa5...     0   \n",
       "12672  {'offer_id': 'fafdcd668e3743c1bb461111dcafc2a4...     0   \n",
       "12679  {'offer_id': '9b98b8c7a33c4b65b9aebfe6a799e6d9...     0   \n",
       "\n",
       "                               offer_id  amount  received  viewed  \\\n",
       "12658  2906b810c7d4411798c6938adc9daaa5     NaN         0       0   \n",
       "12672  fafdcd668e3743c1bb461111dcafc2a4     NaN         0       0   \n",
       "12679  9b98b8c7a33c4b65b9aebfe6a799e6d9     NaN         0       0   \n",
       "\n",
       "       transaction  completed  \n",
       "12658            0          1  \n",
       "12672            0          1  \n",
       "12679            0          1  "
      ]
     },
     "execution_count": 16,
     "metadata": {},
     "output_type": "execute_result"
    }
   ],
   "source": [
    "# Data preprocessing\n",
    "transcript = transcript_.copy()\n",
    "#rename person column to customer_id\n",
    "transcript.rename(columns={'person':'customer_id'}, inplace=True)\n",
    "\n",
    "transcript['offer_id'] = transcript['value'].apply(lambda x: x.get('offer id')  if x.get('offer id') != None else x.get('offer_id'))\n",
    "transcript['amount'] = transcript['value'].apply(lambda x: x.get('amount'))\n",
    "# transcript.drop('value', axis=1, inplace=True)\n",
    "\n",
    "# one-hot encoding event column with a for loop\n",
    "for event in transcript['event'].drop_duplicates().reset_index(drop=True):\n",
    "    try:\n",
    "        transcript[event.split(' ')[1]] = transcript['event'].apply(lambda x: 1 if x == event else 0)\n",
    "    except:\n",
    "        transcript[event.split(' ')[0]] = transcript['event'].apply(lambda x: 1 if x == event else 0)\n",
    "\n",
    "transcript.query('event == \"offer completed\"').head(3)"
   ]
  },
  {
   "cell_type": "code",
   "execution_count": 17,
   "metadata": {},
   "outputs": [],
   "source": [
    "# https://towardsdatascience.com/starbucks-capstone-challenge-35e3b8c6b328\n",
    "# https://medium.com/swlh/starbucks-capstone-challenge-350575a03f9a\n"
   ]
  },
  {
   "cell_type": "code",
   "execution_count": 18,
   "metadata": {},
   "outputs": [],
   "source": [
    "#plotting the distribution of the amount column"
   ]
  },
  {
   "cell_type": "markdown",
   "metadata": {},
   "source": [
    "# 02. Buiding offer dataset"
   ]
  },
  {
   "cell_type": "code",
   "execution_count": 19,
   "metadata": {},
   "outputs": [
    {
     "data": {
      "text/plain": [
       "<AxesSubplot:>"
      ]
     },
     "execution_count": 19,
     "metadata": {},
     "output_type": "execute_result"
    },
    {
     "data": {
      "image/png": "[encoded data removed]",
      "text/plain": [
       "<Figure size 600x300 with 1 Axes>"
      ]
     },
     "metadata": {},
     "output_type": "display_data"
    }
   ],
   "source": [
    "transcript[['completed', 'received', 'viewed']].sum().plot(kind='bar', figsize=(6, 3), color='#0fa7d1', rot=0)"
   ]
  },
  {
   "cell_type": "code",
   "execution_count": 20,
   "metadata": {},
   "outputs": [],
   "source": [
    "offers = transcript.copy().groupby(['customer_id', 'offer_id']).sum()[[ 'viewed',  'received', 'completed', 'transaction']].reset_index().reset_index().sample(frac=1).reset_index(drop=True)\n",
    "offers['percent_completed'] = offers['completed'] / offers['received']"
   ]
  },
  {
   "cell_type": "code",
   "execution_count": 21,
   "metadata": {},
   "outputs": [
    {
     "data": {
      "text/plain": [
       "index                1.0\n",
       "customer_id          1.0\n",
       "offer_id             1.0\n",
       "viewed               1.0\n",
       "received             1.0\n",
       "completed            1.0\n",
       "transaction          1.0\n",
       "percent_completed    1.0\n",
       "dtype: float64"
      ]
     },
     "execution_count": 21,
     "metadata": {},
     "output_type": "execute_result"
    }
   ],
   "source": [
    "offers.query('completed <= received').count() / offers.count()"
   ]
  },
  {
   "cell_type": "code",
   "execution_count": 22,
   "metadata": {},
   "outputs": [
    {
     "data": {
      "text/plain": [
       "(55222, 14)"
      ]
     },
     "execution_count": 22,
     "metadata": {},
     "output_type": "execute_result"
    }
   ],
   "source": [
    "#joined df\n",
    "df_ = offers.merge(portfolio, on='offer_id', how='inner').merge(profile, on='customer_id', how='inner')\n",
    "\n",
    "df_['offer_completed'] = df_['percent_completed'].apply(lambda x: 1 if x > 0.5 else 0)\n",
    "df_['offer_recieved']  = df_['received'].apply(lambda x: 1 if x > 0 else 0)\n",
    "df_['transaction_made'] = df_['transaction'].apply(lambda x: 1 if x > 0 else 0)\n",
    "\n",
    "df_ =df_.query('offer_recieved == 1')\n",
    "\n",
    "df_ = df_[df_['imcomplete_data'] == False]\n",
    "df_.drop(['imcomplete_data', 'became_member_date','gender'], axis=1, inplace=True)\n",
    "df_.drop(['gender_0'], axis=1, inplace=True)\n",
    "df_.drop(['customer_id', 'offer_id'], axis=1, inplace=True)\n",
    "df_.drop(['index','viewed','received','completed','transaction','percent_completed','transaction_made','offer_recieved','gender_F'], axis=1, inplace=True)\n",
    "\n",
    "df_.shape"
   ]
  },
  {
   "cell_type": "code",
   "execution_count": 23,
   "metadata": {},
   "outputs": [
    {
     "data": {
      "text/html": [
       "<div>\n",
       "<style scoped>\n",
       "    .dataframe tbody tr th:only-of-type {\n",
       "        vertical-align: middle;\n",
       "    }\n",
       "\n",
       "    .dataframe tbody tr th {\n",
       "        vertical-align: top;\n",
       "    }\n",
       "\n",
       "    .dataframe thead th {\n",
       "        text-align: right;\n",
       "    }\n",
       "</style>\n",
       "<table border=\"1\" class=\"dataframe\">\n",
       "  <thead>\n",
       "    <tr style=\"text-align: right;\">\n",
       "      <th></th>\n",
       "      <th>offer_reward</th>\n",
       "      <th>difficulty</th>\n",
       "      <th>offer_duration</th>\n",
       "      <th>mobile</th>\n",
       "      <th>social</th>\n",
       "      <th>web</th>\n",
       "      <th>bogo</th>\n",
       "      <th>discount</th>\n",
       "      <th>informational</th>\n",
       "      <th>age</th>\n",
       "      <th>customer_income</th>\n",
       "      <th>memberdays</th>\n",
       "      <th>gender_M</th>\n",
       "      <th>offer_completed</th>\n",
       "    </tr>\n",
       "  </thead>\n",
       "  <tbody>\n",
       "    <tr>\n",
       "      <th>0</th>\n",
       "      <td>10</td>\n",
       "      <td>10</td>\n",
       "      <td>5</td>\n",
       "      <td>1</td>\n",
       "      <td>1</td>\n",
       "      <td>1</td>\n",
       "      <td>1</td>\n",
       "      <td>0</td>\n",
       "      <td>0</td>\n",
       "      <td>24</td>\n",
       "      <td>57000.0</td>\n",
       "      <td>2100</td>\n",
       "      <td>1</td>\n",
       "      <td>0</td>\n",
       "    </tr>\n",
       "    <tr>\n",
       "      <th>1</th>\n",
       "      <td>10</td>\n",
       "      <td>10</td>\n",
       "      <td>7</td>\n",
       "      <td>1</td>\n",
       "      <td>1</td>\n",
       "      <td>0</td>\n",
       "      <td>1</td>\n",
       "      <td>0</td>\n",
       "      <td>0</td>\n",
       "      <td>24</td>\n",
       "      <td>57000.0</td>\n",
       "      <td>2100</td>\n",
       "      <td>1</td>\n",
       "      <td>0</td>\n",
       "    </tr>\n",
       "    <tr>\n",
       "      <th>2</th>\n",
       "      <td>0</td>\n",
       "      <td>0</td>\n",
       "      <td>4</td>\n",
       "      <td>1</td>\n",
       "      <td>0</td>\n",
       "      <td>1</td>\n",
       "      <td>0</td>\n",
       "      <td>0</td>\n",
       "      <td>1</td>\n",
       "      <td>24</td>\n",
       "      <td>57000.0</td>\n",
       "      <td>2100</td>\n",
       "      <td>1</td>\n",
       "      <td>0</td>\n",
       "    </tr>\n",
       "    <tr>\n",
       "      <th>3</th>\n",
       "      <td>2</td>\n",
       "      <td>10</td>\n",
       "      <td>7</td>\n",
       "      <td>1</td>\n",
       "      <td>0</td>\n",
       "      <td>1</td>\n",
       "      <td>0</td>\n",
       "      <td>1</td>\n",
       "      <td>0</td>\n",
       "      <td>24</td>\n",
       "      <td>57000.0</td>\n",
       "      <td>2100</td>\n",
       "      <td>1</td>\n",
       "      <td>0</td>\n",
       "    </tr>\n",
       "    <tr>\n",
       "      <th>4</th>\n",
       "      <td>3</td>\n",
       "      <td>7</td>\n",
       "      <td>7</td>\n",
       "      <td>1</td>\n",
       "      <td>1</td>\n",
       "      <td>1</td>\n",
       "      <td>0</td>\n",
       "      <td>1</td>\n",
       "      <td>0</td>\n",
       "      <td>24</td>\n",
       "      <td>57000.0</td>\n",
       "      <td>2100</td>\n",
       "      <td>1</td>\n",
       "      <td>0</td>\n",
       "    </tr>\n",
       "    <tr>\n",
       "      <th>...</th>\n",
       "      <td>...</td>\n",
       "      <td>...</td>\n",
       "      <td>...</td>\n",
       "      <td>...</td>\n",
       "      <td>...</td>\n",
       "      <td>...</td>\n",
       "      <td>...</td>\n",
       "      <td>...</td>\n",
       "      <td>...</td>\n",
       "      <td>...</td>\n",
       "      <td>...</td>\n",
       "      <td>...</td>\n",
       "      <td>...</td>\n",
       "      <td>...</td>\n",
       "    </tr>\n",
       "    <tr>\n",
       "      <th>63283</th>\n",
       "      <td>2</td>\n",
       "      <td>10</td>\n",
       "      <td>10</td>\n",
       "      <td>1</td>\n",
       "      <td>1</td>\n",
       "      <td>1</td>\n",
       "      <td>0</td>\n",
       "      <td>1</td>\n",
       "      <td>0</td>\n",
       "      <td>50</td>\n",
       "      <td>97000.0</td>\n",
       "      <td>2150</td>\n",
       "      <td>1</td>\n",
       "      <td>1</td>\n",
       "    </tr>\n",
       "    <tr>\n",
       "      <th>63284</th>\n",
       "      <td>2</td>\n",
       "      <td>10</td>\n",
       "      <td>10</td>\n",
       "      <td>1</td>\n",
       "      <td>1</td>\n",
       "      <td>1</td>\n",
       "      <td>0</td>\n",
       "      <td>1</td>\n",
       "      <td>0</td>\n",
       "      <td>67</td>\n",
       "      <td>80000.0</td>\n",
       "      <td>2188</td>\n",
       "      <td>1</td>\n",
       "      <td>1</td>\n",
       "    </tr>\n",
       "    <tr>\n",
       "      <th>63285</th>\n",
       "      <td>2</td>\n",
       "      <td>10</td>\n",
       "      <td>10</td>\n",
       "      <td>1</td>\n",
       "      <td>1</td>\n",
       "      <td>1</td>\n",
       "      <td>0</td>\n",
       "      <td>1</td>\n",
       "      <td>0</td>\n",
       "      <td>76</td>\n",
       "      <td>59000.0</td>\n",
       "      <td>3531</td>\n",
       "      <td>1</td>\n",
       "      <td>1</td>\n",
       "    </tr>\n",
       "    <tr>\n",
       "      <th>63286</th>\n",
       "      <td>2</td>\n",
       "      <td>10</td>\n",
       "      <td>10</td>\n",
       "      <td>1</td>\n",
       "      <td>1</td>\n",
       "      <td>1</td>\n",
       "      <td>0</td>\n",
       "      <td>1</td>\n",
       "      <td>0</td>\n",
       "      <td>53</td>\n",
       "      <td>39000.0</td>\n",
       "      <td>3158</td>\n",
       "      <td>1</td>\n",
       "      <td>1</td>\n",
       "    </tr>\n",
       "    <tr>\n",
       "      <th>63287</th>\n",
       "      <td>2</td>\n",
       "      <td>10</td>\n",
       "      <td>10</td>\n",
       "      <td>1</td>\n",
       "      <td>1</td>\n",
       "      <td>1</td>\n",
       "      <td>0</td>\n",
       "      <td>1</td>\n",
       "      <td>0</td>\n",
       "      <td>53</td>\n",
       "      <td>32000.0</td>\n",
       "      <td>2312</td>\n",
       "      <td>0</td>\n",
       "      <td>1</td>\n",
       "    </tr>\n",
       "  </tbody>\n",
       "</table>\n",
       "<p>55222 rows × 14 columns</p>\n",
       "</div>"
      ],
      "text/plain": [
       "       offer_reward  difficulty  offer_duration  mobile  social  web  bogo  \\\n",
       "0                10          10               5       1       1    1     1   \n",
       "1                10          10               7       1       1    0     1   \n",
       "2                 0           0               4       1       0    1     0   \n",
       "3                 2          10               7       1       0    1     0   \n",
       "4                 3           7               7       1       1    1     0   \n",
       "...             ...         ...             ...     ...     ...  ...   ...   \n",
       "63283             2          10              10       1       1    1     0   \n",
       "63284             2          10              10       1       1    1     0   \n",
       "63285             2          10              10       1       1    1     0   \n",
       "63286             2          10              10       1       1    1     0   \n",
       "63287             2          10              10       1       1    1     0   \n",
       "\n",
       "       discount  informational  age  customer_income  memberdays  gender_M  \\\n",
       "0             0              0   24          57000.0        2100         1   \n",
       "1             0              0   24          57000.0        2100         1   \n",
       "2             0              1   24          57000.0        2100         1   \n",
       "3             1              0   24          57000.0        2100         1   \n",
       "4             1              0   24          57000.0        2100         1   \n",
       "...         ...            ...  ...              ...         ...       ...   \n",
       "63283         1              0   50          97000.0        2150         1   \n",
       "63284         1              0   67          80000.0        2188         1   \n",
       "63285         1              0   76          59000.0        3531         1   \n",
       "63286         1              0   53          39000.0        3158         1   \n",
       "63287         1              0   53          32000.0        2312         0   \n",
       "\n",
       "       offer_completed  \n",
       "0                    0  \n",
       "1                    0  \n",
       "2                    0  \n",
       "3                    0  \n",
       "4                    0  \n",
       "...                ...  \n",
       "63283                1  \n",
       "63284                1  \n",
       "63285                1  \n",
       "63286                1  \n",
       "63287                1  \n",
       "\n",
       "[55222 rows x 14 columns]"
      ]
     },
     "execution_count": 23,
     "metadata": {},
     "output_type": "execute_result"
    }
   ],
   "source": [
    "df_"
   ]
  },
  {
   "cell_type": "code",
   "execution_count": 24,
   "metadata": {},
   "outputs": [
    {
     "data": {
      "text/plain": [
       "array([[<AxesSubplot:title={'center':'offer_completed'}>]], dtype=object)"
      ]
     },
     "execution_count": 24,
     "metadata": {},
     "output_type": "execute_result"
    },
    {
     "data": {
      "image/png": "[encoded data removed]",
      "text/plain": [
       "<Figure size 640x480 with 1 Axes>"
      ]
     },
     "metadata": {},
     "output_type": "display_data"
    }
   ],
   "source": [
    "df_[['offer_completed']].hist()"
   ]
  },
  {
   "cell_type": "markdown",
   "metadata": {},
   "source": [
    "# 3. Testing a ML aproach"
   ]
  },
  {
   "cell_type": "markdown",
   "metadata": {},
   "source": [
    "## 3.1 Metrics and baseline model "
   ]
  },
  {
   "cell_type": "code",
   "execution_count": 74,
   "metadata": {},
   "outputs": [
    {
     "data": {
      "image/png": "[encoded data removed]",
      "text/plain": [
       "<Figure size 1200x600 with 1 Axes>"
      ]
     },
     "metadata": {},
     "output_type": "display_data"
    }
   ],
   "source": [
    "#import decision tree classifier and plot most important features\n",
    "from sklearn.tree import DecisionTreeClassifier\n",
    "from sklearn.model_selection import train_test_split\n",
    "from sklearn.metrics import accuracy_score, precision_score, recall_score, f1_score, confusion_matrix, classification_report\n",
    "\n",
    "#splitting the data into train and test sets\n",
    "X = df_.drop('offer_completed', axis=1)\n",
    "y = df_['offer_completed']\n",
    "\n",
    "X_train, X_test, y_train, y_test = train_test_split(X, y, test_size=0.2, random_state=42)\n",
    "\n",
    "#creating a decision tree classifier object\n",
    "clf = DecisionTreeClassifier(random_state=42)\n",
    "\n",
    "#fitting the classifier to the training data\n",
    "clf.fit(X_train, y_train)\n",
    "\n",
    "#making predictions on the test data\n",
    "y_pred = clf.predict(X_test)\n",
    "\n",
    "#calculating the accuracy, precision, recall and f1 scores\n",
    "accuracy = accuracy_score(y_test, y_pred)\n",
    "precision = precision_score(y_test, y_pred)\n",
    "recall = recall_score(y_test, y_pred)\n",
    "f1 = f1_score(y_test, y_pred)\n",
    "\n",
    "# plotting the most important features\n",
    "importances = clf.feature_importances_\n",
    "indices = np.argsort(importances)[::-1]\n",
    "plt.figure(figsize=(12,6))\n",
    "plt.title(f\"Feature importances by Decision Tree Classifier, metrics: accuracy = {accuracy:.2f}, precision = {precision:.2f}, recall = {recall:.2f}, f1 = {f1:.2f} AUROC = {roc_auc_score(y_test, y_pred):.2f}\")\n",
    "plt.bar(range(X.shape[1]), importances[indices], align=\"center\", color = '#0fa7d1')\n",
    "\n",
    "## color the 4 biggest bars in a different color\n",
    "plt.bar(range(X.shape[1]), importances[indices], align=\"center\", color = '#0fa7d1')\n",
    "plt.bar(range(X.shape[1])[:4], importances[indices][:4], align=\"center\", color = '#fdae61')\n",
    "\n",
    "\n",
    "plt.xticks(range(X.shape[1]), X.columns[indices], rotation=90)\n",
    "plt.xlim([-1, X.shape[1]])\n",
    "plt.show()"
   ]
  },
  {
   "cell_type": "code",
   "execution_count": 70,
   "metadata": {},
   "outputs": [
    {
     "data": {
      "text/plain": [
       "Text(0.5, 1.0, 'Offer completed by age')"
      ]
     },
     "execution_count": 70,
     "metadata": {},
     "output_type": "execute_result"
    },
    {
     "data": {
      "image/png": "[encoded data removed]",
      "text/plain": [
       "<Figure size 2000x500 with 4 Axes>"
      ]
     },
     "metadata": {},
     "output_type": "display_data"
    }
   ],
   "source": [
    "#verifying relation between offer completed and membership days, offer duration and customer customer_income in 3 subplots\n",
    "df_benchmark = df_.copy()\n",
    "\n",
    "#dividing the membership days into 5 bins\n",
    "df_benchmark['memberdays'] = pd.qcut(df_benchmark['memberdays'], 5, labels=False)\n",
    "\n",
    "#dividing the customer_income into 5 bins\n",
    "df_benchmark['customer_income'] = pd.qcut(df_benchmark['customer_income'], 5, labels=False)\n",
    "\n",
    "# Dividing offer duration into 5 bins\n",
    "df_benchmark['offer_duration'] = pd.qcut(df_benchmark['offer_duration'], 5, labels=False, duplicates='drop')\n",
    "\n",
    "# Defining subplots\n",
    "fig, ax = plt.subplots(1, 4, figsize=(20, 5))\n",
    "\n",
    "# Plotting the distribution of the membership days\n",
    "df_benchmark[['memberdays', 'offer_completed']].groupby('memberdays').mean().plot(kind='bar', color='#0fa7d1', rot=0, ax=ax[0])\n",
    "ax[0].set_title('Offer completed by membership days', fontsize=10)\n",
    "# set bin label as the minimum value of instance in each bin\n",
    "\n",
    "# Plotting the distribution of the customer_income\n",
    "df_benchmark[['customer_income', 'offer_completed']].groupby('customer_income').mean().plot(kind='bar', color='#0fa7d1', rot=0, ax=ax[1], fontsize=10)\n",
    "ax[1].set_title('Offer completed by customer_income')\n",
    "\n",
    "# Plotting the distribution of the offer_duration\n",
    "df_benchmark[['offer_duration', 'offer_completed']].groupby('offer_duration').mean().plot(kind='bar', color='#0fa7d1', rot=0, ax=ax[2], fontsize=10)\n",
    "ax[2].set_title('Offer completed by offer_duration', fontsize=10)\n",
    "\n",
    "# Dividing age into 5 bins\n",
    "df_benchmark['age'] = pd.qcut(df_benchmark['age'], 5, labels=False)\n",
    "\n",
    "# Plotting the distribution of the age\n",
    "df_benchmark[['age', 'offer_completed']].groupby('age').mean().plot(kind='bar', color='#0fa7d1', rot=0, ax=ax[3])\n",
    "ax[3].set_title('Offer completed by age')\n"
   ]
  },
  {
   "cell_type": "code",
   "execution_count": 77,
   "metadata": {},
   "outputs": [
    {
     "data": {
      "image/png": "[encoded data removed]",
      "text/plain": [
       "<Figure size 1200x600 with 1 Axes>"
      ]
     },
     "metadata": {},
     "output_type": "display_data"
    }
   ],
   "source": [
    "#import decision tree classifier and plot most important features\n",
    "from sklearn.tree import DecisionTreeClassifier\n",
    "from sklearn.model_selection import train_test_split\n",
    "from sklearn.metrics import accuracy_score, precision_score, recall_score, f1_score, confusion_matrix\n",
    "\n",
    "#splitting the data into train and test sets\n",
    "X = df_.drop('offer_completed', axis=1)[['memberdays', 'customer_income', 'offer_duration','age']]\n",
    "y = df_['offer_completed']\n",
    "\n",
    "X_train, X_test, y_train, y_test = train_test_split(X, y, test_size=0.2, random_state=42)\n",
    "\n",
    "#creating a decision tree classifier object\n",
    "clf = DecisionTreeClassifier(random_state=42)\n",
    "\n",
    "#fitting the classifier to the training data\n",
    "clf.fit(X_train, y_train)\n",
    "\n",
    "#making predictions on the test data\n",
    "y_pred = clf.predict(X_test)\n",
    "\n",
    "#calculating the accuracy, precision, recall and f1 scores\n",
    "accuracy = accuracy_score(y_test, y_pred)\n",
    "precision = precision_score(y_test, y_pred)\n",
    "recall = recall_score(y_test, y_pred)\n",
    "f1 = f1_score(y_test, y_pred)\n",
    "\n",
    "# plotting the most important features\n",
    "importances = clf.feature_importances_\n",
    "indices = np.argsort(importances)[::-1]\n",
    "plt.figure(figsize=(12,6))\n",
    "plt.title(f\"Feature importances by Decision Tree Classifier, metrics: accuracy = {accuracy:.2f}, precision = {precision:.2f}, recall = {recall:.2f}, f1 = {f1:.2f} AUROC = {roc_auc_score(y_test, y_pred):.2f}\")\n",
    "plt.bar(range(X.shape[1]), importances[indices], align=\"center\", color = '#0fa7d1')\n",
    "\n",
    "## color the 4 biggest bars in a different color\n",
    "plt.bar(range(X.shape[1]), importances[indices], align=\"center\", color = '#0fa7d1')\n",
    "plt.bar(range(X.shape[1])[:4], importances[indices][:4], align=\"center\", color = '#fdae61')\n",
    "\n",
    "plt.xticks(range(X.shape[1]), X.columns[indices], rotation=90)\n",
    "plt.xlim([-1, X.shape[1]])\n",
    "plt.show()"
   ]
  },
  {
   "cell_type": "markdown",
   "metadata": {},
   "source": [
    "## 3.2 trying to beat the benchmark model"
   ]
  },
  {
   "cell_type": "code",
   "execution_count": 104,
   "metadata": {},
   "outputs": [],
   "source": [
    "#  Building the model\n",
    "# creating a function to train and evaluate the model\n",
    "def train_evaluate_model(model, X_train, y_train, X_val, y_val):\n",
    "    # training the model\n",
    "    model.fit(X_train, y_train)\n",
    "    \n",
    "    # predicting the model\n",
    "    y_pred = model.predict(X_val)\n",
    "\n",
    "    # evaluating the model\n",
    "    accuracy = accuracy_score(y_val, y_pred)\n",
    "    precision = precision_score(y_val, y_pred)\n",
    "    recall = recall_score(y_val, y_pred)\n",
    "    f1 = f1_score(y_val, y_pred)\n",
    "    roc_auc = roc_auc_score(y_val, y_pred)\n",
    "\n",
    "    # printing the metrics\n",
    "    print('Accuracy: {:.2f}%'.format(accuracy*100))\n",
    "    print('Precision: {:.2f}%'.format(precision*100))\n",
    "    print('Recall: {:.2f}%'.format(recall*100))\n",
    "    print('F1 Score: {:.2f}%'.format(f1*100))\n",
    "    print('ROC AUC: {:.2f}%'.format(roc_auc*100))\n",
    "\n",
    "    # plotting the confusion matrix and ROC AUC curve side by side\n",
    "    fig, (ax1, ax2) = plt.subplots(1, 2, figsize=(6, 3))\n",
    "\n",
    "    # Confusion Matrix\n",
    "    cm = confusion_matrix(y_val, y_pred)\n",
    "    sns.heatmap(cm, annot=True, ax=ax1, cmap='Blues', fmt='g')\n",
    "    ax1.set_xlabel('Predicted labels')\n",
    "    ax1.set_ylabel('True labels')\n",
    "    ax1.set_title('Confusion Matrix')\n",
    "    ax1.xaxis.set_ticklabels(['No', 'Yes'])\n",
    "    ax1.yaxis.set_ticklabels(['No', 'Yes'])\n",
    "\n",
    "    # ROC Curve\n",
    "    y_pred_proba = model.predict_proba(X_val)[:, 1]\n",
    "    fpr, tpr, thresholds = roc_curve(y_val, y_pred_proba)\n",
    "    ax2.plot([0, 1], [0, 1], 'k--')\n",
    "    ax2.plot(fpr, tpr)\n",
    "    ax2.set_xlabel('False Positive Rate')\n",
    "    ax2.set_ylabel('True Positive Rate')\n",
    "    ax2.set_title('ROC Curve - AUC = {:.2f}'.format(roc_auc))\n",
    "\n",
    "    # Adjust the spacing between plots\n",
    "    plt.tight_layout()\n",
    "    \n",
    "\n",
    "    # Show the plots\n",
    "    plt.show()"
   ]
  },
  {
   "cell_type": "code",
   "execution_count": 107,
   "metadata": {},
   "outputs": [
    {
     "name": "stdout",
     "output_type": "stream",
     "text": [
      "XGBoost Classifier with most important features:\n",
      "Accuracy: 76.88%\n",
      "Precision: 74.40%\n",
      "Recall: 77.80%\n",
      "F1 Score: 76.06%\n",
      "ROC AUC: 76.93%\n"
     ]
    },
    {
     "data": {
      "image/png": "[encoded data removed]",
      "text/plain": [
       "<Figure size 600x300 with 3 Axes>"
      ]
     },
     "metadata": {},
     "output_type": "display_data"
    }
   ],
   "source": [
    "# xgb classifier with most important features\n",
    "from sklearn.model_selection import train_test_split\n",
    "\n",
    "X = df_.drop('offer_completed', axis=1)[['memberdays', 'customer_income', 'offer_duration','age']]\n",
    "y = df_['offer_completed']\n",
    "\n",
    "X_train, X_test, y_train, y_test = train_test_split(X, y, test_size=0.2, random_state=42, stratify=df_['offer_completed'])\n",
    "X_train, X_val, y_train, y_val = train_test_split(X_train, y_train, test_size=0.2, random_state=42, stratify=y_train)\n",
    "\n",
    "xgb = XGBClassifier(random_state=42)\n",
    "print('XGBoost Classifier with most important features:')\n",
    "train_evaluate_model(xgb, X_train, y_train, X_val, y_val)"
   ]
  },
  {
   "cell_type": "code",
   "execution_count": 108,
   "metadata": {},
   "outputs": [
    {
     "name": "stdout",
     "output_type": "stream",
     "text": [
      "XGBoost Classifier with all features:\n",
      "Accuracy: 78.29%\n",
      "Precision: 75.70%\n",
      "Recall: 79.58%\n",
      "F1 Score: 77.59%\n",
      "ROC AUC: 78.36%\n"
     ]
    },
    {
     "data": {
      "image/png": "[encoded data removed]",
      "text/plain": [
       "<Figure size 600x300 with 3 Axes>"
      ]
     },
     "metadata": {},
     "output_type": "display_data"
    }
   ],
   "source": [
    "# xgb classifier    \n",
    "from sklearn.model_selection import train_test_split\n",
    "\n",
    "X = df_.drop('offer_completed', axis=1)\n",
    "y = df_['offer_completed']\n",
    "\n",
    "X_train, X_test, y_train, y_test = train_test_split(X, y, test_size=0.2, random_state=42, stratify=df_['offer_completed'])\n",
    "X_train, X_val, y_train, y_val = train_test_split(X_train, y_train, test_size=0.2, random_state=42, stratify=y_train)\n",
    "\n",
    "xgb = XGBClassifier(random_state=42)\n",
    "print('XGBoost Classifier with all features:')\n",
    "train_evaluate_model(xgb, X_train, y_train, X_val, y_val)"
   ]
  },
  {
   "cell_type": "code",
   "execution_count": 34,
   "metadata": {},
   "outputs": [
    {
     "name": "stdout",
     "output_type": "stream",
     "text": [
      "              precision    recall  f1-score   support\n",
      "\n",
      "           0       0.80      0.77      0.79      5830\n",
      "           1       0.75      0.79      0.77      5215\n",
      "\n",
      "    accuracy                           0.78     11045\n",
      "   macro avg       0.78      0.78      0.78     11045\n",
      "weighted avg       0.78      0.78      0.78     11045\n",
      "\n"
     ]
    }
   ],
   "source": [
    "# import classification_report\n",
    "from sklearn.metrics import classification_report\n",
    "predictions = xgb.predict(X_test)\n",
    "print(classification_report(y_test, predictions))"
   ]
  },
  {
   "cell_type": "markdown",
   "metadata": {},
   "source": [
    "# 4. Deploying sagemaker model"
   ]
  },
  {
   "cell_type": "code",
   "execution_count": 3,
   "metadata": {},
   "outputs": [],
   "source": [
    "import boto3\n",
    "import sagemaker\n",
    "from sagemaker import get_execution_role\n",
    "from sagemaker.amazon.amazon_estimator import get_image_uri\n",
    "from sagemaker.tuner import IntegerParameter, ContinuousParameter, HyperparameterTuner"
   ]
  },
  {
   "cell_type": "markdown",
   "metadata": {},
   "source": [
    "## 4.1 Setting up tran and test data"
   ]
  },
  {
   "cell_type": "code",
   "execution_count": 36,
   "metadata": {},
   "outputs": [],
   "source": [
    "X = df_.drop('offer_completed', axis=1)\n",
    "y = df_['offer_completed']\n",
    "X_train, X_test, y_train, y_test = train_test_split(X, y, test_size=0.2, random_state=42, stratify=df_['offer_completed'])"
   ]
  },
  {
   "cell_type": "code",
   "execution_count": 75,
   "metadata": {},
   "outputs": [],
   "source": [
    "train_data = pd.concat([y_train,X_train], axis=1)\n",
    "train_data.to_csv('train_data.csv', index=False,header=False)\n",
    "\n",
    "test_data = pd.concat([y_test,X_test], axis=1)\n",
    "test_data.to_csv('test_data.csv', index=False,header=False)"
   ]
  },
  {
   "cell_type": "code",
   "execution_count": 4,
   "metadata": {},
   "outputs": [],
   "source": [
    "sagemaker_session = sagemaker.Session()\n",
    "bucket = 'udacity-capstone-bucket-starbucks'"
   ]
  },
  {
   "cell_type": "code",
   "execution_count": 6,
   "metadata": {},
   "outputs": [],
   "source": [
    "prefix = 'xgboost-example'\n",
    "input_train = sagemaker_session.upload_data(path='train_data.csv', bucket=bucket, key_prefix=prefix + '/train')\n",
    "input_test = sagemaker_session.upload_data(path='test_data.csv', bucket=bucket, key_prefix=prefix + '/test')"
   ]
  },
  {
   "cell_type": "markdown",
   "metadata": {},
   "source": [
    "## 4.2 Create estimator and data channels"
   ]
  },
  {
   "cell_type": "code",
   "execution_count": 7,
   "metadata": {},
   "outputs": [
    {
     "name": "stderr",
     "output_type": "stream",
     "text": [
      "The method get_image_uri has been renamed in sagemaker>=2.\n",
      "See: https://sagemaker.readthedocs.io/en/stable/v2.html for details.\n"
     ]
    }
   ],
   "source": [
    "container = get_image_uri(boto3.Session().region_name, 'xgboost')"
   ]
  },
  {
   "cell_type": "code",
   "execution_count": 8,
   "metadata": {},
   "outputs": [],
   "source": [
    "role = get_execution_role()\n",
    "\n",
    "xgb = sagemaker.estimator.Estimator(container,\n",
    "                                    role,\n",
    "                                    instance_count=1,\n",
    "                                    instance_type='ml.m4.xlarge',\n",
    "                                    output_path=f's3://{bucket}/{prefix}/output',\n",
    "                                    sagemaker_session=sagemaker_session)"
   ]
  },
  {
   "cell_type": "code",
   "execution_count": 15,
   "metadata": {},
   "outputs": [],
   "source": [
    "train_data = sagemaker.inputs.TrainingInput(s3_data=input_train, content_type='csv')\n",
    "test_data = sagemaker.inputs.TrainingInput(s3_data=input_test, content_type='csv')\n",
    "\n",
    "data_channels = {'train': train_data, 'validation': test_data}"
   ]
  },
  {
   "cell_type": "markdown",
   "metadata": {},
   "source": [
    "## 4.3 Improiving model with hyperparameter tunning."
   ]
  },
  {
   "cell_type": "code",
   "execution_count": 22,
   "metadata": {},
   "outputs": [
    {
     "name": "stderr",
     "output_type": "stream",
     "text": [
      "INFO:sagemaker:Creating hyperparameter tuning job with name: xgb-tuning-230527-1815\n"
     ]
    },
    {
     "name": "stdout",
     "output_type": "stream",
     "text": [
      "....................................................................................................!\n"
     ]
    }
   ],
   "source": [
    "# Set the hyperparameters to tune\n",
    "hyperparameter_ranges = {\n",
    "    'max_depth': IntegerParameter(1, 10),\n",
    "    'eta': ContinuousParameter(0.01, 0.2),\n",
    "    'min_child_weight': IntegerParameter(1, 10),\n",
    "    'subsample': ContinuousParameter(0.5, 0.9),\n",
    "    'gamma': ContinuousParameter(0, 5),\n",
    "    'num_round': IntegerParameter(1, 100)\n",
    "}\n",
    "\n",
    "# Create a hyperparameter tuner\n",
    "tuner = HyperparameterTuner(\n",
    "    estimator=xgb,\n",
    "    objective_metric_name='validation:auc',\n",
    "    hyperparameter_ranges=hyperparameter_ranges,\n",
    "    max_jobs=10,\n",
    "    max_parallel_jobs=2,\n",
    "    objective_type='Maximize',\n",
    "    base_tuning_job_name='xgb-tuning'\n",
    ")\n",
    "\n",
    "# Launch the hyperparameter tuning job\n",
    "tuner.fit(data_channels)"
   ]
  },
  {
   "cell_type": "code",
   "execution_count": 38,
   "metadata": {},
   "outputs": [
    {
     "name": "stdout",
     "output_type": "stream",
     "text": [
      "\n",
      "2023-05-27 18:22:55 Starting - Found matching resource for reuse\n",
      "2023-05-27 18:22:55 Downloading - Downloading input data\n",
      "2023-05-27 18:22:55 Training - Training image download completed. Training in progress.\n",
      "2023-05-27 18:22:55 Uploading - Uploading generated training model\n",
      "2023-05-27 18:22:55 Completed - Resource reused by training job: xgb-tuning-230527-1815-010-d82b3097\n",
      "{'_tuning_objective_metric': 'validation:auc', 'eta': '0.17387543703320496', 'gamma': '0.8793205628869338', 'max_depth': '7', 'min_child_weight': '6', 'num_round': '94', 'objective': 'binary:logistic', 'subsample': '0.6442264736579597'}\n"
     ]
    }
   ],
   "source": [
    "best_params = tuner.best_estimator().hyperparameters();\n",
    "print(best_params)"
   ]
  },
  {
   "cell_type": "code",
   "execution_count": 40,
   "metadata": {},
   "outputs": [
    {
     "data": {
      "text/plain": [
       "{'_tuning_objective_metric': 'validation:auc',\n",
       " 'eta': '0.17387543703320496',\n",
       " 'gamma': '0.8793205628869338',\n",
       " 'max_depth': '7',\n",
       " 'min_child_weight': '6',\n",
       " 'num_round': '94',\n",
       " 'objective': 'binary:logistic',\n",
       " 'subsample': '0.6442264736579597'}"
      ]
     },
     "execution_count": 40,
     "metadata": {},
     "output_type": "execute_result"
    }
   ],
   "source": [
    "best_params"
   ]
  },
  {
   "cell_type": "code",
   "execution_count": 41,
   "metadata": {},
   "outputs": [],
   "source": [
    "xgb_tunned = sagemaker.estimator.Estimator(container,\n",
    "                                            role,\n",
    "                                            instance_count=1,\n",
    "                                            instance_type='ml.m4.xlarge',\n",
    "                                            output_path=f's3://{bucket}/{prefix}/output',\n",
    "                                            sagemaker_session=sagemaker_session)\n",
    "\n",
    "xgb_tunned.set_hyperparameters(max_depth = best_params['max_depth'],\n",
    "                                eta = best_params['eta'],\n",
    "                                gamma = best_params['gamma'],\n",
    "                                min_child_weight = best_params['min_child_weight'],\n",
    "                                num_round = best_params['num_round'],\n",
    "                                objective = best_params['objective'],\n",
    "                                subsample = best_params['subsample'])"
   ]
  },
  {
   "cell_type": "code",
   "execution_count": null,
   "metadata": {},
   "outputs": [],
   "source": [
    "## 4.4 Training and deploying the model with best parameters"
   ]
  },
  {
   "cell_type": "code",
   "execution_count": 42,
   "metadata": {
    "scrolled": true
   },
   "outputs": [
    {
     "name": "stderr",
     "output_type": "stream",
     "text": [
      "INFO:sagemaker:Creating training-job with name: xgboost-2023-05-27-18-41-16-385\n"
     ]
    },
    {
     "name": "stdout",
     "output_type": "stream",
     "text": [
      "2023-05-27 18:41:16 Starting - Starting the training job...\n",
      "2023-05-27 18:41:52 Starting - Preparing the instances for training.........\n",
      "2023-05-27 18:43:16 Downloading - Downloading input data...\n",
      "2023-05-27 18:43:47 Training - Downloading the training image......\n",
      "2023-05-27 18:44:48 Uploading - Uploading generated training model\u001b[34mArguments: train\u001b[0m\n",
      "\u001b[34m[2023-05-27:18:44:43:INFO] Running standalone xgboost training.\u001b[0m\n",
      "\u001b[34m[2023-05-27:18:44:43:INFO] File size need to be processed in the node: 2.05mb. Available memory size in the node: 8594.84mb\u001b[0m\n",
      "\u001b[34m[2023-05-27:18:44:43:INFO] Determined delimiter of CSV input is ','\u001b[0m\n",
      "\u001b[34m[18:44:43] S3DistributionType set as FullyReplicated\u001b[0m\n",
      "\u001b[34m[18:44:43] 44177x13 matrix with 574301 entries loaded from /opt/ml/input/data/train?format=csv&label_column=0&delimiter=,\u001b[0m\n",
      "\u001b[34m[2023-05-27:18:44:43:INFO] Determined delimiter of CSV input is ','\u001b[0m\n",
      "\u001b[34m[18:44:43] S3DistributionType set as FullyReplicated\u001b[0m\n",
      "\u001b[34m[18:44:43] 11045x13 matrix with 143585 entries loaded from /opt/ml/input/data/validation?format=csv&label_column=0&delimiter=,\u001b[0m\n",
      "\u001b[34m[18:44:43] src/tree/updater_prune.cc:74: tree pruning end, 1 roots, 110 extra nodes, 8 pruned nodes, max_depth=7\u001b[0m\n",
      "\u001b[34m[0]#011train-error:0.223419#011validation-error:0.228067\u001b[0m\n",
      "\u001b[34m[18:44:43] src/tree/updater_prune.cc:74: tree pruning end, 1 roots, 122 extra nodes, 2 pruned nodes, max_depth=7\u001b[0m\n",
      "\u001b[34m[1]#011train-error:0.221133#011validation-error:0.227343\u001b[0m\n",
      "\u001b[34m[18:44:43] src/tree/updater_prune.cc:74: tree pruning end, 1 roots, 118 extra nodes, 2 pruned nodes, max_depth=7\u001b[0m\n",
      "\u001b[34m[2]#011train-error:0.219752#011validation-error:0.226618\u001b[0m\n",
      "\u001b[34m[18:44:43] src/tree/updater_prune.cc:74: tree pruning end, 1 roots, 120 extra nodes, 6 pruned nodes, max_depth=7\u001b[0m\n",
      "\u001b[34m[3]#011train-error:0.219186#011validation-error:0.225532\u001b[0m\n",
      "\u001b[34m[18:44:43] src/tree/updater_prune.cc:74: tree pruning end, 1 roots, 112 extra nodes, 4 pruned nodes, max_depth=7\u001b[0m\n",
      "\u001b[34m[4]#011train-error:0.218734#011validation-error:0.225441\u001b[0m\n",
      "\u001b[34m[18:44:43] src/tree/updater_prune.cc:74: tree pruning end, 1 roots, 118 extra nodes, 8 pruned nodes, max_depth=7\u001b[0m\n",
      "\u001b[34m[5]#011train-error:0.216945#011validation-error:0.224264\u001b[0m\n",
      "\u001b[34m[18:44:44] src/tree/updater_prune.cc:74: tree pruning end, 1 roots, 116 extra nodes, 0 pruned nodes, max_depth=7\u001b[0m\n",
      "\u001b[34m[6]#011train-error:0.217421#011validation-error:0.22345\u001b[0m\n",
      "\u001b[34m[18:44:44] src/tree/updater_prune.cc:74: tree pruning end, 1 roots, 114 extra nodes, 4 pruned nodes, max_depth=7\u001b[0m\n",
      "\u001b[34m[7]#011train-error:0.216764#011validation-error:0.224989\u001b[0m\n",
      "\u001b[34m[18:44:44] src/tree/updater_prune.cc:74: tree pruning end, 1 roots, 112 extra nodes, 4 pruned nodes, max_depth=7\u001b[0m\n",
      "\u001b[34m[8]#011train-error:0.216176#011validation-error:0.22517\u001b[0m\n",
      "\u001b[34m[18:44:44] src/tree/updater_prune.cc:74: tree pruning end, 1 roots, 114 extra nodes, 0 pruned nodes, max_depth=7\u001b[0m\n",
      "\u001b[34m[9]#011train-error:0.2157#011validation-error:0.224898\u001b[0m\n",
      "\u001b[34m[18:44:44] src/tree/updater_prune.cc:74: tree pruning end, 1 roots, 114 extra nodes, 0 pruned nodes, max_depth=7\u001b[0m\n",
      "\u001b[34m[10]#011train-error:0.215338#011validation-error:0.224083\u001b[0m\n",
      "\u001b[34m[18:44:44] src/tree/updater_prune.cc:74: tree pruning end, 1 roots, 122 extra nodes, 4 pruned nodes, max_depth=7\u001b[0m\n",
      "\u001b[34m[11]#011train-error:0.214501#011validation-error:0.223721\u001b[0m\n",
      "\u001b[34m[18:44:44] src/tree/updater_prune.cc:74: tree pruning end, 1 roots, 116 extra nodes, 4 pruned nodes, max_depth=7\u001b[0m\n",
      "\u001b[34m[12]#011train-error:0.214161#011validation-error:0.223631\u001b[0m\n",
      "\u001b[34m[18:44:44] src/tree/updater_prune.cc:74: tree pruning end, 1 roots, 118 extra nodes, 0 pruned nodes, max_depth=7\u001b[0m\n",
      "\u001b[34m[13]#011train-error:0.213097#011validation-error:0.224264\u001b[0m\n",
      "\u001b[34m[18:44:44] src/tree/updater_prune.cc:74: tree pruning end, 1 roots, 110 extra nodes, 2 pruned nodes, max_depth=7\u001b[0m\n",
      "\u001b[34m[14]#011train-error:0.212645#011validation-error:0.224717\u001b[0m\n",
      "\u001b[34m[18:44:44] src/tree/updater_prune.cc:74: tree pruning end, 1 roots, 104 extra nodes, 2 pruned nodes, max_depth=7\u001b[0m\n",
      "\u001b[34m[15]#011train-error:0.211784#011validation-error:0.223812\u001b[0m\n",
      "\u001b[34m[18:44:44] src/tree/updater_prune.cc:74: tree pruning end, 1 roots, 100 extra nodes, 2 pruned nodes, max_depth=7\u001b[0m\n",
      "\u001b[34m[16]#011train-error:0.211468#011validation-error:0.223631\u001b[0m\n",
      "\u001b[34m[18:44:44] src/tree/updater_prune.cc:74: tree pruning end, 1 roots, 80 extra nodes, 4 pruned nodes, max_depth=7\u001b[0m\n",
      "\u001b[34m[17]#011train-error:0.211694#011validation-error:0.222997\u001b[0m\n",
      "\u001b[34m[18:44:44] src/tree/updater_prune.cc:74: tree pruning end, 1 roots, 88 extra nodes, 2 pruned nodes, max_depth=7\u001b[0m\n",
      "\u001b[34m[18]#011train-error:0.211354#011validation-error:0.223721\u001b[0m\n",
      "\u001b[34m[18:44:44] src/tree/updater_prune.cc:74: tree pruning end, 1 roots, 80 extra nodes, 2 pruned nodes, max_depth=7\u001b[0m\n",
      "\u001b[34m[19]#011train-error:0.210766#011validation-error:0.223721\u001b[0m\n",
      "\u001b[34m[18:44:44] src/tree/updater_prune.cc:74: tree pruning end, 1 roots, 48 extra nodes, 6 pruned nodes, max_depth=7\u001b[0m\n",
      "\u001b[34m[20]#011train-error:0.210766#011validation-error:0.223902\u001b[0m\n",
      "\u001b[34m[18:44:44] src/tree/updater_prune.cc:74: tree pruning end, 1 roots, 76 extra nodes, 0 pruned nodes, max_depth=7\u001b[0m\n",
      "\u001b[34m[21]#011train-error:0.21029#011validation-error:0.225351\u001b[0m\n",
      "\u001b[34m[18:44:44] src/tree/updater_prune.cc:74: tree pruning end, 1 roots, 102 extra nodes, 6 pruned nodes, max_depth=7\u001b[0m\n",
      "\u001b[34m[22]#011train-error:0.210313#011validation-error:0.223812\u001b[0m\n",
      "\u001b[34m[18:44:44] src/tree/updater_prune.cc:74: tree pruning end, 1 roots, 62 extra nodes, 0 pruned nodes, max_depth=7\u001b[0m\n",
      "\u001b[34m[23]#011train-error:0.209883#011validation-error:0.224445\u001b[0m\n",
      "\u001b[34m[18:44:44] src/tree/updater_prune.cc:74: tree pruning end, 1 roots, 60 extra nodes, 2 pruned nodes, max_depth=7\u001b[0m\n",
      "\u001b[34m[24]#011train-error:0.209204#011validation-error:0.223631\u001b[0m\n",
      "\u001b[34m[18:44:44] src/tree/updater_prune.cc:74: tree pruning end, 1 roots, 40 extra nodes, 4 pruned nodes, max_depth=7\u001b[0m\n",
      "\u001b[34m[25]#011train-error:0.209204#011validation-error:0.223268\u001b[0m\n",
      "\u001b[34m[18:44:44] src/tree/updater_prune.cc:74: tree pruning end, 1 roots, 56 extra nodes, 2 pruned nodes, max_depth=7\u001b[0m\n",
      "\u001b[34m[26]#011train-error:0.208842#011validation-error:0.222635\u001b[0m\n",
      "\u001b[34m[18:44:44] src/tree/updater_prune.cc:74: tree pruning end, 1 roots, 56 extra nodes, 0 pruned nodes, max_depth=7\u001b[0m\n",
      "\u001b[34m[27]#011train-error:0.208842#011validation-error:0.222544\u001b[0m\n",
      "\u001b[34m[18:44:44] src/tree/updater_prune.cc:74: tree pruning end, 1 roots, 50 extra nodes, 2 pruned nodes, max_depth=7\u001b[0m\n",
      "\u001b[34m[28]#011train-error:0.208412#011validation-error:0.222725\u001b[0m\n",
      "\u001b[34m[18:44:44] src/tree/updater_prune.cc:74: tree pruning end, 1 roots, 72 extra nodes, 0 pruned nodes, max_depth=7\u001b[0m\n",
      "\u001b[34m[29]#011train-error:0.207982#011validation-error:0.222725\u001b[0m\n",
      "\u001b[34m[18:44:44] src/tree/updater_prune.cc:74: tree pruning end, 1 roots, 96 extra nodes, 4 pruned nodes, max_depth=7\u001b[0m\n",
      "\u001b[34m[30]#011train-error:0.208321#011validation-error:0.223359\u001b[0m\n",
      "\u001b[34m[18:44:44] src/tree/updater_prune.cc:74: tree pruning end, 1 roots, 70 extra nodes, 0 pruned nodes, max_depth=7\u001b[0m\n",
      "\u001b[34m[31]#011train-error:0.207393#011validation-error:0.224083\u001b[0m\n",
      "\u001b[34m[18:44:45] src/tree/updater_prune.cc:74: tree pruning end, 1 roots, 46 extra nodes, 2 pruned nodes, max_depth=7\u001b[0m\n",
      "\u001b[34m[32]#011train-error:0.207348#011validation-error:0.224083\u001b[0m\n",
      "\u001b[34m[18:44:45] src/tree/updater_prune.cc:74: tree pruning end, 1 roots, 88 extra nodes, 6 pruned nodes, max_depth=7\u001b[0m\n",
      "\u001b[34m[33]#011train-error:0.207099#011validation-error:0.223993\u001b[0m\n",
      "\u001b[34m[18:44:45] src/tree/updater_prune.cc:74: tree pruning end, 1 roots, 60 extra nodes, 0 pruned nodes, max_depth=7\u001b[0m\n",
      "\u001b[34m[34]#011train-error:0.206986#011validation-error:0.224264\u001b[0m\n",
      "\u001b[34m[18:44:45] src/tree/updater_prune.cc:74: tree pruning end, 1 roots, 36 extra nodes, 2 pruned nodes, max_depth=7\u001b[0m\n",
      "\u001b[34m[35]#011train-error:0.207144#011validation-error:0.223812\u001b[0m\n",
      "\u001b[34m[18:44:45] src/tree/updater_prune.cc:74: tree pruning end, 1 roots, 60 extra nodes, 4 pruned nodes, max_depth=7\u001b[0m\n",
      "\u001b[34m[36]#011train-error:0.206714#011validation-error:0.223993\u001b[0m\n",
      "\u001b[34m[18:44:45] src/tree/updater_prune.cc:74: tree pruning end, 1 roots, 74 extra nodes, 2 pruned nodes, max_depth=7\u001b[0m\n",
      "\u001b[34m[37]#011train-error:0.206306#011validation-error:0.223721\u001b[0m\n",
      "\u001b[34m[18:44:45] src/tree/updater_prune.cc:74: tree pruning end, 1 roots, 136 extra nodes, 0 pruned nodes, max_depth=7\u001b[0m\n",
      "\u001b[34m[38]#011train-error:0.205175#011validation-error:0.22354\u001b[0m\n",
      "\u001b[34m[18:44:45] src/tree/updater_prune.cc:74: tree pruning end, 1 roots, 120 extra nodes, 10 pruned nodes, max_depth=7\u001b[0m\n",
      "\u001b[34m[39]#011train-error:0.204428#011validation-error:0.223812\u001b[0m\n",
      "\u001b[34m[18:44:45] src/tree/updater_prune.cc:74: tree pruning end, 1 roots, 64 extra nodes, 2 pruned nodes, max_depth=7\u001b[0m\n",
      "\u001b[34m[40]#011train-error:0.204314#011validation-error:0.224445\u001b[0m\n",
      "\u001b[34m[18:44:45] src/tree/updater_prune.cc:74: tree pruning end, 1 roots, 70 extra nodes, 2 pruned nodes, max_depth=7\u001b[0m\n",
      "\u001b[34m[41]#011train-error:0.203907#011validation-error:0.224445\u001b[0m\n",
      "\u001b[34m[18:44:45] src/tree/updater_prune.cc:74: tree pruning end, 1 roots, 114 extra nodes, 2 pruned nodes, max_depth=7\u001b[0m\n",
      "\u001b[34m[42]#011train-error:0.203658#011validation-error:0.224536\u001b[0m\n",
      "\u001b[34m[18:44:45] src/tree/updater_prune.cc:74: tree pruning end, 1 roots, 134 extra nodes, 4 pruned nodes, max_depth=7\u001b[0m\n",
      "\u001b[34m[43]#011train-error:0.202481#011validation-error:0.224083\u001b[0m\n",
      "\u001b[34m[18:44:45] src/tree/updater_prune.cc:74: tree pruning end, 1 roots, 74 extra nodes, 2 pruned nodes, max_depth=7\u001b[0m\n",
      "\u001b[34m[44]#011train-error:0.202255#011validation-error:0.224174\u001b[0m\n",
      "\u001b[34m[18:44:45] src/tree/updater_prune.cc:74: tree pruning end, 1 roots, 144 extra nodes, 8 pruned nodes, max_depth=7\u001b[0m\n",
      "\u001b[34m[45]#011train-error:0.200896#011validation-error:0.22354\u001b[0m\n",
      "\u001b[34m[18:44:45] src/tree/updater_prune.cc:74: tree pruning end, 1 roots, 120 extra nodes, 6 pruned nodes, max_depth=7\u001b[0m\n",
      "\u001b[34m[46]#011train-error:0.200602#011validation-error:0.223812\u001b[0m\n",
      "\u001b[34m[18:44:45] src/tree/updater_prune.cc:74: tree pruning end, 1 roots, 56 extra nodes, 4 pruned nodes, max_depth=7\u001b[0m\n",
      "\u001b[34m[47]#011train-error:0.200398#011validation-error:0.223902\u001b[0m\n",
      "\u001b[34m[18:44:45] src/tree/updater_prune.cc:74: tree pruning end, 1 roots, 36 extra nodes, 0 pruned nodes, max_depth=7\u001b[0m\n",
      "\u001b[34m[48]#011train-error:0.20033#011validation-error:0.223812\u001b[0m\n",
      "\u001b[34m[18:44:45] src/tree/updater_prune.cc:74: tree pruning end, 1 roots, 126 extra nodes, 10 pruned nodes, max_depth=7\u001b[0m\n",
      "\u001b[34m[49]#011train-error:0.199244#011validation-error:0.224445\u001b[0m\n",
      "\u001b[34m[18:44:45] src/tree/updater_prune.cc:74: tree pruning end, 1 roots, 26 extra nodes, 0 pruned nodes, max_depth=7\u001b[0m\n",
      "\u001b[34m[50]#011train-error:0.199108#011validation-error:0.224445\u001b[0m\n",
      "\u001b[34m[18:44:45] src/tree/updater_prune.cc:74: tree pruning end, 1 roots, 68 extra nodes, 4 pruned nodes, max_depth=7\u001b[0m\n",
      "\u001b[34m[51]#011train-error:0.19904#011validation-error:0.224536\u001b[0m\n",
      "\u001b[34m[18:44:45] src/tree/updater_prune.cc:74: tree pruning end, 1 roots, 110 extra nodes, 0 pruned nodes, max_depth=7\u001b[0m\n",
      "\u001b[34m[52]#011train-error:0.19895#011validation-error:0.224355\u001b[0m\n",
      "\u001b[34m[18:44:45] src/tree/updater_prune.cc:74: tree pruning end, 1 roots, 110 extra nodes, 4 pruned nodes, max_depth=7\u001b[0m\n",
      "\u001b[34m[53]#011train-error:0.197908#011validation-error:0.22354\u001b[0m\n",
      "\u001b[34m[18:44:45] src/tree/updater_prune.cc:74: tree pruning end, 1 roots, 70 extra nodes, 8 pruned nodes, max_depth=7\u001b[0m\n",
      "\u001b[34m[54]#011train-error:0.197501#011validation-error:0.22345\u001b[0m\n",
      "\u001b[34m[18:44:45] src/tree/updater_prune.cc:74: tree pruning end, 1 roots, 162 extra nodes, 4 pruned nodes, max_depth=7\u001b[0m\n",
      "\u001b[34m[55]#011train-error:0.196754#011validation-error:0.222906\u001b[0m\n",
      "\u001b[34m[18:44:45] src/tree/updater_prune.cc:74: tree pruning end, 1 roots, 122 extra nodes, 2 pruned nodes, max_depth=7\u001b[0m\n",
      "\u001b[34m[56]#011train-error:0.196165#011validation-error:0.221458\u001b[0m\n",
      "\u001b[34m[18:44:45] src/tree/updater_prune.cc:74: tree pruning end, 1 roots, 98 extra nodes, 8 pruned nodes, max_depth=7\u001b[0m\n",
      "\u001b[34m[57]#011train-error:0.195781#011validation-error:0.221729\u001b[0m\n",
      "\u001b[34m[18:44:46] src/tree/updater_prune.cc:74: tree pruning end, 1 roots, 80 extra nodes, 6 pruned nodes, max_depth=7\u001b[0m\n",
      "\u001b[34m[58]#011train-error:0.195305#011validation-error:0.222091\u001b[0m\n",
      "\u001b[34m[18:44:46] src/tree/updater_prune.cc:74: tree pruning end, 1 roots, 98 extra nodes, 8 pruned nodes, max_depth=7\u001b[0m\n",
      "\u001b[34m[59]#011train-error:0.195102#011validation-error:0.22182\u001b[0m\n",
      "\u001b[34m[18:44:46] src/tree/updater_prune.cc:74: tree pruning end, 1 roots, 94 extra nodes, 2 pruned nodes, max_depth=7\u001b[0m\n",
      "\u001b[34m[60]#011train-error:0.195147#011validation-error:0.221729\u001b[0m\n",
      "\u001b[34m[18:44:46] src/tree/updater_prune.cc:74: tree pruning end, 1 roots, 46 extra nodes, 2 pruned nodes, max_depth=7\u001b[0m\n",
      "\u001b[34m[61]#011train-error:0.194604#011validation-error:0.221639\u001b[0m\n",
      "\u001b[34m[18:44:46] src/tree/updater_prune.cc:74: tree pruning end, 1 roots, 86 extra nodes, 2 pruned nodes, max_depth=7\u001b[0m\n",
      "\u001b[34m[62]#011train-error:0.194536#011validation-error:0.22182\u001b[0m\n",
      "\u001b[34m[18:44:46] src/tree/updater_prune.cc:74: tree pruning end, 1 roots, 48 extra nodes, 4 pruned nodes, max_depth=7\u001b[0m\n",
      "\u001b[34m[63]#011train-error:0.194717#011validation-error:0.222182\u001b[0m\n",
      "\u001b[34m[18:44:46] src/tree/updater_prune.cc:74: tree pruning end, 1 roots, 68 extra nodes, 2 pruned nodes, max_depth=7\u001b[0m\n",
      "\u001b[34m[64]#011train-error:0.194332#011validation-error:0.222363\u001b[0m\n",
      "\u001b[34m[18:44:46] src/tree/updater_prune.cc:74: tree pruning end, 1 roots, 32 extra nodes, 0 pruned nodes, max_depth=7\u001b[0m\n",
      "\u001b[34m[65]#011train-error:0.194355#011validation-error:0.22191\u001b[0m\n",
      "\u001b[34m[18:44:46] src/tree/updater_prune.cc:74: tree pruning end, 1 roots, 102 extra nodes, 6 pruned nodes, max_depth=7\u001b[0m\n",
      "\u001b[34m[66]#011train-error:0.193698#011validation-error:0.222091\u001b[0m\n",
      "\u001b[34m[18:44:46] src/tree/updater_prune.cc:74: tree pruning end, 1 roots, 72 extra nodes, 2 pruned nodes, max_depth=7\u001b[0m\n",
      "\u001b[34m[67]#011train-error:0.193585#011validation-error:0.222273\u001b[0m\n",
      "\u001b[34m[18:44:46] src/tree/updater_prune.cc:74: tree pruning end, 1 roots, 100 extra nodes, 0 pruned nodes, max_depth=7\u001b[0m\n",
      "\u001b[34m[68]#011train-error:0.1932#011validation-error:0.221639\u001b[0m\n",
      "\u001b[34m[18:44:46] src/tree/updater_prune.cc:74: tree pruning end, 1 roots, 106 extra nodes, 2 pruned nodes, max_depth=7\u001b[0m\n",
      "\u001b[34m[69]#011train-error:0.192702#011validation-error:0.220914\u001b[0m\n",
      "\u001b[34m[18:44:46] src/tree/updater_prune.cc:74: tree pruning end, 1 roots, 172 extra nodes, 6 pruned nodes, max_depth=7\u001b[0m\n",
      "\u001b[34m[70]#011train-error:0.192204#011validation-error:0.221729\u001b[0m\n",
      "\u001b[34m[18:44:46] src/tree/updater_prune.cc:74: tree pruning end, 1 roots, 118 extra nodes, 2 pruned nodes, max_depth=7\u001b[0m\n",
      "\u001b[34m[71]#011train-error:0.191887#011validation-error:0.22182\u001b[0m\n",
      "\u001b[34m[18:44:46] src/tree/updater_prune.cc:74: tree pruning end, 1 roots, 66 extra nodes, 0 pruned nodes, max_depth=7\u001b[0m\n",
      "\u001b[34m[72]#011train-error:0.191661#011validation-error:0.221458\u001b[0m\n",
      "\u001b[34m[18:44:46] src/tree/updater_prune.cc:74: tree pruning end, 1 roots, 78 extra nodes, 0 pruned nodes, max_depth=7\u001b[0m\n",
      "\u001b[34m[73]#011train-error:0.191434#011validation-error:0.222001\u001b[0m\n",
      "\u001b[34m[18:44:46] src/tree/updater_prune.cc:74: tree pruning end, 1 roots, 60 extra nodes, 2 pruned nodes, max_depth=7\u001b[0m\n",
      "\u001b[34m[74]#011train-error:0.190959#011validation-error:0.22191\u001b[0m\n",
      "\u001b[34m[18:44:46] src/tree/updater_prune.cc:74: tree pruning end, 1 roots, 48 extra nodes, 2 pruned nodes, max_depth=7\u001b[0m\n",
      "\u001b[34m[75]#011train-error:0.190982#011validation-error:0.221548\u001b[0m\n",
      "\u001b[34m[18:44:46] src/tree/updater_prune.cc:74: tree pruning end, 1 roots, 64 extra nodes, 4 pruned nodes, max_depth=7\u001b[0m\n",
      "\u001b[34m[76]#011train-error:0.190461#011validation-error:0.222001\u001b[0m\n",
      "\u001b[34m[18:44:46] src/tree/updater_prune.cc:74: tree pruning end, 1 roots, 116 extra nodes, 0 pruned nodes, max_depth=7\u001b[0m\n",
      "\u001b[34m[77]#011train-error:0.189895#011validation-error:0.221005\u001b[0m\n",
      "\u001b[34m[18:44:46] src/tree/updater_prune.cc:74: tree pruning end, 1 roots, 56 extra nodes, 2 pruned nodes, max_depth=7\u001b[0m\n",
      "\u001b[34m[78]#011train-error:0.189601#011validation-error:0.221458\u001b[0m\n",
      "\u001b[34m[18:44:46] src/tree/updater_prune.cc:74: tree pruning end, 1 roots, 102 extra nodes, 4 pruned nodes, max_depth=7\u001b[0m\n",
      "\u001b[34m[79]#011train-error:0.189193#011validation-error:0.221277\u001b[0m\n",
      "\u001b[34m[18:44:46] src/tree/updater_prune.cc:74: tree pruning end, 1 roots, 110 extra nodes, 4 pruned nodes, max_depth=7\u001b[0m\n",
      "\u001b[34m[80]#011train-error:0.188311#011validation-error:0.220914\u001b[0m\n",
      "\u001b[34m[18:44:46] src/tree/updater_prune.cc:74: tree pruning end, 1 roots, 80 extra nodes, 2 pruned nodes, max_depth=7\u001b[0m\n",
      "\u001b[34m[81]#011train-error:0.18865#011validation-error:0.220281\u001b[0m\n",
      "\u001b[34m[18:44:46] src/tree/updater_prune.cc:74: tree pruning end, 1 roots, 86 extra nodes, 0 pruned nodes, max_depth=7\u001b[0m\n",
      "\u001b[34m[82]#011train-error:0.188197#011validation-error:0.220552\u001b[0m\n",
      "\u001b[34m[18:44:46] src/tree/updater_prune.cc:74: tree pruning end, 1 roots, 88 extra nodes, 6 pruned nodes, max_depth=7\u001b[0m\n",
      "\u001b[34m[83]#011train-error:0.187994#011validation-error:0.220552\u001b[0m\n",
      "\u001b[34m[18:44:46] src/tree/updater_prune.cc:74: tree pruning end, 1 roots, 78 extra nodes, 8 pruned nodes, max_depth=7\u001b[0m\n",
      "\u001b[34m[84]#011train-error:0.18822#011validation-error:0.221639\u001b[0m\n",
      "\u001b[34m[18:44:46] src/tree/updater_prune.cc:74: tree pruning end, 1 roots, 104 extra nodes, 2 pruned nodes, max_depth=7\u001b[0m\n",
      "\u001b[34m[85]#011train-error:0.187541#011validation-error:0.222273\u001b[0m\n",
      "\u001b[34m[18:44:46] src/tree/updater_prune.cc:74: tree pruning end, 1 roots, 96 extra nodes, 2 pruned nodes, max_depth=7\u001b[0m\n",
      "\u001b[34m[86]#011train-error:0.187247#011validation-error:0.22191\u001b[0m\n",
      "\u001b[34m[18:44:46] src/tree/updater_prune.cc:74: tree pruning end, 1 roots, 96 extra nodes, 6 pruned nodes, max_depth=7\u001b[0m\n",
      "\u001b[34m[87]#011train-error:0.186703#011validation-error:0.221186\u001b[0m\n",
      "\u001b[34m[18:44:46] src/tree/updater_prune.cc:74: tree pruning end, 1 roots, 98 extra nodes, 8 pruned nodes, max_depth=7\u001b[0m\n",
      "\u001b[34m[88]#011train-error:0.186183#011validation-error:0.221367\u001b[0m\n",
      "\u001b[34m[18:44:46] src/tree/updater_prune.cc:74: tree pruning end, 1 roots, 100 extra nodes, 0 pruned nodes, max_depth=7\u001b[0m\n",
      "\u001b[34m[89]#011train-error:0.185843#011validation-error:0.219647\u001b[0m\n",
      "\u001b[34m[18:44:47] src/tree/updater_prune.cc:74: tree pruning end, 1 roots, 122 extra nodes, 10 pruned nodes, max_depth=7\u001b[0m\n",
      "\u001b[34m[90]#011train-error:0.185594#011validation-error:0.22019\u001b[0m\n",
      "\u001b[34m[18:44:47] src/tree/updater_prune.cc:74: tree pruning end, 1 roots, 104 extra nodes, 6 pruned nodes, max_depth=7\u001b[0m\n",
      "\u001b[34m[91]#011train-error:0.185662#011validation-error:0.220009\u001b[0m\n",
      "\u001b[34m[18:44:47] src/tree/updater_prune.cc:74: tree pruning end, 1 roots, 114 extra nodes, 8 pruned nodes, max_depth=7\u001b[0m\n",
      "\u001b[34m[92]#011train-error:0.185413#011validation-error:0.2201\u001b[0m\n",
      "\u001b[34m[18:44:47] src/tree/updater_prune.cc:74: tree pruning end, 1 roots, 96 extra nodes, 0 pruned nodes, max_depth=7\u001b[0m\n",
      "\u001b[34m[93]#011train-error:0.184734#011validation-error:0.220643\u001b[0m\n",
      "\n",
      "2023-05-27 18:45:04 Completed - Training job completed\n",
      "Training seconds: 108\n",
      "Billable seconds: 108\n"
     ]
    }
   ],
   "source": [
    "xgb_tunned.fit(inputs=data_channels)"
   ]
  },
  {
   "cell_type": "code",
   "execution_count": 48,
   "metadata": {},
   "outputs": [],
   "source": [
    "model_name = 'xgboost-tunned-model'\n",
    "model = xgb_tunned.create_model(name=model_name)"
   ]
  },
  {
   "cell_type": "code",
   "execution_count": 49,
   "metadata": {},
   "outputs": [
    {
     "name": "stderr",
     "output_type": "stream",
     "text": [
      "INFO:sagemaker:Creating model with name: xgboost-tunned-model\n",
      "INFO:sagemaker:Creating endpoint-config with name xgboost-tunned-endpoint\n",
      "INFO:sagemaker:Creating endpoint with name xgboost-tunned-endpoint\n"
     ]
    },
    {
     "name": "stdout",
     "output_type": "stream",
     "text": [
      "--------!"
     ]
    }
   ],
   "source": [
    "endpoint_name = 'xgboost-tunned-endpoint'\n",
    "predictor = model.deploy(initial_instance_count=1, instance_type='ml.t2.medium', endpoint_name=endpoint_name)"
   ]
  },
  {
   "cell_type": "markdown",
   "metadata": {},
   "source": [
    "# 5. Testing Endpoint"
   ]
  },
  {
   "cell_type": "code",
   "execution_count": 50,
   "metadata": {},
   "outputs": [
    {
     "name": "stdout",
     "output_type": "stream",
     "text": [
      "The offer will likely be completed. (probability: 84.73%)\n"
     ]
    }
   ],
   "source": [
    "import json\n",
    "# Hardcoded data for prediction\n",
    "hardcoded_data = {\n",
    "\"offer_reward\":30.0,\n",
    "\"difficulty\":30.0,\n",
    "\"offer_duration\":30.0,\n",
    "\"mobile\":1.0,\n",
    "\"social\":1.0,\n",
    "\"web\":1.0,\n",
    "\"bogo\":1.0,\n",
    "\"discount\":10.0,\n",
    "\"informational\":1.0,\n",
    "\"age\":58.0,\n",
    "\"customer_income\":550000.0,\n",
    "\"memberdays\":32981.0,\n",
    "\"gender_M\":1.0\n",
    "}\n",
    "\n",
    "# Convert the hardcoded data to a list of values\n",
    "input_data = [list(hardcoded_data.values())]\n",
    "\n",
    "# Create a low-level SageMaker client\n",
    "sagemaker_client = boto3.client('sagemaker-runtime')\n",
    "\n",
    "# Specify the endpoint name\n",
    "endpoint_name = 'xgboost-tunned-endpoint'\n",
    "\n",
    "# Convert the input data to CSV format\n",
    "input_data_csv = ','.join([str(val) for val in input_data[0]])\n",
    "\n",
    "# Make a request to the endpoint\n",
    "response = sagemaker_client.invoke_endpoint(\n",
    "    EndpointName=endpoint_name,\n",
    "    ContentType='text/csv',\n",
    "    Body=input_data_csv\n",
    ")\n",
    "\n",
    "\n",
    "# Parse the response\n",
    "prediction = response['Body'].read().decode()\n",
    "prediction = json.loads(prediction)\n",
    "\n",
    "if prediction > 0.5:\n",
    "    print('The offer will likely be completed. (probability: {:.2f}%)'.format(prediction*100))\n",
    "else:\n",
    "    print('The offer will not likely be completed. (probability: {:.2f}%)'.format(prediction*100))"
   ]
  }
 ],
 "metadata": {
  "kernelspec": {
   "display_name": "conda_pytorch_p39",
   "language": "python",
   "name": "conda_pytorch_p39"
  },
  "language_info": {
   "codemirror_mode": {
    "name": "ipython",
    "version": 3
   },
   "file_extension": ".py",
   "mimetype": "text/x-python",
   "name": "python",
   "nbconvert_exporter": "python",
   "pygments_lexer": "ipython3",
   "version": "3.9.15"
  }
 },
 "nbformat": 4,
 "nbformat_minor": 2
}
